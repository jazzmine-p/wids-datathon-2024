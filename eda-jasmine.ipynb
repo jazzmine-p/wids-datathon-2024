{
 "cells": [
  {
   "cell_type": "code",
   "execution_count": 75,
   "metadata": {},
   "outputs": [],
   "source": [
    "import seaborn as sns\n",
    "import pandas as pd\n",
    "import numpy as np\n",
    "import matplotlib.pyplot as plt\n",
    "import geopandas as gpd\n",
    "from shapely.geometry import Point, Polygon\n",
    "from copy import deepcopy\n",
    "import statsmodels.api as sm\n",
    "from sklearn.model_selection import train_test_split, GridSearchCV\n",
    "from sklearn.metrics import classification_report, f1_score, mean_squared_error, roc_auc_score\n",
    "from sklearn.impute import SimpleImputer\n",
    "from sklearn.compose import ColumnTransformer\n",
    "from sklearn.pipeline import Pipeline\n",
    "from sklearn.preprocessing import OneHotEncoder, MinMaxScaler"
   ]
  },
  {
   "cell_type": "code",
   "execution_count": 2,
   "metadata": {},
   "outputs": [],
   "source": [
    "import warnings\n",
    "warnings.simplefilter(action='ignore', category=FutureWarning)"
   ]
  },
  {
   "cell_type": "code",
   "execution_count": 120,
   "metadata": {},
   "outputs": [],
   "source": [
    "train = pd.read_csv('training.csv')"
   ]
  },
  {
   "cell_type": "code",
   "execution_count": 121,
   "metadata": {},
   "outputs": [
    {
     "name": "stdout",
     "output_type": "stream",
     "text": [
      "(12906, 83)\n"
     ]
    }
   ],
   "source": [
    "# Check number of rows and columns\n",
    "print(train.shape)"
   ]
  },
  {
   "cell_type": "code",
   "execution_count": 89,
   "metadata": {},
   "outputs": [
    {
     "data": {
      "text/html": [
       "<div>\n",
       "<style scoped>\n",
       "    .dataframe tbody tr th:only-of-type {\n",
       "        vertical-align: middle;\n",
       "    }\n",
       "\n",
       "    .dataframe tbody tr th {\n",
       "        vertical-align: top;\n",
       "    }\n",
       "\n",
       "    .dataframe thead th {\n",
       "        text-align: right;\n",
       "    }\n",
       "</style>\n",
       "<table border=\"1\" class=\"dataframe\">\n",
       "  <thead>\n",
       "    <tr style=\"text-align: right;\">\n",
       "      <th></th>\n",
       "      <th>patient_id</th>\n",
       "      <th>patient_zip3</th>\n",
       "      <th>patient_age</th>\n",
       "      <th>bmi</th>\n",
       "      <th>population</th>\n",
       "      <th>density</th>\n",
       "      <th>age_median</th>\n",
       "      <th>age_under_10</th>\n",
       "      <th>age_10_to_19</th>\n",
       "      <th>age_20s</th>\n",
       "      <th>...</th>\n",
       "      <th>disabled</th>\n",
       "      <th>poverty</th>\n",
       "      <th>limited_english</th>\n",
       "      <th>commute_time</th>\n",
       "      <th>health_uninsured</th>\n",
       "      <th>veteran</th>\n",
       "      <th>Ozone</th>\n",
       "      <th>PM25</th>\n",
       "      <th>N02</th>\n",
       "      <th>DiagPeriodL90D</th>\n",
       "    </tr>\n",
       "  </thead>\n",
       "  <tbody>\n",
       "    <tr>\n",
       "      <th>count</th>\n",
       "      <td>12906.000000</td>\n",
       "      <td>12906.000000</td>\n",
       "      <td>12906.000000</td>\n",
       "      <td>3941.000000</td>\n",
       "      <td>12905.000000</td>\n",
       "      <td>12905.000000</td>\n",
       "      <td>12905.000000</td>\n",
       "      <td>12905.000000</td>\n",
       "      <td>12905.000000</td>\n",
       "      <td>12905.000000</td>\n",
       "      <td>...</td>\n",
       "      <td>12905.000000</td>\n",
       "      <td>12902.000000</td>\n",
       "      <td>12902.000000</td>\n",
       "      <td>12905.000000</td>\n",
       "      <td>12905.000000</td>\n",
       "      <td>12905.000000</td>\n",
       "      <td>12877.000000</td>\n",
       "      <td>12877.000000</td>\n",
       "      <td>12877.000000</td>\n",
       "      <td>12906.000000</td>\n",
       "    </tr>\n",
       "    <tr>\n",
       "      <th>mean</th>\n",
       "      <td>547381.196033</td>\n",
       "      <td>573.754300</td>\n",
       "      <td>59.183326</td>\n",
       "      <td>28.984539</td>\n",
       "      <td>20744.441237</td>\n",
       "      <td>1581.950419</td>\n",
       "      <td>40.502259</td>\n",
       "      <td>11.122784</td>\n",
       "      <td>12.945265</td>\n",
       "      <td>13.290376</td>\n",
       "      <td>...</td>\n",
       "      <td>13.335299</td>\n",
       "      <td>13.406950</td>\n",
       "      <td>4.474956</td>\n",
       "      <td>27.978387</td>\n",
       "      <td>8.575284</td>\n",
       "      <td>7.083376</td>\n",
       "      <td>39.822352</td>\n",
       "      <td>7.475221</td>\n",
       "      <td>16.098988</td>\n",
       "      <td>0.624516</td>\n",
       "    </tr>\n",
       "    <tr>\n",
       "      <th>std</th>\n",
       "      <td>260404.959974</td>\n",
       "      <td>275.447534</td>\n",
       "      <td>13.335216</td>\n",
       "      <td>5.696906</td>\n",
       "      <td>13886.903756</td>\n",
       "      <td>2966.305306</td>\n",
       "      <td>4.036963</td>\n",
       "      <td>1.512376</td>\n",
       "      <td>1.923974</td>\n",
       "      <td>3.354103</td>\n",
       "      <td>...</td>\n",
       "      <td>3.690949</td>\n",
       "      <td>5.222495</td>\n",
       "      <td>4.837085</td>\n",
       "      <td>5.083939</td>\n",
       "      <td>4.203482</td>\n",
       "      <td>3.109022</td>\n",
       "      <td>3.559492</td>\n",
       "      <td>1.516499</td>\n",
       "      <td>5.842501</td>\n",
       "      <td>0.484266</td>\n",
       "    </tr>\n",
       "    <tr>\n",
       "      <th>min</th>\n",
       "      <td>100063.000000</td>\n",
       "      <td>101.000000</td>\n",
       "      <td>18.000000</td>\n",
       "      <td>14.000000</td>\n",
       "      <td>635.545455</td>\n",
       "      <td>0.916667</td>\n",
       "      <td>20.600000</td>\n",
       "      <td>0.000000</td>\n",
       "      <td>6.314286</td>\n",
       "      <td>5.925000</td>\n",
       "      <td>...</td>\n",
       "      <td>4.600000</td>\n",
       "      <td>3.433333</td>\n",
       "      <td>0.000000</td>\n",
       "      <td>12.460784</td>\n",
       "      <td>2.440000</td>\n",
       "      <td>1.200000</td>\n",
       "      <td>30.939316</td>\n",
       "      <td>2.636008</td>\n",
       "      <td>2.760371</td>\n",
       "      <td>0.000000</td>\n",
       "    </tr>\n",
       "    <tr>\n",
       "      <th>25%</th>\n",
       "      <td>321517.000000</td>\n",
       "      <td>331.000000</td>\n",
       "      <td>50.000000</td>\n",
       "      <td>24.660000</td>\n",
       "      <td>9463.896552</td>\n",
       "      <td>171.857143</td>\n",
       "      <td>37.129825</td>\n",
       "      <td>10.160000</td>\n",
       "      <td>11.741176</td>\n",
       "      <td>11.013415</td>\n",
       "      <td>...</td>\n",
       "      <td>10.270492</td>\n",
       "      <td>9.663333</td>\n",
       "      <td>0.994444</td>\n",
       "      <td>24.933333</td>\n",
       "      <td>5.618750</td>\n",
       "      <td>4.929688</td>\n",
       "      <td>37.698880</td>\n",
       "      <td>6.651215</td>\n",
       "      <td>11.280694</td>\n",
       "      <td>0.000000</td>\n",
       "    </tr>\n",
       "    <tr>\n",
       "      <th>50%</th>\n",
       "      <td>543522.000000</td>\n",
       "      <td>554.000000</td>\n",
       "      <td>59.000000</td>\n",
       "      <td>28.190000</td>\n",
       "      <td>19154.190480</td>\n",
       "      <td>700.337500</td>\n",
       "      <td>40.639344</td>\n",
       "      <td>11.039216</td>\n",
       "      <td>12.923944</td>\n",
       "      <td>12.538095</td>\n",
       "      <td>...</td>\n",
       "      <td>12.884000</td>\n",
       "      <td>12.177778</td>\n",
       "      <td>2.747222</td>\n",
       "      <td>27.788235</td>\n",
       "      <td>7.465714</td>\n",
       "      <td>6.847059</td>\n",
       "      <td>39.108249</td>\n",
       "      <td>7.686577</td>\n",
       "      <td>15.589148</td>\n",
       "      <td>1.000000</td>\n",
       "    </tr>\n",
       "    <tr>\n",
       "      <th>75%</th>\n",
       "      <td>772671.750000</td>\n",
       "      <td>846.000000</td>\n",
       "      <td>67.000000</td>\n",
       "      <td>32.920000</td>\n",
       "      <td>30021.278690</td>\n",
       "      <td>1666.515385</td>\n",
       "      <td>42.934783</td>\n",
       "      <td>12.190000</td>\n",
       "      <td>14.019767</td>\n",
       "      <td>14.971053</td>\n",
       "      <td>...</td>\n",
       "      <td>15.555405</td>\n",
       "      <td>16.635556</td>\n",
       "      <td>5.976000</td>\n",
       "      <td>30.709375</td>\n",
       "      <td>10.617442</td>\n",
       "      <td>8.620000</td>\n",
       "      <td>41.136513</td>\n",
       "      <td>8.276922</td>\n",
       "      <td>20.801880</td>\n",
       "      <td>1.000000</td>\n",
       "    </tr>\n",
       "    <tr>\n",
       "      <th>max</th>\n",
       "      <td>999896.000000</td>\n",
       "      <td>999.000000</td>\n",
       "      <td>91.000000</td>\n",
       "      <td>85.000000</td>\n",
       "      <td>71374.131580</td>\n",
       "      <td>21172.000000</td>\n",
       "      <td>54.570000</td>\n",
       "      <td>17.675000</td>\n",
       "      <td>35.300000</td>\n",
       "      <td>62.100000</td>\n",
       "      <td>...</td>\n",
       "      <td>35.155556</td>\n",
       "      <td>38.347826</td>\n",
       "      <td>26.755000</td>\n",
       "      <td>48.020000</td>\n",
       "      <td>27.566102</td>\n",
       "      <td>25.200000</td>\n",
       "      <td>52.237210</td>\n",
       "      <td>11.169408</td>\n",
       "      <td>31.504775</td>\n",
       "      <td>1.000000</td>\n",
       "    </tr>\n",
       "  </tbody>\n",
       "</table>\n",
       "<p>8 rows × 72 columns</p>\n",
       "</div>"
      ],
      "text/plain": [
       "          patient_id  patient_zip3   patient_age          bmi    population  \\\n",
       "count   12906.000000  12906.000000  12906.000000  3941.000000  12905.000000   \n",
       "mean   547381.196033    573.754300     59.183326    28.984539  20744.441237   \n",
       "std    260404.959974    275.447534     13.335216     5.696906  13886.903756   \n",
       "min    100063.000000    101.000000     18.000000    14.000000    635.545455   \n",
       "25%    321517.000000    331.000000     50.000000    24.660000   9463.896552   \n",
       "50%    543522.000000    554.000000     59.000000    28.190000  19154.190480   \n",
       "75%    772671.750000    846.000000     67.000000    32.920000  30021.278690   \n",
       "max    999896.000000    999.000000     91.000000    85.000000  71374.131580   \n",
       "\n",
       "            density    age_median  age_under_10  age_10_to_19       age_20s  \\\n",
       "count  12905.000000  12905.000000  12905.000000  12905.000000  12905.000000   \n",
       "mean    1581.950419     40.502259     11.122784     12.945265     13.290376   \n",
       "std     2966.305306      4.036963      1.512376      1.923974      3.354103   \n",
       "min        0.916667     20.600000      0.000000      6.314286      5.925000   \n",
       "25%      171.857143     37.129825     10.160000     11.741176     11.013415   \n",
       "50%      700.337500     40.639344     11.039216     12.923944     12.538095   \n",
       "75%     1666.515385     42.934783     12.190000     14.019767     14.971053   \n",
       "max    21172.000000     54.570000     17.675000     35.300000     62.100000   \n",
       "\n",
       "       ...      disabled       poverty  limited_english  commute_time  \\\n",
       "count  ...  12905.000000  12902.000000     12902.000000  12905.000000   \n",
       "mean   ...     13.335299     13.406950         4.474956     27.978387   \n",
       "std    ...      3.690949      5.222495         4.837085      5.083939   \n",
       "min    ...      4.600000      3.433333         0.000000     12.460784   \n",
       "25%    ...     10.270492      9.663333         0.994444     24.933333   \n",
       "50%    ...     12.884000     12.177778         2.747222     27.788235   \n",
       "75%    ...     15.555405     16.635556         5.976000     30.709375   \n",
       "max    ...     35.155556     38.347826        26.755000     48.020000   \n",
       "\n",
       "       health_uninsured       veteran         Ozone          PM25  \\\n",
       "count      12905.000000  12905.000000  12877.000000  12877.000000   \n",
       "mean           8.575284      7.083376     39.822352      7.475221   \n",
       "std            4.203482      3.109022      3.559492      1.516499   \n",
       "min            2.440000      1.200000     30.939316      2.636008   \n",
       "25%            5.618750      4.929688     37.698880      6.651215   \n",
       "50%            7.465714      6.847059     39.108249      7.686577   \n",
       "75%           10.617442      8.620000     41.136513      8.276922   \n",
       "max           27.566102     25.200000     52.237210     11.169408   \n",
       "\n",
       "                N02  DiagPeriodL90D  \n",
       "count  12877.000000    12906.000000  \n",
       "mean      16.098988        0.624516  \n",
       "std        5.842501        0.484266  \n",
       "min        2.760371        0.000000  \n",
       "25%       11.280694        0.000000  \n",
       "50%       15.589148        1.000000  \n",
       "75%       20.801880        1.000000  \n",
       "max       31.504775        1.000000  \n",
       "\n",
       "[8 rows x 72 columns]"
      ]
     },
     "execution_count": 89,
     "metadata": {},
     "output_type": "execute_result"
    }
   ],
   "source": [
    "train.describe()"
   ]
  },
  {
   "cell_type": "code",
   "execution_count": 122,
   "metadata": {},
   "outputs": [],
   "source": [
    "train['patient_zip3'] = train['patient_zip3'].astype(str).str.zfill(5)"
   ]
  },
  {
   "cell_type": "code",
   "execution_count": 123,
   "metadata": {},
   "outputs": [
    {
     "data": {
      "text/plain": [
       "metastatic_first_novel_treatment         12882\n",
       "metastatic_first_novel_treatment_type    12882\n",
       "bmi                                       8965\n",
       "patient_race                              6385\n",
       "payer_type                                1803\n",
       "                                         ...  \n",
       "breast_cancer_diagnosis_code                 0\n",
       "patient_gender                               0\n",
       "patient_age                                  0\n",
       "patient_zip3                                 0\n",
       "DiagPeriodL90D                               0\n",
       "Length: 83, dtype: int64"
      ]
     },
     "execution_count": 123,
     "metadata": {},
     "output_type": "execute_result"
    }
   ],
   "source": [
    "# Check the number of NA in each column\n",
    "train.isna().sum().sort_values(ascending=False)"
   ]
  },
  {
   "cell_type": "code",
   "execution_count": 124,
   "metadata": {},
   "outputs": [],
   "source": [
    "# Remove the columns with more than 50% of NA and drop the columns that are not useful (ID, desc)\n",
    "#train = train.drop(columns=['metastatic_first_novel_treatment', 'metastatic_first_novel_treatment_type', 'bmi', 'patient_id', 'breast_cancer_diagnosis_desc'])\n",
    "\n",
    "# Check the number of NA in each row\n",
    "train.isna().sum(axis=1).sort_values(ascending=False)\n",
    "\n",
    "# Remove the rows with more than 5 NA values\n",
    "train = train.dropna(thresh=74)\n",
    "\n",
    "# Columns to drop\n",
    "columns_to_drop = ['metastatic_first_novel_treatment', 'metastatic_first_novel_treatment_type', 'bmi', 'patient_id', 'breast_cancer_diagnosis_desc']\n",
    "train = train.drop(columns_to_drop, axis=1)"
   ]
  },
  {
   "cell_type": "markdown",
   "metadata": {},
   "source": [
    "## EDA"
   ]
  },
  {
   "cell_type": "code",
   "execution_count": 125,
   "metadata": {},
   "outputs": [
    {
     "data": {
      "text/plain": [
       "1    8058\n",
       "0    4843\n",
       "Name: DiagPeriodL90D, dtype: int64"
      ]
     },
     "execution_count": 125,
     "metadata": {},
     "output_type": "execute_result"
    }
   ],
   "source": [
    "# Check number of each category in each column\n",
    "train['DiagPeriodL90D'].value_counts()\n",
    "\n",
    "# Dataset is skewed"
   ]
  },
  {
   "cell_type": "code",
   "execution_count": null,
   "metadata": {},
   "outputs": [],
   "source": [
    "# Create a heat map visualization of DiagPeriodL90D by zip code"
   ]
  },
  {
   "cell_type": "markdown",
   "metadata": {},
   "source": [
    "## Data Processing 1"
   ]
  },
  {
   "cell_type": "code",
   "execution_count": 212,
   "metadata": {},
   "outputs": [],
   "source": [
    "# Define features and target variable\n",
    "X = deepcopy(train.drop(columns=['DiagPeriodL90D']))\n",
    "y = deepcopy(train['DiagPeriodL90D'])\n",
    "\n",
    "# Split the data into training and testing sets\n",
    "X_train, X_val, y_train, y_val = train_test_split(X, y, test_size=0.7, random_state=42)"
   ]
  },
  {
   "cell_type": "code",
   "execution_count": 213,
   "metadata": {},
   "outputs": [],
   "source": [
    "# Define a function to process numeric columns\n",
    "def process_numeric_features(df):\n",
    "    numeric_features = df.select_dtypes(include=['int64', 'float64']).columns\n",
    "    df[numeric_features] = SimpleImputer(strategy='mean').fit_transform(df[numeric_features])\n",
    "    df[numeric_features] = MinMaxScaler().fit_transform(df[numeric_features])\n",
    "    return df"
   ]
  },
  {
   "cell_type": "code",
   "execution_count": 214,
   "metadata": {},
   "outputs": [],
   "source": [
    "X_train = process_numeric_features(X_train)\n",
    "X_val = process_numeric_features(X_val)"
   ]
  },
  {
   "cell_type": "code",
   "execution_count": 160,
   "metadata": {},
   "outputs": [],
   "source": [
    "# Build a transformer\n",
    "def transform(df):\n",
    "    categorical_columns = df.select_dtypes(include='object').columns\n",
    "\n",
    "    pipeline_cat = Pipeline(\n",
    "        steps=[('encoder', OneHotEncoder(handle_unknown='ignore'))]\n",
    "    )\n",
    "\n",
    "    preprocessor = ColumnTransformer(\n",
    "        transformers=[\n",
    "            (\"cat\", pipeline_cat, categorical_columns)\n",
    "        ]\n",
    "    )\n",
    "\n",
    "    return preprocessor"
   ]
  },
  {
   "cell_type": "code",
   "execution_count": 216,
   "metadata": {},
   "outputs": [],
   "source": [
    "# Apply transformer\n",
    "preprocessor_train = transform(X_train)\n",
    "X_train = preprocessor_train.fit_transform(X_train)\n",
    "X_val = preprocessor_train.transform(X_val)\n",
    "\n",
    "X_train = pd.DataFrame(X_train.toarray(), columns=preprocessor_train.get_feature_names_out())\n",
    "X_val = pd.DataFrame(X_val.toarray(), columns=preprocessor_train.get_feature_names_out())"
   ]
  },
  {
   "cell_type": "code",
   "execution_count": 217,
   "metadata": {},
   "outputs": [
    {
     "name": "stdout",
     "output_type": "stream",
     "text": [
      "<class 'pandas.core.frame.DataFrame'>\n",
      "(3870, 767)\n",
      "(9031, 767)\n"
     ]
    }
   ],
   "source": [
    "# check type and shape of X_train\n",
    "print(type(X_train))\n",
    "print(X_train.shape)\n",
    "print(X_val.shape)"
   ]
  },
  {
   "cell_type": "markdown",
   "metadata": {},
   "source": [
    "## Linear Regression"
   ]
  },
  {
   "cell_type": "code",
   "execution_count": 153,
   "metadata": {},
   "outputs": [],
   "source": [
    "X_train_array = X_train.toarray()\n",
    "X_val_array = X_val.toarray()"
   ]
  },
  {
   "cell_type": "code",
   "execution_count": null,
   "metadata": {},
   "outputs": [],
   "source": [
    "# Fit the OLS model\n",
    "model = sm.OLS(y_train, X_train_array)\n",
    "results = model.fit()\n",
    "\n",
    "# Print the regression results\n",
    "print(results.summary())"
   ]
  },
  {
   "cell_type": "code",
   "execution_count": null,
   "metadata": {},
   "outputs": [],
   "source": [
    "# Make prediction on test set\n",
    "y_pred = results.predict(X_val_array)\n",
    "\n",
    "# Compute R-squared for test set\n",
    "r2_score(y_pred, y_val)"
   ]
  },
  {
   "cell_type": "code",
   "execution_count": 23,
   "metadata": {},
   "outputs": [
    {
     "data": {
      "text/plain": [
       "0.06129398410896708"
      ]
     },
     "execution_count": 23,
     "metadata": {},
     "output_type": "execute_result"
    }
   ],
   "source": [
    "# Confidence interval\n",
    "conf_int = results.conf_int()\n",
    "\n",
    "# Filter features based on confidence intervals\n",
    "not_significant = (conf_int[0]) > 0 & (conf_int[1] < 0)\n",
    "\n",
    "len(not_significant[not_significant==True])/len(not_significant)\n",
    "# 6% of the features are not significant based on the CI"
   ]
  },
  {
   "cell_type": "code",
   "execution_count": null,
   "metadata": {},
   "outputs": [],
   "source": [
    "# Remove insignificant features based on their confidence intervals\n",
    "X_train_sign = X_train_array[:, ~not_significant]\n",
    "X_val_sign = X_val_array[:, ~not_significant]\n",
    "\n",
    "# Refit the linear regression\n",
    "model2 = sm.OLS(y_train, X_train_sign)\n",
    "results2 = model2.fit()\n",
    "print(results2.summary())"
   ]
  },
  {
   "cell_type": "code",
   "execution_count": 22,
   "metadata": {},
   "outputs": [
    {
     "data": {
      "text/plain": [
       "-0.4734966974659207"
      ]
     },
     "execution_count": 22,
     "metadata": {},
     "output_type": "execute_result"
    }
   ],
   "source": [
    "# Make prediction on test set\n",
    "y_pred_sign = results2.predict(X_val_sign)\n",
    "\n",
    "# Compute R-squared\n",
    "r2_score(y_pred_sign, y_val)"
   ]
  },
  {
   "cell_type": "markdown",
   "metadata": {},
   "source": [
    "## XGBoost"
   ]
  },
  {
   "cell_type": "code",
   "execution_count": 163,
   "metadata": {},
   "outputs": [],
   "source": [
    "import xgboost as xgb\n",
    "\n",
    "# Create an XGBoost classifier\n",
    "xgb_classifier = xgb.XGBClassifier()\n",
    "\n",
    "# Define a grid of hyperparameters to search over\n",
    "param_grid = {\n",
    "    'learning_rate': [0.01, 0.05, 0.1], \n",
    "    'n_estimators': [100, 200, 300]\n",
    "}"
   ]
  },
  {
   "cell_type": "code",
   "execution_count": 164,
   "metadata": {},
   "outputs": [],
   "source": [
    "# Create a GridSearchCV object to find the best hyperparameters with MSE\n",
    "grid_search = GridSearchCV(xgb_classifier, param_grid, cv=5, scoring='roc_auc')"
   ]
  },
  {
   "cell_type": "code",
   "execution_count": 165,
   "metadata": {},
   "outputs": [],
   "source": [
    "# Fit the model to the data and find the best hyperparameters\n",
    "grid_search.fit(X_train, y_train)  # X and y are your data and labels\n",
    "\n",
    "# Get the best parameters and the best estimator\n",
    "best_params = grid_search.best_params_\n",
    "best_estimator = grid_search.best_estimator_"
   ]
  },
  {
   "cell_type": "code",
   "execution_count": 166,
   "metadata": {},
   "outputs": [
    {
     "name": "stdout",
     "output_type": "stream",
     "text": [
      "Best hyperparameters: {'learning_rate': 0.01, 'n_estimators': 200}\n",
      "f1: 0.8618436589781941\n",
      "AUC: 0.7508365015702523\n"
     ]
    }
   ],
   "source": [
    "# Make prediction on the test data\n",
    "y_pred = best_estimator.predict(X_val)\n",
    "\n",
    "# Evaluate the model\n",
    "mse = mean_squared_error(y_val, y_pred)\n",
    "\n",
    "print(\"Best hyperparameters:\", best_params)\n",
    "print(\"f1:\", f1_score(y_val, y_pred))\n",
    "print(\"AUC:\", roc_auc_score(y_val, y_pred))"
   ]
  },
  {
   "cell_type": "code",
   "execution_count": 167,
   "metadata": {},
   "outputs": [
    {
     "name": "stdout",
     "output_type": "stream",
     "text": [
      "Predicted     0     1\n",
      "Actual               \n",
      "0          1802  1567\n",
      "1           188  5474\n",
      "              precision    recall  f1-score   support\n",
      "\n",
      "           0       0.91      0.53      0.67      3369\n",
      "           1       0.78      0.97      0.86      5662\n",
      "\n",
      "    accuracy                           0.81      9031\n",
      "   macro avg       0.84      0.75      0.77      9031\n",
      "weighted avg       0.83      0.81      0.79      9031\n",
      "\n"
     ]
    }
   ],
   "source": [
    "confusion_matrix = pd.crosstab(y_val, y_pred, rownames=['Actual'], colnames=['Predicted'])\n",
    "print(confusion_matrix)\n",
    "\n",
    "print(classification_report(y_val, y_pred))"
   ]
  },
  {
   "cell_type": "markdown",
   "metadata": {},
   "source": [
    "## Test"
   ]
  },
  {
   "cell_type": "code",
   "execution_count": 223,
   "metadata": {},
   "outputs": [
    {
     "data": {
      "text/plain": [
       "(5792, 82)"
      ]
     },
     "execution_count": 223,
     "metadata": {},
     "output_type": "execute_result"
    }
   ],
   "source": [
    "test = pd.read_csv('test.csv')\n",
    "test.shape"
   ]
  },
  {
   "cell_type": "code",
   "execution_count": 225,
   "metadata": {},
   "outputs": [],
   "source": [
    "test['patient_zip3'] = test['patient_zip3'].astype(str).str.zfill(5)\n",
    "\n",
    "X_test = test.copy()\n",
    "X_test = test.drop(columns=columns_to_drop)"
   ]
  },
  {
   "cell_type": "code",
   "execution_count": 226,
   "metadata": {},
   "outputs": [],
   "source": [
    "X_test = preprocessor_train.transform(test)\n",
    "X_test = pd.DataFrame(X_test.toarray(), columns=preprocessor_train.get_feature_names_out())"
   ]
  },
  {
   "cell_type": "code",
   "execution_count": 227,
   "metadata": {},
   "outputs": [],
   "source": [
    "# Make prediction on the test data - XGBoost\n",
    "y_pred = best_estimator.predict(X_test)\n",
    "\n",
    "# Save the prediction to a CSV file with two columns: patient_id and DiagPeriodL90D\n",
    "submission = pd.DataFrame({'patient_id': test['patient_id'], 'DiagPeriodL90D': y_pred})\n",
    "submission.to_csv('submission.csv', index=False)"
   ]
  },
  {
   "cell_type": "markdown",
   "metadata": {},
   "source": [
    "## Random Forest"
   ]
  },
  {
   "cell_type": "markdown",
   "metadata": {},
   "source": [
    "### Modeling"
   ]
  },
  {
   "cell_type": "code",
   "execution_count": 247,
   "metadata": {},
   "outputs": [
    {
     "data": {
      "application/javascript": "\n        if (window._pyforest_update_imports_cell) { window._pyforest_update_imports_cell('from statsmodels.tsa.arima_model import ARIMA\\nfrom sklearn.ensemble import RandomForestClassifier'); }\n    ",
      "text/plain": [
       "<IPython.core.display.Javascript object>"
      ]
     },
     "metadata": {},
     "output_type": "display_data"
    },
    {
     "name": "stdout",
     "output_type": "stream",
     "text": [
      "Fitting 5 folds for each of 18 candidates, totalling 90 fits\n"
     ]
    }
   ],
   "source": [
    "# Define grid search\n",
    "param_grid = {\n",
    "    'n_estimators': [300, 400],\n",
    "    'max_depth': [None, 20, 30],\n",
    "    'min_samples_split': [10, 20, 25]\n",
    "}\n",
    "\n",
    "# Create a Random Forest classifier\n",
    "rf_classifier = RandomForestClassifier(random_state=42, bootstrap=True)\n",
    "\n",
    "# Perform the grid search\n",
    "grid_search = GridSearchCV(estimator=rf_classifier, param_grid=param_grid, \n",
    "                           scoring='roc_auc', cv=5, n_jobs=-1, verbose=2)\n",
    "\n",
    "grid_search.fit(X_train, y_train)\n",
    "\n",
    "# Get the best parameters and the best estimator\n",
    "best_params = grid_search.best_params_\n",
    "best_rf_model = grid_search.best_estimator_"
   ]
  },
  {
   "cell_type": "code",
   "execution_count": 275,
   "metadata": {},
   "outputs": [
    {
     "name": "stdout",
     "output_type": "stream",
     "text": [
      "Best hyperparameters: {'max_depth': 20, 'min_samples_split': 25, 'n_estimators': 400}\n",
      "F1 score for best model: 0.8640861236444234\n",
      "AUC: 0.7574378208275654\n"
     ]
    }
   ],
   "source": [
    "# Make prediction on the test data\n",
    "predicted_probabilities = best_rf_model.predict_proba(X_val)\n",
    "\n",
    "# Adjust decision threshold\n",
    "custom_threshold = 0.56\n",
    "y_pred = np.vstack((predicted_probabilities[:, 1] >= custom_threshold).astype(int))\n",
    "\n",
    "# Calculate the F1 score for the best model\n",
    "f1_score_best_model = f1_score(y_val, y_pred)\n",
    "\n",
    "print(\"Best hyperparameters:\", best_params)\n",
    "print(f\"F1 score for best model: {f1_score_best_model}\")\n",
    "print(\"AUC:\", roc_auc_score(y_val, y_pred))"
   ]
  },
  {
   "cell_type": "code",
   "execution_count": 277,
   "metadata": {},
   "outputs": [
    {
     "name": "stdout",
     "output_type": "stream",
     "text": [
      "              precision    recall  f1-score   support\n",
      "\n",
      "         0.0       0.90      0.55      0.68      3369\n",
      "         1.0       0.78      0.96      0.86      5662\n",
      "\n",
      "    accuracy                           0.81      9031\n",
      "   macro avg       0.84      0.76      0.77      9031\n",
      "weighted avg       0.83      0.81      0.80      9031\n",
      "\n"
     ]
    }
   ],
   "source": [
    "print(classification_report(y_val, y_pred))"
   ]
  },
  {
   "cell_type": "code",
   "execution_count": 279,
   "metadata": {},
   "outputs": [
    {
     "data": {
      "text/html": [
       "<div>\n",
       "<style scoped>\n",
       "    .dataframe tbody tr th:only-of-type {\n",
       "        vertical-align: middle;\n",
       "    }\n",
       "\n",
       "    .dataframe tbody tr th {\n",
       "        vertical-align: top;\n",
       "    }\n",
       "\n",
       "    .dataframe thead th {\n",
       "        text-align: right;\n",
       "    }\n",
       "</style>\n",
       "<table border=\"1\" class=\"dataframe\">\n",
       "  <thead>\n",
       "    <tr style=\"text-align: right;\">\n",
       "      <th></th>\n",
       "      <th>Feature</th>\n",
       "      <th>Importance</th>\n",
       "    </tr>\n",
       "  </thead>\n",
       "  <tbody>\n",
       "    <tr>\n",
       "      <th>684</th>\n",
       "      <td>cat__breast_cancer_diagnosis_code_1749</td>\n",
       "      <td>0.523398</td>\n",
       "    </tr>\n",
       "    <tr>\n",
       "      <th>680</th>\n",
       "      <td>cat__breast_cancer_diagnosis_code_1744</td>\n",
       "      <td>0.120084</td>\n",
       "    </tr>\n",
       "    <tr>\n",
       "      <th>683</th>\n",
       "      <td>cat__breast_cancer_diagnosis_code_1748</td>\n",
       "      <td>0.099823</td>\n",
       "    </tr>\n",
       "    <tr>\n",
       "      <th>677</th>\n",
       "      <td>cat__breast_cancer_diagnosis_code_1741</td>\n",
       "      <td>0.038539</td>\n",
       "    </tr>\n",
       "    <tr>\n",
       "      <th>678</th>\n",
       "      <td>cat__breast_cancer_diagnosis_code_1742</td>\n",
       "      <td>0.036254</td>\n",
       "    </tr>\n",
       "    <tr>\n",
       "      <th>...</th>\n",
       "      <td>...</td>\n",
       "      <td>...</td>\n",
       "    </tr>\n",
       "    <tr>\n",
       "      <th>271</th>\n",
       "      <td>cat__patient_zip3_00394</td>\n",
       "      <td>0.000000</td>\n",
       "    </tr>\n",
       "    <tr>\n",
       "      <th>272</th>\n",
       "      <td>cat__patient_zip3_00395</td>\n",
       "      <td>0.000000</td>\n",
       "    </tr>\n",
       "    <tr>\n",
       "      <th>273</th>\n",
       "      <td>cat__patient_zip3_00396</td>\n",
       "      <td>0.000000</td>\n",
       "    </tr>\n",
       "    <tr>\n",
       "      <th>274</th>\n",
       "      <td>cat__patient_zip3_00398</td>\n",
       "      <td>0.000000</td>\n",
       "    </tr>\n",
       "    <tr>\n",
       "      <th>766</th>\n",
       "      <td>cat__Division_nan</td>\n",
       "      <td>0.000000</td>\n",
       "    </tr>\n",
       "  </tbody>\n",
       "</table>\n",
       "<p>767 rows × 2 columns</p>\n",
       "</div>"
      ],
      "text/plain": [
       "                                    Feature  Importance\n",
       "684  cat__breast_cancer_diagnosis_code_1749    0.523398\n",
       "680  cat__breast_cancer_diagnosis_code_1744    0.120084\n",
       "683  cat__breast_cancer_diagnosis_code_1748    0.099823\n",
       "677  cat__breast_cancer_diagnosis_code_1741    0.038539\n",
       "678  cat__breast_cancer_diagnosis_code_1742    0.036254\n",
       "..                                      ...         ...\n",
       "271                 cat__patient_zip3_00394    0.000000\n",
       "272                 cat__patient_zip3_00395    0.000000\n",
       "273                 cat__patient_zip3_00396    0.000000\n",
       "274                 cat__patient_zip3_00398    0.000000\n",
       "766                       cat__Division_nan    0.000000\n",
       "\n",
       "[767 rows x 2 columns]"
      ]
     },
     "execution_count": 279,
     "metadata": {},
     "output_type": "execute_result"
    }
   ],
   "source": [
    "feature_importances_df"
   ]
  },
  {
   "cell_type": "code",
   "execution_count": 278,
   "metadata": {},
   "outputs": [
    {
     "data": {
      "text/html": [
       "<div>\n",
       "<style scoped>\n",
       "    .dataframe tbody tr th:only-of-type {\n",
       "        vertical-align: middle;\n",
       "    }\n",
       "\n",
       "    .dataframe tbody tr th {\n",
       "        vertical-align: top;\n",
       "    }\n",
       "\n",
       "    .dataframe thead th {\n",
       "        text-align: right;\n",
       "    }\n",
       "</style>\n",
       "<table border=\"1\" class=\"dataframe\">\n",
       "  <thead>\n",
       "    <tr style=\"text-align: right;\">\n",
       "      <th></th>\n",
       "      <th>feature</th>\n",
       "      <th>total_count</th>\n",
       "      <th>unimportant_count</th>\n",
       "    </tr>\n",
       "  </thead>\n",
       "  <tbody>\n",
       "    <tr>\n",
       "      <th>38</th>\n",
       "      <td>income_household_50_to_75</td>\n",
       "      <td>725</td>\n",
       "      <td>0</td>\n",
       "    </tr>\n",
       "    <tr>\n",
       "      <th>55</th>\n",
       "      <td>education_stem_degree</td>\n",
       "      <td>728</td>\n",
       "      <td>0</td>\n",
       "    </tr>\n",
       "    <tr>\n",
       "      <th>54</th>\n",
       "      <td>education_college_or_above</td>\n",
       "      <td>736</td>\n",
       "      <td>0</td>\n",
       "    </tr>\n",
       "    <tr>\n",
       "      <th>53</th>\n",
       "      <td>education_graduate</td>\n",
       "      <td>732</td>\n",
       "      <td>0</td>\n",
       "    </tr>\n",
       "    <tr>\n",
       "      <th>52</th>\n",
       "      <td>education_bachelors</td>\n",
       "      <td>733</td>\n",
       "      <td>0</td>\n",
       "    </tr>\n",
       "    <tr>\n",
       "      <th>...</th>\n",
       "      <td>...</td>\n",
       "      <td>...</td>\n",
       "      <td>...</td>\n",
       "    </tr>\n",
       "    <tr>\n",
       "      <th>9</th>\n",
       "      <td>Division</td>\n",
       "      <td>9</td>\n",
       "      <td>8</td>\n",
       "    </tr>\n",
       "    <tr>\n",
       "      <th>7</th>\n",
       "      <td>metastatic_cancer_diagnosis_code</td>\n",
       "      <td>43</td>\n",
       "      <td>27</td>\n",
       "    </tr>\n",
       "    <tr>\n",
       "      <th>6</th>\n",
       "      <td>breast_cancer_diagnosis_code</td>\n",
       "      <td>50</td>\n",
       "      <td>34</td>\n",
       "    </tr>\n",
       "    <tr>\n",
       "      <th>2</th>\n",
       "      <td>patient_state</td>\n",
       "      <td>50</td>\n",
       "      <td>44</td>\n",
       "    </tr>\n",
       "    <tr>\n",
       "      <th>3</th>\n",
       "      <td>patient_zip3</td>\n",
       "      <td>737</td>\n",
       "      <td>615</td>\n",
       "    </tr>\n",
       "  </tbody>\n",
       "</table>\n",
       "<p>78 rows × 3 columns</p>\n",
       "</div>"
      ],
      "text/plain": [
       "                             feature total_count unimportant_count\n",
       "38         income_household_50_to_75         725                 0\n",
       "55             education_stem_degree         728                 0\n",
       "54        education_college_or_above         736                 0\n",
       "53                education_graduate         732                 0\n",
       "52               education_bachelors         733                 0\n",
       "..                               ...         ...               ...\n",
       "9                           Division           9                 8\n",
       "7   metastatic_cancer_diagnosis_code          43                27\n",
       "6       breast_cancer_diagnosis_code          50                34\n",
       "2                      patient_state          50                44\n",
       "3                       patient_zip3         737               615\n",
       "\n",
       "[78 rows x 3 columns]"
      ]
     },
     "execution_count": 278,
     "metadata": {},
     "output_type": "execute_result"
    }
   ],
   "source": [
    "# Feature importance\n",
    "feature_importances = best_estimator.feature_importances_\n",
    "feature_importances_df = pd.DataFrame({'Feature': X_train.columns, 'Importance': feature_importances})\n",
    "feature_importances_df = feature_importances_df.sort_values(by='Importance', ascending=False)\n",
    "inspect = pd.DataFrame(feature_importances_df[feature_importances_df['Importance'] < 0.001])\n",
    "\n",
    "df = pd.DataFrame(columns=['feature', 'total_count', 'unimportant_count'])\n",
    "\n",
    "for column in train.columns:\n",
    "    total_count = train[column].nunique()\n",
    "    unimportant_count = (inspect['Feature'].str.startswith('cat__'+column)).sum()\n",
    "    new_row = {'feature':column, 'total_count': total_count, 'unimportant_count': unimportant_count}\n",
    "    df = df.append(new_row, ignore_index=True)\n",
    "\n",
    "df.sort_values(by='unimportant_count', ascending=True)"
   ]
  },
  {
   "cell_type": "markdown",
   "metadata": {},
   "source": [
    "### Test"
   ]
  },
  {
   "cell_type": "code",
   "execution_count": 280,
   "metadata": {},
   "outputs": [],
   "source": [
    "# Make prediction on the test data - Random Forest\n",
    "predicted_probabilities = best_rf_model.predict_proba(X_test)\n",
    "\n",
    "# Adjust decision threshold\n",
    "custom_threshold = 0.56\n",
    "y_pred = np.vstack((predicted_probabilities[:, 1] >= custom_threshold).astype(int))\n",
    "y_pred = pd.DataFrame(y_pred, columns=[\"DiagPeriodL90D\"])\n",
    "\n",
    "# Save the prediction to a CSV file with two columns: patient_id and DiagPeriodL90D\n",
    "submission = pd.DataFrame({'patient_id': test['patient_id'], 'DiagPeriodL90D': y_pred['DiagPeriodL90D']})\n",
    "submission.to_csv('submission.csv', index=False)"
   ]
  },
  {
   "cell_type": "markdown",
   "metadata": {},
   "source": [
    "## PyCaret"
   ]
  },
  {
   "cell_type": "code",
   "execution_count": null,
   "metadata": {},
   "outputs": [],
   "source": [
    "import pyforest\n",
    "import pycaret\n",
    "pycaret.__version__\n",
    "from pycaret.classification import ClassificationExperiment"
   ]
  },
  {
   "cell_type": "code",
   "execution_count": null,
   "metadata": {},
   "outputs": [],
   "source": [
    "train2 = pd.read_csv('training.csv')\n",
    "train2['patient_zip3'] = train2['patient_zip3'].astype(str).str.zfill(5)\n",
    "# Remove the rows with more than 5 NA values\n",
    "train2 = train2.dropna(thresh=74)\n",
    "\n",
    "# Columns to drop\n",
    "columns_to_drop = ['metastatic_first_novel_treatment', 'metastatic_first_novel_treatment_type', 'bmi', 'patient_id', 'breast_cancer_diagnosis_desc']\n",
    "train2 = train2.drop(columns_to_drop, axis=1)\n",
    "\n",
    "process_numeric_features(train2)\n",
    "categorical_columns = train2.select_dtypes(include='object').columns\n",
    "train2[categorical_columns] = OneHotEncoder(handle_unknown='ignore').fit_transform(train2[categorical_columns])"
   ]
  },
  {
   "cell_type": "code",
   "execution_count": 186,
   "metadata": {},
   "outputs": [
    {
     "data": {
      "text/html": [
       "<style type=\"text/css\">\n",
       "#T_bc294_row10_col1 {\n",
       "  background-color: lightgreen;\n",
       "}\n",
       "</style>\n",
       "<table id=\"T_bc294\">\n",
       "  <thead>\n",
       "    <tr>\n",
       "      <th class=\"blank level0\" >&nbsp;</th>\n",
       "      <th id=\"T_bc294_level0_col0\" class=\"col_heading level0 col0\" >Description</th>\n",
       "      <th id=\"T_bc294_level0_col1\" class=\"col_heading level0 col1\" >Value</th>\n",
       "    </tr>\n",
       "  </thead>\n",
       "  <tbody>\n",
       "    <tr>\n",
       "      <th id=\"T_bc294_level0_row0\" class=\"row_heading level0 row0\" >0</th>\n",
       "      <td id=\"T_bc294_row0_col0\" class=\"data row0 col0\" >Session id</td>\n",
       "      <td id=\"T_bc294_row0_col1\" class=\"data row0 col1\" >123</td>\n",
       "    </tr>\n",
       "    <tr>\n",
       "      <th id=\"T_bc294_level0_row1\" class=\"row_heading level0 row1\" >1</th>\n",
       "      <td id=\"T_bc294_row1_col0\" class=\"data row1 col0\" >Target</td>\n",
       "      <td id=\"T_bc294_row1_col1\" class=\"data row1 col1\" >DiagPeriodL90D</td>\n",
       "    </tr>\n",
       "    <tr>\n",
       "      <th id=\"T_bc294_level0_row2\" class=\"row_heading level0 row2\" >2</th>\n",
       "      <td id=\"T_bc294_row2_col0\" class=\"data row2 col0\" >Target type</td>\n",
       "      <td id=\"T_bc294_row2_col1\" class=\"data row2 col1\" >Binary</td>\n",
       "    </tr>\n",
       "    <tr>\n",
       "      <th id=\"T_bc294_level0_row3\" class=\"row_heading level0 row3\" >3</th>\n",
       "      <td id=\"T_bc294_row3_col0\" class=\"data row3 col0\" >Original data shape</td>\n",
       "      <td id=\"T_bc294_row3_col1\" class=\"data row3 col1\" >(12901, 78)</td>\n",
       "    </tr>\n",
       "    <tr>\n",
       "      <th id=\"T_bc294_level0_row4\" class=\"row_heading level0 row4\" >4</th>\n",
       "      <td id=\"T_bc294_row4_col0\" class=\"data row4 col0\" >Transformed data shape</td>\n",
       "      <td id=\"T_bc294_row4_col1\" class=\"data row4 col1\" >(12901, 95)</td>\n",
       "    </tr>\n",
       "    <tr>\n",
       "      <th id=\"T_bc294_level0_row5\" class=\"row_heading level0 row5\" >5</th>\n",
       "      <td id=\"T_bc294_row5_col0\" class=\"data row5 col0\" >Transformed train set shape</td>\n",
       "      <td id=\"T_bc294_row5_col1\" class=\"data row5 col1\" >(9030, 95)</td>\n",
       "    </tr>\n",
       "    <tr>\n",
       "      <th id=\"T_bc294_level0_row6\" class=\"row_heading level0 row6\" >6</th>\n",
       "      <td id=\"T_bc294_row6_col0\" class=\"data row6 col0\" >Transformed test set shape</td>\n",
       "      <td id=\"T_bc294_row6_col1\" class=\"data row6 col1\" >(3871, 95)</td>\n",
       "    </tr>\n",
       "    <tr>\n",
       "      <th id=\"T_bc294_level0_row7\" class=\"row_heading level0 row7\" >7</th>\n",
       "      <td id=\"T_bc294_row7_col0\" class=\"data row7 col0\" >Numeric features</td>\n",
       "      <td id=\"T_bc294_row7_col1\" class=\"data row7 col1\" >68</td>\n",
       "    </tr>\n",
       "    <tr>\n",
       "      <th id=\"T_bc294_level0_row8\" class=\"row_heading level0 row8\" >8</th>\n",
       "      <td id=\"T_bc294_row8_col0\" class=\"data row8 col0\" >Categorical features</td>\n",
       "      <td id=\"T_bc294_row8_col1\" class=\"data row8 col1\" >9</td>\n",
       "    </tr>\n",
       "    <tr>\n",
       "      <th id=\"T_bc294_level0_row9\" class=\"row_heading level0 row9\" >9</th>\n",
       "      <td id=\"T_bc294_row9_col0\" class=\"data row9 col0\" >Rows with missing values</td>\n",
       "      <td id=\"T_bc294_row9_col1\" class=\"data row9 col1\" >58.5%</td>\n",
       "    </tr>\n",
       "    <tr>\n",
       "      <th id=\"T_bc294_level0_row10\" class=\"row_heading level0 row10\" >10</th>\n",
       "      <td id=\"T_bc294_row10_col0\" class=\"data row10 col0\" >Preprocess</td>\n",
       "      <td id=\"T_bc294_row10_col1\" class=\"data row10 col1\" >True</td>\n",
       "    </tr>\n",
       "    <tr>\n",
       "      <th id=\"T_bc294_level0_row11\" class=\"row_heading level0 row11\" >11</th>\n",
       "      <td id=\"T_bc294_row11_col0\" class=\"data row11 col0\" >Imputation type</td>\n",
       "      <td id=\"T_bc294_row11_col1\" class=\"data row11 col1\" >simple</td>\n",
       "    </tr>\n",
       "    <tr>\n",
       "      <th id=\"T_bc294_level0_row12\" class=\"row_heading level0 row12\" >12</th>\n",
       "      <td id=\"T_bc294_row12_col0\" class=\"data row12 col0\" >Numeric imputation</td>\n",
       "      <td id=\"T_bc294_row12_col1\" class=\"data row12 col1\" >mean</td>\n",
       "    </tr>\n",
       "    <tr>\n",
       "      <th id=\"T_bc294_level0_row13\" class=\"row_heading level0 row13\" >13</th>\n",
       "      <td id=\"T_bc294_row13_col0\" class=\"data row13 col0\" >Categorical imputation</td>\n",
       "      <td id=\"T_bc294_row13_col1\" class=\"data row13 col1\" >mode</td>\n",
       "    </tr>\n",
       "    <tr>\n",
       "      <th id=\"T_bc294_level0_row14\" class=\"row_heading level0 row14\" >14</th>\n",
       "      <td id=\"T_bc294_row14_col0\" class=\"data row14 col0\" >Maximum one-hot encoding</td>\n",
       "      <td id=\"T_bc294_row14_col1\" class=\"data row14 col1\" >25</td>\n",
       "    </tr>\n",
       "    <tr>\n",
       "      <th id=\"T_bc294_level0_row15\" class=\"row_heading level0 row15\" >15</th>\n",
       "      <td id=\"T_bc294_row15_col0\" class=\"data row15 col0\" >Encoding method</td>\n",
       "      <td id=\"T_bc294_row15_col1\" class=\"data row15 col1\" >None</td>\n",
       "    </tr>\n",
       "    <tr>\n",
       "      <th id=\"T_bc294_level0_row16\" class=\"row_heading level0 row16\" >16</th>\n",
       "      <td id=\"T_bc294_row16_col0\" class=\"data row16 col0\" >Fold Generator</td>\n",
       "      <td id=\"T_bc294_row16_col1\" class=\"data row16 col1\" >StratifiedKFold</td>\n",
       "    </tr>\n",
       "    <tr>\n",
       "      <th id=\"T_bc294_level0_row17\" class=\"row_heading level0 row17\" >17</th>\n",
       "      <td id=\"T_bc294_row17_col0\" class=\"data row17 col0\" >Fold Number</td>\n",
       "      <td id=\"T_bc294_row17_col1\" class=\"data row17 col1\" >10</td>\n",
       "    </tr>\n",
       "    <tr>\n",
       "      <th id=\"T_bc294_level0_row18\" class=\"row_heading level0 row18\" >18</th>\n",
       "      <td id=\"T_bc294_row18_col0\" class=\"data row18 col0\" >CPU Jobs</td>\n",
       "      <td id=\"T_bc294_row18_col1\" class=\"data row18 col1\" >-1</td>\n",
       "    </tr>\n",
       "    <tr>\n",
       "      <th id=\"T_bc294_level0_row19\" class=\"row_heading level0 row19\" >19</th>\n",
       "      <td id=\"T_bc294_row19_col0\" class=\"data row19 col0\" >Use GPU</td>\n",
       "      <td id=\"T_bc294_row19_col1\" class=\"data row19 col1\" >False</td>\n",
       "    </tr>\n",
       "    <tr>\n",
       "      <th id=\"T_bc294_level0_row20\" class=\"row_heading level0 row20\" >20</th>\n",
       "      <td id=\"T_bc294_row20_col0\" class=\"data row20 col0\" >Log Experiment</td>\n",
       "      <td id=\"T_bc294_row20_col1\" class=\"data row20 col1\" >False</td>\n",
       "    </tr>\n",
       "    <tr>\n",
       "      <th id=\"T_bc294_level0_row21\" class=\"row_heading level0 row21\" >21</th>\n",
       "      <td id=\"T_bc294_row21_col0\" class=\"data row21 col0\" >Experiment Name</td>\n",
       "      <td id=\"T_bc294_row21_col1\" class=\"data row21 col1\" >breast_cancer</td>\n",
       "    </tr>\n",
       "    <tr>\n",
       "      <th id=\"T_bc294_level0_row22\" class=\"row_heading level0 row22\" >22</th>\n",
       "      <td id=\"T_bc294_row22_col0\" class=\"data row22 col0\" >USI</td>\n",
       "      <td id=\"T_bc294_row22_col1\" class=\"data row22 col1\" >9588</td>\n",
       "    </tr>\n",
       "  </tbody>\n",
       "</table>\n"
      ],
      "text/plain": [
       "<pandas.io.formats.style.Styler at 0x15613c034d0>"
      ]
     },
     "metadata": {},
     "output_type": "display_data"
    },
    {
     "data": {
      "text/plain": [
       "<pycaret.classification.oop.ClassificationExperiment at 0x156027ac990>"
      ]
     },
     "execution_count": 186,
     "metadata": {},
     "output_type": "execute_result"
    }
   ],
   "source": [
    "# Set up pycaret environment\n",
    "exp1 = ClassificationExperiment()\n",
    "exp1.setup(data = train, target = 'DiagPeriodL90D', session_id=123, experiment_name='breast_cancer')"
   ]
  },
  {
   "cell_type": "code",
   "execution_count": null,
   "metadata": {},
   "outputs": [],
   "source": [
    "# compare baseline models\n",
    "best = exp1.compare_models()"
   ]
  },
  {
   "cell_type": "code",
   "execution_count": 190,
   "metadata": {},
   "outputs": [
    {
     "data": {
      "text/html": [],
      "text/plain": [
       "<IPython.core.display.HTML object>"
      ]
     },
     "metadata": {},
     "output_type": "display_data"
    },
    {
     "data": {
      "image/png": "[encoded data removed]",
      "text/plain": [
       "<Figure size 800x500 with 1 Axes>"
      ]
     },
     "metadata": {},
     "output_type": "display_data"
    }
   ],
   "source": [
    "# Feature Importance\n",
    "exp1.plot_model(best, plot = 'feature')"
   ]
  },
  {
   "cell_type": "code",
   "execution_count": null,
   "metadata": {},
   "outputs": [],
   "source": [
    "# predict model on new_data\n",
    "predictions = exp1.predict_model(best, data = test)\n",
    "predictions.head()\n",
    "\n",
    "results = predictions[['patient_id', 'prediction_label']]\n",
    "results.to_csv(\"submission.csv\", index=False)"
   ]
  }
 ],
 "metadata": {
  "kernelspec": {
   "display_name": "base",
   "language": "python",
   "name": "python3"
  },
  "language_info": {
   "codemirror_mode": {
    "name": "ipython",
    "version": 3
   },
   "file_extension": ".py",
   "mimetype": "text/x-python",
   "name": "python",
   "nbconvert_exporter": "python",
   "pygments_lexer": "ipython3",
   "version": "3.11.5"
  }
 },
 "nbformat": 4,
 "nbformat_minor": 2
}
