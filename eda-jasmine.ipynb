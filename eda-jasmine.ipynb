{
 "cells": [
  {
   "cell_type": "code",
   "execution_count": 1,
   "metadata": {},
   "outputs": [],
   "source": [
    "import seaborn as sns\n",
    "import pandas as pd\n",
    "import numpy as np\n",
    "import matplotlib.pyplot as plt\n",
    "import geopandas as gpd\n",
    "from shapely.geometry import Point, Polygon\n",
    "from copy import deepcopy\n",
    "import statsmodels.api as sm\n",
    "from sklearn.model_selection import train_test_split, GridSearchCV\n",
    "from sklearn.metrics import classification_report, f1_score, mean_squared_error, roc_auc_score\n",
    "from sklearn.impute import SimpleImputer\n",
    "from sklearn.compose import ColumnTransformer\n",
    "from sklearn.pipeline import Pipeline\n",
    "from sklearn.preprocessing import OneHotEncoder, MinMaxScaler"
   ]
  },
  {
   "cell_type": "code",
   "execution_count": 2,
   "metadata": {},
   "outputs": [],
   "source": [
    "import warnings\n",
    "warnings.simplefilter(action='ignore', category=FutureWarning)"
   ]
  },
  {
   "cell_type": "code",
   "execution_count": 220,
   "metadata": {},
   "outputs": [],
   "source": [
    "train = pd.read_csv('training.csv')"
   ]
  },
  {
   "cell_type": "code",
   "execution_count": 121,
   "metadata": {},
   "outputs": [
    {
     "name": "stdout",
     "output_type": "stream",
     "text": [
      "(12906, 83)\n"
     ]
    }
   ],
   "source": [
    "# Check number of rows and columns\n",
    "print(train.shape)"
   ]
  },
  {
   "cell_type": "code",
   "execution_count": 89,
   "metadata": {},
   "outputs": [
    {
     "data": {
      "text/html": [
       "<div>\n",
       "<style scoped>\n",
       "    .dataframe tbody tr th:only-of-type {\n",
       "        vertical-align: middle;\n",
       "    }\n",
       "\n",
       "    .dataframe tbody tr th {\n",
       "        vertical-align: top;\n",
       "    }\n",
       "\n",
       "    .dataframe thead th {\n",
       "        text-align: right;\n",
       "    }\n",
       "</style>\n",
       "<table border=\"1\" class=\"dataframe\">\n",
       "  <thead>\n",
       "    <tr style=\"text-align: right;\">\n",
       "      <th></th>\n",
       "      <th>patient_id</th>\n",
       "      <th>patient_zip3</th>\n",
       "      <th>patient_age</th>\n",
       "      <th>bmi</th>\n",
       "      <th>population</th>\n",
       "      <th>density</th>\n",
       "      <th>age_median</th>\n",
       "      <th>age_under_10</th>\n",
       "      <th>age_10_to_19</th>\n",
       "      <th>age_20s</th>\n",
       "      <th>...</th>\n",
       "      <th>disabled</th>\n",
       "      <th>poverty</th>\n",
       "      <th>limited_english</th>\n",
       "      <th>commute_time</th>\n",
       "      <th>health_uninsured</th>\n",
       "      <th>veteran</th>\n",
       "      <th>Ozone</th>\n",
       "      <th>PM25</th>\n",
       "      <th>N02</th>\n",
       "      <th>DiagPeriodL90D</th>\n",
       "    </tr>\n",
       "  </thead>\n",
       "  <tbody>\n",
       "    <tr>\n",
       "      <th>count</th>\n",
       "      <td>12906.000000</td>\n",
       "      <td>12906.000000</td>\n",
       "      <td>12906.000000</td>\n",
       "      <td>3941.000000</td>\n",
       "      <td>12905.000000</td>\n",
       "      <td>12905.000000</td>\n",
       "      <td>12905.000000</td>\n",
       "      <td>12905.000000</td>\n",
       "      <td>12905.000000</td>\n",
       "      <td>12905.000000</td>\n",
       "      <td>...</td>\n",
       "      <td>12905.000000</td>\n",
       "      <td>12902.000000</td>\n",
       "      <td>12902.000000</td>\n",
       "      <td>12905.000000</td>\n",
       "      <td>12905.000000</td>\n",
       "      <td>12905.000000</td>\n",
       "      <td>12877.000000</td>\n",
       "      <td>12877.000000</td>\n",
       "      <td>12877.000000</td>\n",
       "      <td>12906.000000</td>\n",
       "    </tr>\n",
       "    <tr>\n",
       "      <th>mean</th>\n",
       "      <td>547381.196033</td>\n",
       "      <td>573.754300</td>\n",
       "      <td>59.183326</td>\n",
       "      <td>28.984539</td>\n",
       "      <td>20744.441237</td>\n",
       "      <td>1581.950419</td>\n",
       "      <td>40.502259</td>\n",
       "      <td>11.122784</td>\n",
       "      <td>12.945265</td>\n",
       "      <td>13.290376</td>\n",
       "      <td>...</td>\n",
       "      <td>13.335299</td>\n",
       "      <td>13.406950</td>\n",
       "      <td>4.474956</td>\n",
       "      <td>27.978387</td>\n",
       "      <td>8.575284</td>\n",
       "      <td>7.083376</td>\n",
       "      <td>39.822352</td>\n",
       "      <td>7.475221</td>\n",
       "      <td>16.098988</td>\n",
       "      <td>0.624516</td>\n",
       "    </tr>\n",
       "    <tr>\n",
       "      <th>std</th>\n",
       "      <td>260404.959974</td>\n",
       "      <td>275.447534</td>\n",
       "      <td>13.335216</td>\n",
       "      <td>5.696906</td>\n",
       "      <td>13886.903756</td>\n",
       "      <td>2966.305306</td>\n",
       "      <td>4.036963</td>\n",
       "      <td>1.512376</td>\n",
       "      <td>1.923974</td>\n",
       "      <td>3.354103</td>\n",
       "      <td>...</td>\n",
       "      <td>3.690949</td>\n",
       "      <td>5.222495</td>\n",
       "      <td>4.837085</td>\n",
       "      <td>5.083939</td>\n",
       "      <td>4.203482</td>\n",
       "      <td>3.109022</td>\n",
       "      <td>3.559492</td>\n",
       "      <td>1.516499</td>\n",
       "      <td>5.842501</td>\n",
       "      <td>0.484266</td>\n",
       "    </tr>\n",
       "    <tr>\n",
       "      <th>min</th>\n",
       "      <td>100063.000000</td>\n",
       "      <td>101.000000</td>\n",
       "      <td>18.000000</td>\n",
       "      <td>14.000000</td>\n",
       "      <td>635.545455</td>\n",
       "      <td>0.916667</td>\n",
       "      <td>20.600000</td>\n",
       "      <td>0.000000</td>\n",
       "      <td>6.314286</td>\n",
       "      <td>5.925000</td>\n",
       "      <td>...</td>\n",
       "      <td>4.600000</td>\n",
       "      <td>3.433333</td>\n",
       "      <td>0.000000</td>\n",
       "      <td>12.460784</td>\n",
       "      <td>2.440000</td>\n",
       "      <td>1.200000</td>\n",
       "      <td>30.939316</td>\n",
       "      <td>2.636008</td>\n",
       "      <td>2.760371</td>\n",
       "      <td>0.000000</td>\n",
       "    </tr>\n",
       "    <tr>\n",
       "      <th>25%</th>\n",
       "      <td>321517.000000</td>\n",
       "      <td>331.000000</td>\n",
       "      <td>50.000000</td>\n",
       "      <td>24.660000</td>\n",
       "      <td>9463.896552</td>\n",
       "      <td>171.857143</td>\n",
       "      <td>37.129825</td>\n",
       "      <td>10.160000</td>\n",
       "      <td>11.741176</td>\n",
       "      <td>11.013415</td>\n",
       "      <td>...</td>\n",
       "      <td>10.270492</td>\n",
       "      <td>9.663333</td>\n",
       "      <td>0.994444</td>\n",
       "      <td>24.933333</td>\n",
       "      <td>5.618750</td>\n",
       "      <td>4.929688</td>\n",
       "      <td>37.698880</td>\n",
       "      <td>6.651215</td>\n",
       "      <td>11.280694</td>\n",
       "      <td>0.000000</td>\n",
       "    </tr>\n",
       "    <tr>\n",
       "      <th>50%</th>\n",
       "      <td>543522.000000</td>\n",
       "      <td>554.000000</td>\n",
       "      <td>59.000000</td>\n",
       "      <td>28.190000</td>\n",
       "      <td>19154.190480</td>\n",
       "      <td>700.337500</td>\n",
       "      <td>40.639344</td>\n",
       "      <td>11.039216</td>\n",
       "      <td>12.923944</td>\n",
       "      <td>12.538095</td>\n",
       "      <td>...</td>\n",
       "      <td>12.884000</td>\n",
       "      <td>12.177778</td>\n",
       "      <td>2.747222</td>\n",
       "      <td>27.788235</td>\n",
       "      <td>7.465714</td>\n",
       "      <td>6.847059</td>\n",
       "      <td>39.108249</td>\n",
       "      <td>7.686577</td>\n",
       "      <td>15.589148</td>\n",
       "      <td>1.000000</td>\n",
       "    </tr>\n",
       "    <tr>\n",
       "      <th>75%</th>\n",
       "      <td>772671.750000</td>\n",
       "      <td>846.000000</td>\n",
       "      <td>67.000000</td>\n",
       "      <td>32.920000</td>\n",
       "      <td>30021.278690</td>\n",
       "      <td>1666.515385</td>\n",
       "      <td>42.934783</td>\n",
       "      <td>12.190000</td>\n",
       "      <td>14.019767</td>\n",
       "      <td>14.971053</td>\n",
       "      <td>...</td>\n",
       "      <td>15.555405</td>\n",
       "      <td>16.635556</td>\n",
       "      <td>5.976000</td>\n",
       "      <td>30.709375</td>\n",
       "      <td>10.617442</td>\n",
       "      <td>8.620000</td>\n",
       "      <td>41.136513</td>\n",
       "      <td>8.276922</td>\n",
       "      <td>20.801880</td>\n",
       "      <td>1.000000</td>\n",
       "    </tr>\n",
       "    <tr>\n",
       "      <th>max</th>\n",
       "      <td>999896.000000</td>\n",
       "      <td>999.000000</td>\n",
       "      <td>91.000000</td>\n",
       "      <td>85.000000</td>\n",
       "      <td>71374.131580</td>\n",
       "      <td>21172.000000</td>\n",
       "      <td>54.570000</td>\n",
       "      <td>17.675000</td>\n",
       "      <td>35.300000</td>\n",
       "      <td>62.100000</td>\n",
       "      <td>...</td>\n",
       "      <td>35.155556</td>\n",
       "      <td>38.347826</td>\n",
       "      <td>26.755000</td>\n",
       "      <td>48.020000</td>\n",
       "      <td>27.566102</td>\n",
       "      <td>25.200000</td>\n",
       "      <td>52.237210</td>\n",
       "      <td>11.169408</td>\n",
       "      <td>31.504775</td>\n",
       "      <td>1.000000</td>\n",
       "    </tr>\n",
       "  </tbody>\n",
       "</table>\n",
       "<p>8 rows × 72 columns</p>\n",
       "</div>"
      ],
      "text/plain": [
       "          patient_id  patient_zip3   patient_age          bmi    population  \\\n",
       "count   12906.000000  12906.000000  12906.000000  3941.000000  12905.000000   \n",
       "mean   547381.196033    573.754300     59.183326    28.984539  20744.441237   \n",
       "std    260404.959974    275.447534     13.335216     5.696906  13886.903756   \n",
       "min    100063.000000    101.000000     18.000000    14.000000    635.545455   \n",
       "25%    321517.000000    331.000000     50.000000    24.660000   9463.896552   \n",
       "50%    543522.000000    554.000000     59.000000    28.190000  19154.190480   \n",
       "75%    772671.750000    846.000000     67.000000    32.920000  30021.278690   \n",
       "max    999896.000000    999.000000     91.000000    85.000000  71374.131580   \n",
       "\n",
       "            density    age_median  age_under_10  age_10_to_19       age_20s  \\\n",
       "count  12905.000000  12905.000000  12905.000000  12905.000000  12905.000000   \n",
       "mean    1581.950419     40.502259     11.122784     12.945265     13.290376   \n",
       "std     2966.305306      4.036963      1.512376      1.923974      3.354103   \n",
       "min        0.916667     20.600000      0.000000      6.314286      5.925000   \n",
       "25%      171.857143     37.129825     10.160000     11.741176     11.013415   \n",
       "50%      700.337500     40.639344     11.039216     12.923944     12.538095   \n",
       "75%     1666.515385     42.934783     12.190000     14.019767     14.971053   \n",
       "max    21172.000000     54.570000     17.675000     35.300000     62.100000   \n",
       "\n",
       "       ...      disabled       poverty  limited_english  commute_time  \\\n",
       "count  ...  12905.000000  12902.000000     12902.000000  12905.000000   \n",
       "mean   ...     13.335299     13.406950         4.474956     27.978387   \n",
       "std    ...      3.690949      5.222495         4.837085      5.083939   \n",
       "min    ...      4.600000      3.433333         0.000000     12.460784   \n",
       "25%    ...     10.270492      9.663333         0.994444     24.933333   \n",
       "50%    ...     12.884000     12.177778         2.747222     27.788235   \n",
       "75%    ...     15.555405     16.635556         5.976000     30.709375   \n",
       "max    ...     35.155556     38.347826        26.755000     48.020000   \n",
       "\n",
       "       health_uninsured       veteran         Ozone          PM25  \\\n",
       "count      12905.000000  12905.000000  12877.000000  12877.000000   \n",
       "mean           8.575284      7.083376     39.822352      7.475221   \n",
       "std            4.203482      3.109022      3.559492      1.516499   \n",
       "min            2.440000      1.200000     30.939316      2.636008   \n",
       "25%            5.618750      4.929688     37.698880      6.651215   \n",
       "50%            7.465714      6.847059     39.108249      7.686577   \n",
       "75%           10.617442      8.620000     41.136513      8.276922   \n",
       "max           27.566102     25.200000     52.237210     11.169408   \n",
       "\n",
       "                N02  DiagPeriodL90D  \n",
       "count  12877.000000    12906.000000  \n",
       "mean      16.098988        0.624516  \n",
       "std        5.842501        0.484266  \n",
       "min        2.760371        0.000000  \n",
       "25%       11.280694        0.000000  \n",
       "50%       15.589148        1.000000  \n",
       "75%       20.801880        1.000000  \n",
       "max       31.504775        1.000000  \n",
       "\n",
       "[8 rows x 72 columns]"
      ]
     },
     "execution_count": 89,
     "metadata": {},
     "output_type": "execute_result"
    }
   ],
   "source": [
    "train.describe()"
   ]
  },
  {
   "cell_type": "code",
   "execution_count": 87,
   "metadata": {},
   "outputs": [],
   "source": [
    "train['patient_zip3'] = train['patient_zip3'].astype(str).str.zfill(5)"
   ]
  },
  {
   "cell_type": "code",
   "execution_count": 123,
   "metadata": {},
   "outputs": [
    {
     "data": {
      "text/plain": [
       "metastatic_first_novel_treatment         12882\n",
       "metastatic_first_novel_treatment_type    12882\n",
       "bmi                                       8965\n",
       "patient_race                              6385\n",
       "payer_type                                1803\n",
       "                                         ...  \n",
       "breast_cancer_diagnosis_code                 0\n",
       "patient_gender                               0\n",
       "patient_age                                  0\n",
       "patient_zip3                                 0\n",
       "DiagPeriodL90D                               0\n",
       "Length: 83, dtype: int64"
      ]
     },
     "execution_count": 123,
     "metadata": {},
     "output_type": "execute_result"
    }
   ],
   "source": [
    "# Check the number of NA in each column\n",
    "train.isna().sum().sort_values(ascending=False)"
   ]
  },
  {
   "cell_type": "code",
   "execution_count": 221,
   "metadata": {},
   "outputs": [],
   "source": [
    "# Remove the columns with more than 50% of NA and drop the columns that are not useful (ID, desc)\n",
    "#train = train.drop(columns=['metastatic_first_novel_treatment', 'metastatic_first_novel_treatment_type', 'bmi', 'patient_id', 'breast_cancer_diagnosis_desc'])\n",
    "\n",
    "# Check the number of NA in each row\n",
    "train.isna().sum(axis=1).sort_values(ascending=False)\n",
    "\n",
    "# Remove the rows with more than 5 NA values\n",
    "train = train.dropna(thresh=74)\n",
    "\n",
    "# Columns to drop\n",
    "columns_to_drop = ['metastatic_first_novel_treatment', 'metastatic_first_novel_treatment_type', 'bmi', 'patient_id', 'breast_cancer_diagnosis_desc',\n",
    "                   'age_median','age_under_10',\t'age_10_to_19',\t'age_20s',\t'age_30s',\t'age_40s',\t'age_50s',\t'age_60s',\t'age_70s'\t,'age_over_80'\t,'male','female',\n",
    "                   'Division', 'patient_zip3','patient_state', 'Region'#, 'metastatic_cancer_diagnosis_code'\n",
    "                   ]\n",
    "train = train.drop(columns_to_drop, axis=1)"
   ]
  },
  {
   "cell_type": "markdown",
   "metadata": {},
   "source": [
    "## EDA"
   ]
  },
  {
   "cell_type": "code",
   "execution_count": 52,
   "metadata": {},
   "outputs": [
    {
     "data": {
      "text/plain": [
       "1    8058\n",
       "0    4843\n",
       "Name: DiagPeriodL90D, dtype: int64"
      ]
     },
     "execution_count": 52,
     "metadata": {},
     "output_type": "execute_result"
    }
   ],
   "source": [
    "# Check number of each category in each column\n",
    "train['DiagPeriodL90D'].value_counts()\n",
    "\n",
    "# Dataset is skewed"
   ]
  },
  {
   "cell_type": "code",
   "execution_count": null,
   "metadata": {},
   "outputs": [],
   "source": [
    "# Create a heat map visualization of DiagPeriodL90D by zip code"
   ]
  },
  {
   "cell_type": "markdown",
   "metadata": {},
   "source": [
    "## Handle Imbalance"
   ]
  },
  {
   "cell_type": "code",
   "execution_count": 127,
   "metadata": {},
   "outputs": [],
   "source": [
    "from sklearn.utils import resample\n",
    "#create two different dataframe of majority and minority class \n",
    "df_majority = train[(train['DiagPeriodL90D']==1)] \n",
    "df_minority = train[(train['DiagPeriodL90D']==0)] \n",
    "# upsample minority class\n",
    "df_majority_downsampled = resample(df_majority, \n",
    "                                 replace=True,    # sample with replacement\n",
    "                                 n_samples= 5000, # to match minority class\n",
    "                                 random_state=42)  # reproducible results\n",
    "# Combine majority class with upsampled minority class\n",
    "train = pd.concat([df_majority_downsampled, df_minority])"
   ]
  },
  {
   "cell_type": "markdown",
   "metadata": {},
   "source": [
    "## Data Processing 1"
   ]
  },
  {
   "cell_type": "code",
   "execution_count": 222,
   "metadata": {},
   "outputs": [],
   "source": [
    "# Define features and target variable\n",
    "X = deepcopy(train.drop(columns=['DiagPeriodL90D']))\n",
    "# make y a dataframe\n",
    "y = deepcopy(pd.DataFrame(train['DiagPeriodL90D']))\n",
    "\n",
    "\n",
    "# Split the data into training and testing sets\n",
    "X_train, X_val, y_train, y_val = train_test_split(X, y, test_size=0.7, random_state=42)"
   ]
  },
  {
   "cell_type": "code",
   "execution_count": 52,
   "metadata": {},
   "outputs": [],
   "source": [
    "# Create an instance of RandomUnderSampler\n",
    "#undersampler = RandomUnderSampler(random_state=42)\n",
    "\n",
    "# Fit and apply the undersampler to the training data\n",
    "#X_train, y_train = undersampler.fit_resample(X_train, y_train)"
   ]
  },
  {
   "cell_type": "code",
   "execution_count": null,
   "metadata": {},
   "outputs": [],
   "source": [
    "# Create a transformer for the categorical columns and the numerical columns together\n"
   ]
  },
  {
   "cell_type": "code",
   "execution_count": 223,
   "metadata": {},
   "outputs": [],
   "source": [
    "# Build a transformer for the categorical columns and the numerical columns (impute and scale) together\n",
    "def process_features(df):\n",
    "    categorical_columns = df.select_dtypes(include='object').columns\n",
    "    numeric_features = df.select_dtypes(include=['int64', 'float64']).columns\n",
    "\n",
    "    pipeline_cat = Pipeline(\n",
    "        steps=[('encoder', OneHotEncoder(handle_unknown='ignore'))]\n",
    "    )\n",
    "\n",
    "    pipeline_num = Pipeline(\n",
    "        steps=[('imputer', SimpleImputer(strategy='mean')), ('scaler', MinMaxScaler())]\n",
    "    )\n",
    "\n",
    "    preprocessor = ColumnTransformer(\n",
    "        transformers=[\n",
    "            (\"cat\", pipeline_cat, categorical_columns),\n",
    "            (\"num\", pipeline_num, numeric_features)\n",
    "        ]\n",
    "    )\n",
    "\n",
    "    return preprocessor"
   ]
  },
  {
   "cell_type": "code",
   "execution_count": 224,
   "metadata": {},
   "outputs": [],
   "source": [
    "# Apply transformer\n",
    "preprocessor_train = process_features(X_train)\n",
    "X_train = preprocessor_train.fit_transform(X_train)\n",
    "X_val = preprocessor_train.transform(X_val)"
   ]
  },
  {
   "cell_type": "code",
   "execution_count": 225,
   "metadata": {},
   "outputs": [],
   "source": [
    "X_train = pd.DataFrame(X_train, columns=preprocessor_train.get_feature_names_out())\n",
    "X_val = pd.DataFrame(X_val, columns=preprocessor_train.get_feature_names_out())"
   ]
  },
  {
   "cell_type": "code",
   "execution_count": 226,
   "metadata": {},
   "outputs": [
    {
     "name": "stdout",
     "output_type": "stream",
     "text": [
      "<class 'pandas.core.frame.DataFrame'>\n",
      "(3870, 142)\n",
      "(9031, 142)\n"
     ]
    }
   ],
   "source": [
    "# check type and shape of X_train\n",
    "print(type(X_train))\n",
    "print(X_train.shape)\n",
    "print(X_val.shape)"
   ]
  },
  {
   "cell_type": "markdown",
   "metadata": {},
   "source": [
    "## Linear Regression"
   ]
  },
  {
   "cell_type": "code",
   "execution_count": 153,
   "metadata": {},
   "outputs": [],
   "source": [
    "X_train_array = X_train.toarray()\n",
    "X_val_array = X_val.toarray()"
   ]
  },
  {
   "cell_type": "code",
   "execution_count": null,
   "metadata": {},
   "outputs": [],
   "source": [
    "# Fit the OLS model\n",
    "model = sm.OLS(y_train, X_train_array)\n",
    "results = model.fit()\n",
    "\n",
    "# Print the regression results\n",
    "print(results.summary())"
   ]
  },
  {
   "cell_type": "code",
   "execution_count": null,
   "metadata": {},
   "outputs": [],
   "source": [
    "# Make prediction on test set\n",
    "y_pred = results.predict(X_val_array)\n",
    "\n",
    "# Compute R-squared for test set\n",
    "r2_score(y_pred, y_val)"
   ]
  },
  {
   "cell_type": "code",
   "execution_count": 23,
   "metadata": {},
   "outputs": [
    {
     "data": {
      "text/plain": [
       "0.06129398410896708"
      ]
     },
     "execution_count": 23,
     "metadata": {},
     "output_type": "execute_result"
    }
   ],
   "source": [
    "# Confidence interval\n",
    "conf_int = results.conf_int()\n",
    "\n",
    "# Filter features based on confidence intervals\n",
    "not_significant = (conf_int[0]) > 0 & (conf_int[1] < 0)\n",
    "\n",
    "len(not_significant[not_significant==True])/len(not_significant)\n",
    "# 6% of the features are not significant based on the CI"
   ]
  },
  {
   "cell_type": "code",
   "execution_count": null,
   "metadata": {},
   "outputs": [],
   "source": [
    "# Remove insignificant features based on their confidence intervals\n",
    "X_train_sign = X_train_array[:, ~not_significant]\n",
    "X_val_sign = X_val_array[:, ~not_significant]\n",
    "\n",
    "# Refit the linear regression\n",
    "model2 = sm.OLS(y_train, X_train_sign)\n",
    "results2 = model2.fit()\n",
    "print(results2.summary())"
   ]
  },
  {
   "cell_type": "code",
   "execution_count": 22,
   "metadata": {},
   "outputs": [
    {
     "data": {
      "text/plain": [
       "-0.4734966974659207"
      ]
     },
     "execution_count": 22,
     "metadata": {},
     "output_type": "execute_result"
    }
   ],
   "source": [
    "# Make prediction on test set\n",
    "y_pred_sign = results2.predict(X_val_sign)\n",
    "\n",
    "# Compute R-squared\n",
    "r2_score(y_pred_sign, y_val)"
   ]
  },
  {
   "cell_type": "markdown",
   "metadata": {},
   "source": [
    "## XGBoost"
   ]
  },
  {
   "cell_type": "code",
   "execution_count": 227,
   "metadata": {},
   "outputs": [],
   "source": [
    "import xgboost as xgb\n",
    "\n",
    "# Create an XGBoost classifier\n",
    "xgb_classifier = xgb.XGBClassifier()\n",
    "\n",
    "# Define a grid of hyperparameters to search over\n",
    "param_grid = {\n",
    "    'learning_rate': [0.01, 0.05, 0.1], \n",
    "    'n_estimators': [100, 200, 300]\n",
    "}"
   ]
  },
  {
   "cell_type": "code",
   "execution_count": 17,
   "metadata": {},
   "outputs": [],
   "source": [
    "# Create a GridSearchCV object to find the best hyperparameters with MSE\n",
    "grid_search = GridSearchCV(xgb_classifier, param_grid, cv=5, scoring='roc_auc')"
   ]
  },
  {
   "cell_type": "code",
   "execution_count": 228,
   "metadata": {},
   "outputs": [
    {
     "name": "stdout",
     "output_type": "stream",
     "text": [
      "Fitting 5 folds for each of 27 candidates, totalling 135 fits\n"
     ]
    }
   ],
   "source": [
    "# Fit the model to the data and find the best hyperparameters\n",
    "grid_search.fit(X_train, y_train)  # X and y are your data and labels\n",
    "\n",
    "# Get the best parameters and the best estimator\n",
    "best_params = grid_search.best_params_\n",
    "best_estimator = grid_search.best_estimator_"
   ]
  },
  {
   "cell_type": "code",
   "execution_count": 229,
   "metadata": {},
   "outputs": [
    {
     "name": "stdout",
     "output_type": "stream",
     "text": [
      "Best hyperparameters: {'max_depth': 20, 'min_samples_split': 30, 'n_estimators': 300}\n",
      "f1: 0.8579527559055118\n",
      "AUC: 0.7451270172838372\n",
      "MSE: 0.1997563946406821\n"
     ]
    }
   ],
   "source": [
    "# Make prediction on the test data\n",
    "y_pred_val = best_estimator.predict(X_val)\n",
    "\n",
    "# Evaluate the model\n",
    "mse = mean_squared_error(y_val, y_pred_val)\n",
    "\n",
    "print(\"Best hyperparameters:\", best_params)\n",
    "print(\"f1:\", f1_score(y_val, y_pred_val))\n",
    "print(\"AUC:\", roc_auc_score(y_val, y_pred_val))\n",
    "print(\"MSE:\", mean_squared_error(y_val, y_pred_val))"
   ]
  },
  {
   "cell_type": "code",
   "execution_count": 232,
   "metadata": {},
   "outputs": [
    {
     "data": {
      "text/html": [
       "<div>\n",
       "<style scoped>\n",
       "    .dataframe tbody tr th:only-of-type {\n",
       "        vertical-align: middle;\n",
       "    }\n",
       "\n",
       "    .dataframe tbody tr th {\n",
       "        vertical-align: top;\n",
       "    }\n",
       "\n",
       "    .dataframe thead th {\n",
       "        text-align: right;\n",
       "    }\n",
       "</style>\n",
       "<table border=\"1\" class=\"dataframe\">\n",
       "  <thead>\n",
       "    <tr style=\"text-align: right;\">\n",
       "      <th></th>\n",
       "      <th>DiagPeriodL90D</th>\n",
       "    </tr>\n",
       "  </thead>\n",
       "  <tbody>\n",
       "    <tr>\n",
       "      <th>6238</th>\n",
       "      <td>0</td>\n",
       "    </tr>\n",
       "    <tr>\n",
       "      <th>8869</th>\n",
       "      <td>1</td>\n",
       "    </tr>\n",
       "    <tr>\n",
       "      <th>4660</th>\n",
       "      <td>0</td>\n",
       "    </tr>\n",
       "    <tr>\n",
       "      <th>8506</th>\n",
       "      <td>1</td>\n",
       "    </tr>\n",
       "    <tr>\n",
       "      <th>4873</th>\n",
       "      <td>0</td>\n",
       "    </tr>\n",
       "    <tr>\n",
       "      <th>...</th>\n",
       "      <td>...</td>\n",
       "    </tr>\n",
       "    <tr>\n",
       "      <th>3812</th>\n",
       "      <td>1</td>\n",
       "    </tr>\n",
       "    <tr>\n",
       "      <th>11231</th>\n",
       "      <td>1</td>\n",
       "    </tr>\n",
       "    <tr>\n",
       "      <th>3451</th>\n",
       "      <td>0</td>\n",
       "    </tr>\n",
       "    <tr>\n",
       "      <th>4592</th>\n",
       "      <td>1</td>\n",
       "    </tr>\n",
       "    <tr>\n",
       "      <th>7353</th>\n",
       "      <td>1</td>\n",
       "    </tr>\n",
       "  </tbody>\n",
       "</table>\n",
       "<p>9031 rows × 1 columns</p>\n",
       "</div>"
      ],
      "text/plain": [
       "       DiagPeriodL90D\n",
       "6238                0\n",
       "8869                1\n",
       "4660                0\n",
       "8506                1\n",
       "4873                0\n",
       "...               ...\n",
       "3812                1\n",
       "11231               1\n",
       "3451                0\n",
       "4592                1\n",
       "7353                1\n",
       "\n",
       "[9031 rows x 1 columns]"
      ]
     },
     "execution_count": 232,
     "metadata": {},
     "output_type": "execute_result"
    }
   ],
   "source": [
    "y_val"
   ]
  },
  {
   "cell_type": "code",
   "execution_count": 234,
   "metadata": {},
   "outputs": [
    {
     "name": "stdout",
     "output_type": "stream",
     "text": [
      "Predicted     0     1\n",
      "Actual               \n",
      "0          1779  1590\n",
      "1           214  5448\n",
      "              precision    recall  f1-score   support\n",
      "\n",
      "           0       0.89      0.53      0.66      3369\n",
      "           1       0.77      0.96      0.86      5662\n",
      "\n",
      "    accuracy                           0.80      9031\n",
      "   macro avg       0.83      0.75      0.76      9031\n",
      "weighted avg       0.82      0.80      0.79      9031\n",
      "\n"
     ]
    }
   ],
   "source": [
    "confusion_matrix = pd.crosstab(y_val['DiagPeriodL90D'], y_pred_val, rownames=['Actual'], colnames=['Predicted'])\n",
    "print(confusion_matrix)\n",
    "\n",
    "print(classification_report(y_val, y_pred_val))"
   ]
  },
  {
   "cell_type": "markdown",
   "metadata": {},
   "source": [
    "## Test"
   ]
  },
  {
   "cell_type": "code",
   "execution_count": 235,
   "metadata": {},
   "outputs": [
    {
     "data": {
      "text/plain": [
       "(5792, 82)"
      ]
     },
     "execution_count": 235,
     "metadata": {},
     "output_type": "execute_result"
    }
   ],
   "source": [
    "test = pd.read_csv('test.csv')\n",
    "test.shape"
   ]
  },
  {
   "cell_type": "code",
   "execution_count": 236,
   "metadata": {},
   "outputs": [],
   "source": [
    "test['patient_zip3'] = test['patient_zip3'].astype(str).str.zfill(5)\n",
    "\n",
    "X_test = test.drop(columns=columns_to_drop)"
   ]
  },
  {
   "cell_type": "code",
   "execution_count": 237,
   "metadata": {},
   "outputs": [],
   "source": [
    "X_test = preprocessor_train.transform(test)\n"
   ]
  },
  {
   "cell_type": "code",
   "execution_count": 117,
   "metadata": {},
   "outputs": [],
   "source": [
    "X_test = pd.DataFrame(X_test, columns=preprocessor_train.get_feature_names_out())"
   ]
  },
  {
   "cell_type": "code",
   "execution_count": 27,
   "metadata": {},
   "outputs": [],
   "source": [
    "# Make prediction on the test data - XGBoost\n",
    "y_pred = best_estimator.predict(X_test)\n",
    "\n",
    "# Save the prediction to a CSV file with two columns: patient_id and DiagPeriodL90D\n",
    "submission = pd.DataFrame({'patient_id': test['patient_id'], 'DiagPeriodL90D': y_pred})\n",
    "submission.to_csv('submission.csv', index=False)"
   ]
  },
  {
   "cell_type": "markdown",
   "metadata": {},
   "source": [
    "## Random Forest"
   ]
  },
  {
   "cell_type": "markdown",
   "metadata": {},
   "source": [
    "### Modeling"
   ]
  },
  {
   "cell_type": "code",
   "execution_count": 238,
   "metadata": {},
   "outputs": [
    {
     "data": {
      "application/javascript": "\n        if (window._pyforest_update_imports_cell) { window._pyforest_update_imports_cell('from statsmodels.tsa.arima_model import ARIMA\\nfrom sklearn.ensemble import RandomForestClassifier\\nimport re'); }\n    ",
      "text/plain": [
       "<IPython.core.display.Javascript object>"
      ]
     },
     "metadata": {},
     "output_type": "display_data"
    },
    {
     "name": "stdout",
     "output_type": "stream",
     "text": [
      "Fitting 5 folds for each of 27 candidates, totalling 135 fits\n"
     ]
    }
   ],
   "source": [
    "# Define grid search\n",
    "param_grid = {\n",
    "    'n_estimators': [200, 300, 400],\n",
    "    'max_depth': [None, 20, 30],\n",
    "    'min_samples_split': [20, 25, 30]\n",
    "}\n",
    "\n",
    "# Create a Random Forest classifier\n",
    "rf_classifier = RandomForestClassifier(random_state=42, bootstrap=True)\n",
    "\n",
    "# Perform the grid search\n",
    "grid_search = GridSearchCV(estimator=rf_classifier, param_grid=param_grid, \n",
    "                           scoring='roc_auc', cv=5, n_jobs=-1, verbose=2)\n",
    "\n",
    "grid_search.fit(X_train, y_train)\n",
    "\n",
    "# Get the best parameters and the best estimator\n",
    "best_params = grid_search.best_params_\n",
    "best_rf_model = grid_search.best_estimator_"
   ]
  },
  {
   "cell_type": "code",
   "execution_count": 239,
   "metadata": {},
   "outputs": [
    {
     "name": "stdout",
     "output_type": "stream",
     "text": [
      "Threshold 0.2 -- 0.5770590866355919\n",
      "Threshold 0.25 -- 0.6390721540205075\n",
      "Threshold 0.3 -- 0.6872191063218056\n",
      "Threshold 0.35 -- 0.7164710522174305\n",
      "Threshold 0.39999999999999997 -- 0.7274646272520904\n",
      "Threshold 0.44999999999999996 -- 0.7376241384267113\n",
      "Threshold 0.49999999999999994 -- 0.7451270172838372\n",
      "Threshold 0.5499999999999999 -- 0.7516487833099994\n",
      "Threshold 0.6 -- 0.7445294899502907\n",
      "---Optimum Threshold --- 0.5499999999999999 --ROC-- 0.7516487833099994\n"
     ]
    }
   ],
   "source": [
    "step_factor = 0.05 \n",
    "threshold_value = 0.2 \n",
    "roc_score=0\n",
    "predicted_proba = best_rf_model.predict_proba(X_val) #probability of prediction\n",
    "while threshold_value <=0.6: #continue to check best threshold upto probability 0.8\n",
    "    temp_thresh = threshold_value\n",
    "    predicted = (predicted_proba [:,1] >= temp_thresh).astype('int') #change the class boundary for prediction\n",
    "    print('Threshold',temp_thresh,'--',roc_auc_score(y_val, predicted))\n",
    "    if roc_score<roc_auc_score(y_val, predicted): #store the threshold for best classification\n",
    "        roc_score = roc_auc_score(y_val, predicted)\n",
    "        thrsh_score = threshold_value\n",
    "    threshold_value = threshold_value + step_factor\n",
    "print('---Optimum Threshold ---',thrsh_score,'--ROC--',roc_score)"
   ]
  },
  {
   "cell_type": "code",
   "execution_count": 240,
   "metadata": {},
   "outputs": [
    {
     "name": "stdout",
     "output_type": "stream",
     "text": [
      "Best hyperparameters: {'max_depth': 20, 'min_samples_split': 30, 'n_estimators': 300}\n",
      "F1 score for best model: 0.8574844571975132\n",
      "AUC: 0.7516487833099994\n",
      "MSE: 0.19798471930018824\n"
     ]
    }
   ],
   "source": [
    "# Make prediction on the test data\n",
    "predicted_probabilities = best_rf_model.predict_proba(X_val)\n",
    "\n",
    "# Adjust decision threshold\n",
    "custom_threshold = 0.55\n",
    "y_pred_val = np.vstack((predicted_probabilities[:, 1] >= custom_threshold).astype(int))\n",
    "\n",
    "# Calculate the F1 score for the best model\n",
    "f1_score_best_model = f1_score(y_val, y_pred_val)\n",
    "\n",
    "print(\"Best hyperparameters:\", best_params)\n",
    "print(f\"F1 score for best model: {f1_score_best_model}\")\n",
    "print(\"AUC:\", roc_auc_score(y_val, y_pred_val))\n",
    "print(\"MSE:\", mean_squared_error(y_val, y_pred_val))"
   ]
  },
  {
   "cell_type": "code",
   "execution_count": 241,
   "metadata": {},
   "outputs": [
    {
     "name": "stdout",
     "output_type": "stream",
     "text": [
      "              precision    recall  f1-score   support\n",
      "\n",
      "           0       0.87      0.55      0.68      3369\n",
      "           1       0.78      0.95      0.86      5662\n",
      "\n",
      "    accuracy                           0.80      9031\n",
      "   macro avg       0.82      0.75      0.77      9031\n",
      "weighted avg       0.81      0.80      0.79      9031\n",
      "\n"
     ]
    }
   ],
   "source": [
    "print(classification_report(y_val, y_pred_val))"
   ]
  },
  {
   "cell_type": "code",
   "execution_count": 242,
   "metadata": {},
   "outputs": [
    {
     "data": {
      "text/html": [
       "<div>\n",
       "<style scoped>\n",
       "    .dataframe tbody tr th:only-of-type {\n",
       "        vertical-align: middle;\n",
       "    }\n",
       "\n",
       "    .dataframe tbody tr th {\n",
       "        vertical-align: top;\n",
       "    }\n",
       "\n",
       "    .dataframe thead th {\n",
       "        text-align: right;\n",
       "    }\n",
       "</style>\n",
       "<table border=\"1\" class=\"dataframe\">\n",
       "  <thead>\n",
       "    <tr style=\"text-align: right;\">\n",
       "      <th></th>\n",
       "      <th>feature</th>\n",
       "      <th>total_count</th>\n",
       "      <th>unimportant_count</th>\n",
       "    </tr>\n",
       "  </thead>\n",
       "  <tbody>\n",
       "    <tr>\n",
       "      <th>30</th>\n",
       "      <td>home_value</td>\n",
       "      <td>737</td>\n",
       "      <td>0</td>\n",
       "    </tr>\n",
       "    <tr>\n",
       "      <th>33</th>\n",
       "      <td>education_less_highschool</td>\n",
       "      <td>727</td>\n",
       "      <td>0</td>\n",
       "    </tr>\n",
       "    <tr>\n",
       "      <th>34</th>\n",
       "      <td>education_highschool</td>\n",
       "      <td>731</td>\n",
       "      <td>0</td>\n",
       "    </tr>\n",
       "    <tr>\n",
       "      <th>35</th>\n",
       "      <td>education_some_college</td>\n",
       "      <td>730</td>\n",
       "      <td>0</td>\n",
       "    </tr>\n",
       "    <tr>\n",
       "      <th>36</th>\n",
       "      <td>education_bachelors</td>\n",
       "      <td>733</td>\n",
       "      <td>0</td>\n",
       "    </tr>\n",
       "    <tr>\n",
       "      <th>...</th>\n",
       "      <td>...</td>\n",
       "      <td>...</td>\n",
       "      <td>...</td>\n",
       "    </tr>\n",
       "    <tr>\n",
       "      <th>23</th>\n",
       "      <td>income_household_75_to_100</td>\n",
       "      <td>714</td>\n",
       "      <td>0</td>\n",
       "    </tr>\n",
       "    <tr>\n",
       "      <th>3</th>\n",
       "      <td>patient_gender</td>\n",
       "      <td>1</td>\n",
       "      <td>1</td>\n",
       "    </tr>\n",
       "    <tr>\n",
       "      <th>0</th>\n",
       "      <td>patient_race</td>\n",
       "      <td>5</td>\n",
       "      <td>1</td>\n",
       "    </tr>\n",
       "    <tr>\n",
       "      <th>4</th>\n",
       "      <td>breast_cancer_diagnosis_code</td>\n",
       "      <td>50</td>\n",
       "      <td>22</td>\n",
       "    </tr>\n",
       "    <tr>\n",
       "      <th>5</th>\n",
       "      <td>metastatic_cancer_diagnosis_code</td>\n",
       "      <td>43</td>\n",
       "      <td>23</td>\n",
       "    </tr>\n",
       "  </tbody>\n",
       "</table>\n",
       "<p>62 rows × 3 columns</p>\n",
       "</div>"
      ],
      "text/plain": [
       "                             feature total_count unimportant_count\n",
       "30                        home_value         737                 0\n",
       "33         education_less_highschool         727                 0\n",
       "34              education_highschool         731                 0\n",
       "35            education_some_college         730                 0\n",
       "36               education_bachelors         733                 0\n",
       "..                               ...         ...               ...\n",
       "23        income_household_75_to_100         714                 0\n",
       "3                     patient_gender           1                 1\n",
       "0                       patient_race           5                 1\n",
       "4       breast_cancer_diagnosis_code          50                22\n",
       "5   metastatic_cancer_diagnosis_code          43                23\n",
       "\n",
       "[62 rows x 3 columns]"
      ]
     },
     "execution_count": 242,
     "metadata": {},
     "output_type": "execute_result"
    }
   ],
   "source": [
    "# Feature importance\n",
    "feature_importances = best_rf_model.feature_importances_\n",
    "feature_importances_df = pd.DataFrame({'Feature': X_train.columns, 'Importance': feature_importances})\n",
    "feature_importances_df = feature_importances_df.sort_values(by='Importance', ascending=False)\n",
    "inspect = pd.DataFrame(feature_importances_df[feature_importances_df['Importance'] < 0.001])\n",
    "\n",
    "df = pd.DataFrame(columns=['feature', 'total_count', 'unimportant_count'])\n",
    "\n",
    "for column in train.columns:\n",
    "    total_count = train[column].nunique()\n",
    "    unimportant_count = (inspect['Feature'].str.startswith('cat__'+column)).sum()\n",
    "    new_row = {'feature':column, 'total_count': total_count, 'unimportant_count': unimportant_count}\n",
    "    df = df.append(new_row, ignore_index=True)\n",
    "\n",
    "df.sort_values(by='unimportant_count', ascending=True)"
   ]
  },
  {
   "cell_type": "code",
   "execution_count": 243,
   "metadata": {},
   "outputs": [],
   "source": [
    "feature_importances_df.to_csv('feature_importance.csv', index=False)"
   ]
  },
  {
   "cell_type": "markdown",
   "metadata": {},
   "source": [
    "### Test"
   ]
  },
  {
   "cell_type": "code",
   "execution_count": 210,
   "metadata": {},
   "outputs": [],
   "source": [
    "test = pd.read_csv('test.csv')\n",
    "X_test = test.drop(columns=columns_to_drop)\n",
    "X_test = preprocessor_train.transform(test)"
   ]
  },
  {
   "cell_type": "code",
   "execution_count": 211,
   "metadata": {},
   "outputs": [],
   "source": [
    "X_test = pd.DataFrame(X_test, columns=preprocessor_train.get_feature_names_out())"
   ]
  },
  {
   "cell_type": "code",
   "execution_count": 139,
   "metadata": {},
   "outputs": [],
   "source": [
    "# Make prediction on the test data - Random Forest\n",
    "predicted_probabilities = best_rf_model.predict_proba(X_test)\n",
    "\n",
    "# Adjust decision threshold\n",
    "#custom_threshold = 0.56\n",
    "#y_pred = np.vstack((predicted_probabilities[:, 1] >= custom_threshold).astype(int))\n",
    "#y_pred = pd.DataFrame(y_pred, columns=[\"DiagPeriodL90D\"])\n",
    "y_pred = pd.DataFrame(predicted_probabilities[:, 1], columns=[\"DiagPeriodL90D\"])\n",
    "\n",
    "# Save the prediction to a CSV file with two columns: patient_id and DiagPeriodL90D\n",
    "submission = pd.DataFrame({'patient_id': test['patient_id'], 'DiagPeriodL90D': y_pred['DiagPeriodL90D']})\n",
    "submission.to_csv('submission.csv', index=False)"
   ]
  },
  {
   "cell_type": "markdown",
   "metadata": {},
   "source": [
    "## Logistic Regression"
   ]
  },
  {
   "cell_type": "markdown",
   "metadata": {},
   "source": [
    "## H20 AutoML"
   ]
  },
  {
   "cell_type": "code",
   "execution_count": 129,
   "metadata": {},
   "outputs": [
    {
     "data": {
      "text/html": [
       "<div>\n",
       "<style scoped>\n",
       "    .dataframe tbody tr th:only-of-type {\n",
       "        vertical-align: middle;\n",
       "    }\n",
       "\n",
       "    .dataframe tbody tr th {\n",
       "        vertical-align: top;\n",
       "    }\n",
       "\n",
       "    .dataframe thead th {\n",
       "        text-align: right;\n",
       "    }\n",
       "</style>\n",
       "<table border=\"1\" class=\"dataframe\">\n",
       "  <thead>\n",
       "    <tr style=\"text-align: right;\">\n",
       "      <th></th>\n",
       "      <th>DiagL90DPeriod</th>\n",
       "    </tr>\n",
       "  </thead>\n",
       "  <tbody>\n",
       "  </tbody>\n",
       "</table>\n",
       "</div>"
      ],
      "text/plain": [
       "Empty DataFrame\n",
       "Columns: [DiagL90DPeriod]\n",
       "Index: []"
      ]
     },
     "execution_count": 129,
     "metadata": {},
     "output_type": "execute_result"
    }
   ],
   "source": [
    "import h2o\n",
    "from h2o.automl import H2OAutoML"
   ]
  },
  {
   "cell_type": "code",
   "execution_count": 139,
   "metadata": {},
   "outputs": [
    {
     "name": "stdout",
     "output_type": "stream",
     "text": [
      "Checking whether there is an H2O instance running at http://localhost:54321. connected.\n"
     ]
    },
    {
     "data": {
      "text/html": [
       "\n",
       "<style>\n",
       "\n",
       "#h2o-table-3.h2o-container {\n",
       "  overflow-x: auto;\n",
       "}\n",
       "#h2o-table-3 .h2o-table {\n",
       "  /* width: 100%; */\n",
       "  margin-top: 1em;\n",
       "  margin-bottom: 1em;\n",
       "}\n",
       "#h2o-table-3 .h2o-table caption {\n",
       "  white-space: nowrap;\n",
       "  caption-side: top;\n",
       "  text-align: left;\n",
       "  /* margin-left: 1em; */\n",
       "  margin: 0;\n",
       "  font-size: larger;\n",
       "}\n",
       "#h2o-table-3 .h2o-table thead {\n",
       "  white-space: nowrap; \n",
       "  position: sticky;\n",
       "  top: 0;\n",
       "  box-shadow: 0 -1px inset;\n",
       "}\n",
       "#h2o-table-3 .h2o-table tbody {\n",
       "  overflow: auto;\n",
       "}\n",
       "#h2o-table-3 .h2o-table th,\n",
       "#h2o-table-3 .h2o-table td {\n",
       "  text-align: right;\n",
       "  /* border: 1px solid; */\n",
       "}\n",
       "#h2o-table-3 .h2o-table tr:nth-child(even) {\n",
       "  /* background: #F5F5F5 */\n",
       "}\n",
       "\n",
       "</style>      \n",
       "<div id=\"h2o-table-3\" class=\"h2o-container\">\n",
       "  <table class=\"h2o-table\">\n",
       "    <caption></caption>\n",
       "    <thead></thead>\n",
       "    <tbody><tr><td>H2O_cluster_uptime:</td>\n",
       "<td>6 mins 08 secs</td></tr>\n",
       "<tr><td>H2O_cluster_timezone:</td>\n",
       "<td>America/New_York</td></tr>\n",
       "<tr><td>H2O_data_parsing_timezone:</td>\n",
       "<td>UTC</td></tr>\n",
       "<tr><td>H2O_cluster_version:</td>\n",
       "<td>3.44.0.3</td></tr>\n",
       "<tr><td>H2O_cluster_version_age:</td>\n",
       "<td>1 month and 28 days</td></tr>\n",
       "<tr><td>H2O_cluster_name:</td>\n",
       "<td>H2O_from_python_pnhua_n11wm4</td></tr>\n",
       "<tr><td>H2O_cluster_total_nodes:</td>\n",
       "<td>1</td></tr>\n",
       "<tr><td>H2O_cluster_free_memory:</td>\n",
       "<td>6.637 Gb</td></tr>\n",
       "<tr><td>H2O_cluster_total_cores:</td>\n",
       "<td>12</td></tr>\n",
       "<tr><td>H2O_cluster_allowed_cores:</td>\n",
       "<td>12</td></tr>\n",
       "<tr><td>H2O_cluster_status:</td>\n",
       "<td>locked, healthy</td></tr>\n",
       "<tr><td>H2O_connection_url:</td>\n",
       "<td>http://localhost:54321</td></tr>\n",
       "<tr><td>H2O_connection_proxy:</td>\n",
       "<td>{\"http\": null, \"https\": null}</td></tr>\n",
       "<tr><td>H2O_internal_security:</td>\n",
       "<td>False</td></tr>\n",
       "<tr><td>Python_version:</td>\n",
       "<td>3.11.5 final</td></tr></tbody>\n",
       "  </table>\n",
       "</div>\n"
      ],
      "text/plain": [
       "--------------------------  -----------------------------\n",
       "H2O_cluster_uptime:         6 mins 08 secs\n",
       "H2O_cluster_timezone:       America/New_York\n",
       "H2O_data_parsing_timezone:  UTC\n",
       "H2O_cluster_version:        3.44.0.3\n",
       "H2O_cluster_version_age:    1 month and 28 days\n",
       "H2O_cluster_name:           H2O_from_python_pnhua_n11wm4\n",
       "H2O_cluster_total_nodes:    1\n",
       "H2O_cluster_free_memory:    6.637 Gb\n",
       "H2O_cluster_total_cores:    12\n",
       "H2O_cluster_allowed_cores:  12\n",
       "H2O_cluster_status:         locked, healthy\n",
       "H2O_connection_url:         http://localhost:54321\n",
       "H2O_connection_proxy:       {\"http\": null, \"https\": null}\n",
       "H2O_internal_security:      False\n",
       "Python_version:             3.11.5 final\n",
       "--------------------------  -----------------------------"
      ]
     },
     "metadata": {},
     "output_type": "display_data"
    },
    {
     "name": "stdout",
     "output_type": "stream",
     "text": [
      "Parse progress: |████████████████████████████████████████████████████████████████| (done) 100%\n",
      "Parse progress: |████████████████████████████████████████████████████████████████| (done) 100%\n"
     ]
    },
    {
     "ename": "KeyboardInterrupt",
     "evalue": "",
     "output_type": "error",
     "traceback": [
      "\u001b[1;31m---------------------------------------------------------------------------\u001b[0m",
      "\u001b[1;31mConnectionRefusedError\u001b[0m                    Traceback (most recent call last)",
      "File \u001b[1;32mc:\\Users\\pnhua\\anaconda3\\Lib\\site-packages\\urllib3\\util\\connection.py:85\u001b[0m, in \u001b[0;36mcreate_connection\u001b[1;34m(address, timeout, source_address, socket_options)\u001b[0m\n\u001b[0;32m     84\u001b[0m     sock\u001b[38;5;241m.\u001b[39mbind(source_address)\n\u001b[1;32m---> 85\u001b[0m sock\u001b[38;5;241m.\u001b[39mconnect(sa)\n\u001b[0;32m     86\u001b[0m \u001b[38;5;28;01mreturn\u001b[39;00m sock\n",
      "\u001b[1;31mConnectionRefusedError\u001b[0m: [WinError 10061] No connection could be made because the target machine actively refused it",
      "\nDuring handling of the above exception, another exception occurred:\n",
      "\u001b[1;31mKeyboardInterrupt\u001b[0m                         Traceback (most recent call last)",
      "Cell \u001b[1;32mIn[139], line 7\u001b[0m\n\u001b[0;32m      5\u001b[0m X_train_h2o \u001b[38;5;241m=\u001b[39m h2o\u001b[38;5;241m.\u001b[39mH2OFrame(X_train)\n\u001b[0;32m      6\u001b[0m y_train_h2o \u001b[38;5;241m=\u001b[39m h2o\u001b[38;5;241m.\u001b[39mH2OFrame(y_train)\n\u001b[1;32m----> 7\u001b[0m X_val_h2o \u001b[38;5;241m=\u001b[39m \u001b[43mh2o\u001b[49m\u001b[38;5;241;43m.\u001b[39;49m\u001b[43mH2OFrame\u001b[49m\u001b[43m(\u001b[49m\u001b[43mX_val\u001b[49m\u001b[43m)\u001b[49m\n\u001b[0;32m      8\u001b[0m y_val_h2o \u001b[38;5;241m=\u001b[39m h2o\u001b[38;5;241m.\u001b[39mH2OFrame(y_val)\n\u001b[0;32m     10\u001b[0m \u001b[38;5;66;03m# Combine the features and target for training\u001b[39;00m\n",
      "File \u001b[1;32mc:\\Users\\pnhua\\anaconda3\\Lib\\site-packages\\h2o\\frame.py:120\u001b[0m, in \u001b[0;36mH2OFrame.__init__\u001b[1;34m(self, python_obj, destination_frame, header, separator, column_names, column_types, na_strings, skipped_columns, force_col_types)\u001b[0m\n\u001b[0;32m    118\u001b[0m \u001b[38;5;28mself\u001b[39m\u001b[38;5;241m.\u001b[39m_ex\u001b[38;5;241m.\u001b[39m_children \u001b[38;5;241m=\u001b[39m \u001b[38;5;28;01mNone\u001b[39;00m\n\u001b[0;32m    119\u001b[0m \u001b[38;5;28;01mif\u001b[39;00m python_obj \u001b[38;5;129;01mis\u001b[39;00m \u001b[38;5;129;01mnot\u001b[39;00m \u001b[38;5;28;01mNone\u001b[39;00m:\n\u001b[1;32m--> 120\u001b[0m     \u001b[38;5;28;43mself\u001b[39;49m\u001b[38;5;241;43m.\u001b[39;49m\u001b[43m_upload_python_object\u001b[49m\u001b[43m(\u001b[49m\u001b[43mpython_obj\u001b[49m\u001b[43m,\u001b[49m\u001b[43m \u001b[49m\u001b[43mdestination_frame\u001b[49m\u001b[43m,\u001b[49m\u001b[43m \u001b[49m\u001b[43mheader\u001b[49m\u001b[43m,\u001b[49m\u001b[43m \u001b[49m\u001b[43mseparator\u001b[49m\u001b[43m,\u001b[49m\n\u001b[0;32m    121\u001b[0m \u001b[43m                               \u001b[49m\u001b[43mcolumn_names\u001b[49m\u001b[43m,\u001b[49m\u001b[43m \u001b[49m\u001b[43mcolumn_types\u001b[49m\u001b[43m,\u001b[49m\u001b[43m \u001b[49m\u001b[43mna_strings\u001b[49m\u001b[43m,\u001b[49m\u001b[43m \u001b[49m\u001b[43mskipped_columns\u001b[49m\u001b[43m,\u001b[49m\u001b[43m \u001b[49m\u001b[43mforce_col_types\u001b[49m\u001b[43m)\u001b[49m\n",
      "File \u001b[1;32mc:\\Users\\pnhua\\anaconda3\\Lib\\site-packages\\h2o\\frame.py:161\u001b[0m, in \u001b[0;36mH2OFrame._upload_python_object\u001b[1;34m(self, python_obj, destination_frame, header, separator, column_names, column_types, na_strings, skipped_columns, force_col_types)\u001b[0m\n\u001b[0;32m    159\u001b[0m     csv_writer\u001b[38;5;241m.\u001b[39mwriterows(data_to_write)\n\u001b[0;32m    160\u001b[0m tmp_file\u001b[38;5;241m.\u001b[39mclose()  \u001b[38;5;66;03m# close the streams\u001b[39;00m\n\u001b[1;32m--> 161\u001b[0m \u001b[38;5;28;43mself\u001b[39;49m\u001b[38;5;241;43m.\u001b[39;49m\u001b[43m_upload_parse\u001b[49m\u001b[43m(\u001b[49m\u001b[43mtmp_path\u001b[49m\u001b[43m,\u001b[49m\u001b[43m \u001b[49m\u001b[43mdestination_frame\u001b[49m\u001b[43m,\u001b[49m\u001b[43m \u001b[49m\u001b[38;5;241;43m1\u001b[39;49m\u001b[43m,\u001b[49m\u001b[43m \u001b[49m\u001b[43mseparator\u001b[49m\u001b[43m,\u001b[49m\u001b[43m \u001b[49m\u001b[43mcolumn_names\u001b[49m\u001b[43m,\u001b[49m\u001b[43m \u001b[49m\u001b[43mcolumn_types\u001b[49m\u001b[43m,\u001b[49m\u001b[43m \u001b[49m\u001b[43mna_strings\u001b[49m\u001b[43m,\u001b[49m\n\u001b[0;32m    162\u001b[0m \u001b[43m                   \u001b[49m\u001b[43mskipped_columns\u001b[49m\u001b[43m,\u001b[49m\u001b[43m \u001b[49m\u001b[43mforce_col_types\u001b[49m\u001b[43m)\u001b[49m\n\u001b[0;32m    163\u001b[0m os\u001b[38;5;241m.\u001b[39mremove(tmp_path)\n",
      "File \u001b[1;32mc:\\Users\\pnhua\\anaconda3\\Lib\\site-packages\\h2o\\frame.py:465\u001b[0m, in \u001b[0;36mH2OFrame._upload_parse\u001b[1;34m(self, path, destination_frame, header, sep, column_names, column_types, na_strings, skipped_columns, force_col_types, quotechar, escapechar)\u001b[0m\n\u001b[0;32m    463\u001b[0m \u001b[38;5;28;01mdef\u001b[39;00m \u001b[38;5;21m_upload_parse\u001b[39m(\u001b[38;5;28mself\u001b[39m, path, destination_frame, header, sep, column_names, column_types, na_strings, \n\u001b[0;32m    464\u001b[0m                   skipped_columns\u001b[38;5;241m=\u001b[39m\u001b[38;5;28;01mNone\u001b[39;00m, force_col_types\u001b[38;5;241m=\u001b[39m\u001b[38;5;28;01mFalse\u001b[39;00m, quotechar\u001b[38;5;241m=\u001b[39m\u001b[38;5;28;01mNone\u001b[39;00m, escapechar\u001b[38;5;241m=\u001b[39m\u001b[38;5;28;01mNone\u001b[39;00m):\n\u001b[1;32m--> 465\u001b[0m     ret \u001b[38;5;241m=\u001b[39m \u001b[43mh2o\u001b[49m\u001b[38;5;241;43m.\u001b[39;49m\u001b[43mapi\u001b[49m\u001b[43m(\u001b[49m\u001b[38;5;124;43m\"\u001b[39;49m\u001b[38;5;124;43mPOST /3/PostFile\u001b[39;49m\u001b[38;5;124;43m\"\u001b[39;49m\u001b[43m,\u001b[49m\u001b[43m \u001b[49m\u001b[43mfilename\u001b[49m\u001b[38;5;241;43m=\u001b[39;49m\u001b[43mpath\u001b[49m\u001b[43m)\u001b[49m\n\u001b[0;32m    466\u001b[0m     rawkey \u001b[38;5;241m=\u001b[39m ret[\u001b[38;5;124m\"\u001b[39m\u001b[38;5;124mdestination_frame\u001b[39m\u001b[38;5;124m\"\u001b[39m]\n\u001b[0;32m    467\u001b[0m     \u001b[38;5;28mself\u001b[39m\u001b[38;5;241m.\u001b[39m_parse(rawkey, destination_frame, header, sep, column_names, column_types, na_strings, skipped_columns,\n\u001b[0;32m    468\u001b[0m                 force_col_types, quotechar\u001b[38;5;241m=\u001b[39mquotechar, escapechar\u001b[38;5;241m=\u001b[39mescapechar)\n",
      "File \u001b[1;32mc:\\Users\\pnhua\\anaconda3\\Lib\\site-packages\\h2o\\h2o.py:123\u001b[0m, in \u001b[0;36mapi\u001b[1;34m(endpoint, data, json, filename, save_to)\u001b[0m\n\u001b[0;32m    121\u001b[0m \u001b[38;5;66;03m# type checks are performed in H2OConnection class\u001b[39;00m\n\u001b[0;32m    122\u001b[0m _check_connection()\n\u001b[1;32m--> 123\u001b[0m \u001b[38;5;28;01mreturn\u001b[39;00m \u001b[43mh2oconn\u001b[49m\u001b[38;5;241;43m.\u001b[39;49m\u001b[43mrequest\u001b[49m\u001b[43m(\u001b[49m\u001b[43mendpoint\u001b[49m\u001b[43m,\u001b[49m\u001b[43m \u001b[49m\u001b[43mdata\u001b[49m\u001b[38;5;241;43m=\u001b[39;49m\u001b[43mdata\u001b[49m\u001b[43m,\u001b[49m\u001b[43m \u001b[49m\u001b[43mjson\u001b[49m\u001b[38;5;241;43m=\u001b[39;49m\u001b[43mjson\u001b[49m\u001b[43m,\u001b[49m\u001b[43m \u001b[49m\u001b[43mfilename\u001b[49m\u001b[38;5;241;43m=\u001b[39;49m\u001b[43mfilename\u001b[49m\u001b[43m,\u001b[49m\u001b[43m \u001b[49m\u001b[43msave_to\u001b[49m\u001b[38;5;241;43m=\u001b[39;49m\u001b[43msave_to\u001b[49m\u001b[43m)\u001b[49m\n",
      "File \u001b[1;32mc:\\Users\\pnhua\\anaconda3\\Lib\\site-packages\\h2o\\backend\\connection.py:494\u001b[0m, in \u001b[0;36mH2OConnection.request\u001b[1;34m(self, endpoint, data, json, filename, save_to)\u001b[0m\n\u001b[0;32m    492\u001b[0m \u001b[38;5;28mself\u001b[39m\u001b[38;5;241m.\u001b[39m_log_start_transaction(endpoint, rd, json, filename, params)\n\u001b[0;32m    493\u001b[0m args \u001b[38;5;241m=\u001b[39m \u001b[38;5;28mself\u001b[39m\u001b[38;5;241m.\u001b[39m_request_args()\n\u001b[1;32m--> 494\u001b[0m resp \u001b[38;5;241m=\u001b[39m \u001b[43mrequests\u001b[49m\u001b[38;5;241;43m.\u001b[39;49m\u001b[43mrequest\u001b[49m\u001b[43m(\u001b[49m\u001b[43mmethod\u001b[49m\u001b[38;5;241;43m=\u001b[39;49m\u001b[43mmethod\u001b[49m\u001b[43m,\u001b[49m\u001b[43m \u001b[49m\u001b[43murl\u001b[49m\u001b[38;5;241;43m=\u001b[39;49m\u001b[43murl\u001b[49m\u001b[43m,\u001b[49m\u001b[43m \u001b[49m\u001b[43mdata\u001b[49m\u001b[38;5;241;43m=\u001b[39;49m\u001b[43mrd\u001b[49m\u001b[43m,\u001b[49m\u001b[43m \u001b[49m\u001b[43mjson\u001b[49m\u001b[38;5;241;43m=\u001b[39;49m\u001b[43mjson\u001b[49m\u001b[43m,\u001b[49m\u001b[43m \u001b[49m\u001b[43mparams\u001b[49m\u001b[38;5;241;43m=\u001b[39;49m\u001b[43mparams\u001b[49m\u001b[43m,\u001b[49m\n\u001b[0;32m    495\u001b[0m \u001b[43m                        \u001b[49m\u001b[43mstream\u001b[49m\u001b[38;5;241;43m=\u001b[39;49m\u001b[43mstream\u001b[49m\u001b[43m,\u001b[49m\u001b[43m \u001b[49m\u001b[38;5;241;43m*\u001b[39;49m\u001b[38;5;241;43m*\u001b[39;49m\u001b[43margs\u001b[49m\u001b[43m)\u001b[49m\n\u001b[0;32m    496\u001b[0m \u001b[38;5;28;01mif\u001b[39;00m \u001b[38;5;28misinstance\u001b[39m(save_to, types\u001b[38;5;241m.\u001b[39mFunctionType):\n\u001b[0;32m    497\u001b[0m     save_to \u001b[38;5;241m=\u001b[39m save_to(resp)\n",
      "File \u001b[1;32mc:\\Users\\pnhua\\anaconda3\\Lib\\site-packages\\requests\\api.py:59\u001b[0m, in \u001b[0;36mrequest\u001b[1;34m(method, url, **kwargs)\u001b[0m\n\u001b[0;32m     55\u001b[0m \u001b[38;5;66;03m# By using the 'with' statement we are sure the session is closed, thus we\u001b[39;00m\n\u001b[0;32m     56\u001b[0m \u001b[38;5;66;03m# avoid leaving sockets open which can trigger a ResourceWarning in some\u001b[39;00m\n\u001b[0;32m     57\u001b[0m \u001b[38;5;66;03m# cases, and look like a memory leak in others.\u001b[39;00m\n\u001b[0;32m     58\u001b[0m \u001b[38;5;28;01mwith\u001b[39;00m sessions\u001b[38;5;241m.\u001b[39mSession() \u001b[38;5;28;01mas\u001b[39;00m session:\n\u001b[1;32m---> 59\u001b[0m     \u001b[38;5;28;01mreturn\u001b[39;00m \u001b[43msession\u001b[49m\u001b[38;5;241;43m.\u001b[39;49m\u001b[43mrequest\u001b[49m\u001b[43m(\u001b[49m\u001b[43mmethod\u001b[49m\u001b[38;5;241;43m=\u001b[39;49m\u001b[43mmethod\u001b[49m\u001b[43m,\u001b[49m\u001b[43m \u001b[49m\u001b[43murl\u001b[49m\u001b[38;5;241;43m=\u001b[39;49m\u001b[43murl\u001b[49m\u001b[43m,\u001b[49m\u001b[43m \u001b[49m\u001b[38;5;241;43m*\u001b[39;49m\u001b[38;5;241;43m*\u001b[39;49m\u001b[43mkwargs\u001b[49m\u001b[43m)\u001b[49m\n",
      "File \u001b[1;32mc:\\Users\\pnhua\\anaconda3\\Lib\\site-packages\\requests\\sessions.py:589\u001b[0m, in \u001b[0;36mSession.request\u001b[1;34m(self, method, url, params, data, headers, cookies, files, auth, timeout, allow_redirects, proxies, hooks, stream, verify, cert, json)\u001b[0m\n\u001b[0;32m    584\u001b[0m send_kwargs \u001b[38;5;241m=\u001b[39m {\n\u001b[0;32m    585\u001b[0m     \u001b[38;5;124m\"\u001b[39m\u001b[38;5;124mtimeout\u001b[39m\u001b[38;5;124m\"\u001b[39m: timeout,\n\u001b[0;32m    586\u001b[0m     \u001b[38;5;124m\"\u001b[39m\u001b[38;5;124mallow_redirects\u001b[39m\u001b[38;5;124m\"\u001b[39m: allow_redirects,\n\u001b[0;32m    587\u001b[0m }\n\u001b[0;32m    588\u001b[0m send_kwargs\u001b[38;5;241m.\u001b[39mupdate(settings)\n\u001b[1;32m--> 589\u001b[0m resp \u001b[38;5;241m=\u001b[39m \u001b[38;5;28;43mself\u001b[39;49m\u001b[38;5;241;43m.\u001b[39;49m\u001b[43msend\u001b[49m\u001b[43m(\u001b[49m\u001b[43mprep\u001b[49m\u001b[43m,\u001b[49m\u001b[43m \u001b[49m\u001b[38;5;241;43m*\u001b[39;49m\u001b[38;5;241;43m*\u001b[39;49m\u001b[43msend_kwargs\u001b[49m\u001b[43m)\u001b[49m\n\u001b[0;32m    591\u001b[0m \u001b[38;5;28;01mreturn\u001b[39;00m resp\n",
      "File \u001b[1;32mc:\\Users\\pnhua\\anaconda3\\Lib\\site-packages\\requests\\sessions.py:703\u001b[0m, in \u001b[0;36mSession.send\u001b[1;34m(self, request, **kwargs)\u001b[0m\n\u001b[0;32m    700\u001b[0m start \u001b[38;5;241m=\u001b[39m preferred_clock()\n\u001b[0;32m    702\u001b[0m \u001b[38;5;66;03m# Send the request\u001b[39;00m\n\u001b[1;32m--> 703\u001b[0m r \u001b[38;5;241m=\u001b[39m \u001b[43madapter\u001b[49m\u001b[38;5;241;43m.\u001b[39;49m\u001b[43msend\u001b[49m\u001b[43m(\u001b[49m\u001b[43mrequest\u001b[49m\u001b[43m,\u001b[49m\u001b[43m \u001b[49m\u001b[38;5;241;43m*\u001b[39;49m\u001b[38;5;241;43m*\u001b[39;49m\u001b[43mkwargs\u001b[49m\u001b[43m)\u001b[49m\n\u001b[0;32m    705\u001b[0m \u001b[38;5;66;03m# Total elapsed time of the request (approximately)\u001b[39;00m\n\u001b[0;32m    706\u001b[0m elapsed \u001b[38;5;241m=\u001b[39m preferred_clock() \u001b[38;5;241m-\u001b[39m start\n",
      "File \u001b[1;32mc:\\Users\\pnhua\\anaconda3\\Lib\\site-packages\\requests\\adapters.py:486\u001b[0m, in \u001b[0;36mHTTPAdapter.send\u001b[1;34m(self, request, stream, timeout, verify, cert, proxies)\u001b[0m\n\u001b[0;32m    483\u001b[0m     timeout \u001b[38;5;241m=\u001b[39m TimeoutSauce(connect\u001b[38;5;241m=\u001b[39mtimeout, read\u001b[38;5;241m=\u001b[39mtimeout)\n\u001b[0;32m    485\u001b[0m \u001b[38;5;28;01mtry\u001b[39;00m:\n\u001b[1;32m--> 486\u001b[0m     resp \u001b[38;5;241m=\u001b[39m \u001b[43mconn\u001b[49m\u001b[38;5;241;43m.\u001b[39;49m\u001b[43murlopen\u001b[49m\u001b[43m(\u001b[49m\n\u001b[0;32m    487\u001b[0m \u001b[43m        \u001b[49m\u001b[43mmethod\u001b[49m\u001b[38;5;241;43m=\u001b[39;49m\u001b[43mrequest\u001b[49m\u001b[38;5;241;43m.\u001b[39;49m\u001b[43mmethod\u001b[49m\u001b[43m,\u001b[49m\n\u001b[0;32m    488\u001b[0m \u001b[43m        \u001b[49m\u001b[43murl\u001b[49m\u001b[38;5;241;43m=\u001b[39;49m\u001b[43murl\u001b[49m\u001b[43m,\u001b[49m\n\u001b[0;32m    489\u001b[0m \u001b[43m        \u001b[49m\u001b[43mbody\u001b[49m\u001b[38;5;241;43m=\u001b[39;49m\u001b[43mrequest\u001b[49m\u001b[38;5;241;43m.\u001b[39;49m\u001b[43mbody\u001b[49m\u001b[43m,\u001b[49m\n\u001b[0;32m    490\u001b[0m \u001b[43m        \u001b[49m\u001b[43mheaders\u001b[49m\u001b[38;5;241;43m=\u001b[39;49m\u001b[43mrequest\u001b[49m\u001b[38;5;241;43m.\u001b[39;49m\u001b[43mheaders\u001b[49m\u001b[43m,\u001b[49m\n\u001b[0;32m    491\u001b[0m \u001b[43m        \u001b[49m\u001b[43mredirect\u001b[49m\u001b[38;5;241;43m=\u001b[39;49m\u001b[38;5;28;43;01mFalse\u001b[39;49;00m\u001b[43m,\u001b[49m\n\u001b[0;32m    492\u001b[0m \u001b[43m        \u001b[49m\u001b[43massert_same_host\u001b[49m\u001b[38;5;241;43m=\u001b[39;49m\u001b[38;5;28;43;01mFalse\u001b[39;49;00m\u001b[43m,\u001b[49m\n\u001b[0;32m    493\u001b[0m \u001b[43m        \u001b[49m\u001b[43mpreload_content\u001b[49m\u001b[38;5;241;43m=\u001b[39;49m\u001b[38;5;28;43;01mFalse\u001b[39;49;00m\u001b[43m,\u001b[49m\n\u001b[0;32m    494\u001b[0m \u001b[43m        \u001b[49m\u001b[43mdecode_content\u001b[49m\u001b[38;5;241;43m=\u001b[39;49m\u001b[38;5;28;43;01mFalse\u001b[39;49;00m\u001b[43m,\u001b[49m\n\u001b[0;32m    495\u001b[0m \u001b[43m        \u001b[49m\u001b[43mretries\u001b[49m\u001b[38;5;241;43m=\u001b[39;49m\u001b[38;5;28;43mself\u001b[39;49m\u001b[38;5;241;43m.\u001b[39;49m\u001b[43mmax_retries\u001b[49m\u001b[43m,\u001b[49m\n\u001b[0;32m    496\u001b[0m \u001b[43m        \u001b[49m\u001b[43mtimeout\u001b[49m\u001b[38;5;241;43m=\u001b[39;49m\u001b[43mtimeout\u001b[49m\u001b[43m,\u001b[49m\n\u001b[0;32m    497\u001b[0m \u001b[43m        \u001b[49m\u001b[43mchunked\u001b[49m\u001b[38;5;241;43m=\u001b[39;49m\u001b[43mchunked\u001b[49m\u001b[43m,\u001b[49m\n\u001b[0;32m    498\u001b[0m \u001b[43m    \u001b[49m\u001b[43m)\u001b[49m\n\u001b[0;32m    500\u001b[0m \u001b[38;5;28;01mexcept\u001b[39;00m (ProtocolError, \u001b[38;5;167;01mOSError\u001b[39;00m) \u001b[38;5;28;01mas\u001b[39;00m err:\n\u001b[0;32m    501\u001b[0m     \u001b[38;5;28;01mraise\u001b[39;00m \u001b[38;5;167;01mConnectionError\u001b[39;00m(err, request\u001b[38;5;241m=\u001b[39mrequest)\n",
      "File \u001b[1;32mc:\\Users\\pnhua\\anaconda3\\Lib\\site-packages\\urllib3\\connectionpool.py:715\u001b[0m, in \u001b[0;36mHTTPConnectionPool.urlopen\u001b[1;34m(self, method, url, body, headers, retries, redirect, assert_same_host, timeout, pool_timeout, release_conn, chunked, body_pos, **response_kw)\u001b[0m\n\u001b[0;32m    712\u001b[0m     \u001b[38;5;28mself\u001b[39m\u001b[38;5;241m.\u001b[39m_prepare_proxy(conn)\n\u001b[0;32m    714\u001b[0m \u001b[38;5;66;03m# Make the request on the httplib connection object.\u001b[39;00m\n\u001b[1;32m--> 715\u001b[0m httplib_response \u001b[38;5;241m=\u001b[39m \u001b[38;5;28;43mself\u001b[39;49m\u001b[38;5;241;43m.\u001b[39;49m\u001b[43m_make_request\u001b[49m\u001b[43m(\u001b[49m\n\u001b[0;32m    716\u001b[0m \u001b[43m    \u001b[49m\u001b[43mconn\u001b[49m\u001b[43m,\u001b[49m\n\u001b[0;32m    717\u001b[0m \u001b[43m    \u001b[49m\u001b[43mmethod\u001b[49m\u001b[43m,\u001b[49m\n\u001b[0;32m    718\u001b[0m \u001b[43m    \u001b[49m\u001b[43murl\u001b[49m\u001b[43m,\u001b[49m\n\u001b[0;32m    719\u001b[0m \u001b[43m    \u001b[49m\u001b[43mtimeout\u001b[49m\u001b[38;5;241;43m=\u001b[39;49m\u001b[43mtimeout_obj\u001b[49m\u001b[43m,\u001b[49m\n\u001b[0;32m    720\u001b[0m \u001b[43m    \u001b[49m\u001b[43mbody\u001b[49m\u001b[38;5;241;43m=\u001b[39;49m\u001b[43mbody\u001b[49m\u001b[43m,\u001b[49m\n\u001b[0;32m    721\u001b[0m \u001b[43m    \u001b[49m\u001b[43mheaders\u001b[49m\u001b[38;5;241;43m=\u001b[39;49m\u001b[43mheaders\u001b[49m\u001b[43m,\u001b[49m\n\u001b[0;32m    722\u001b[0m \u001b[43m    \u001b[49m\u001b[43mchunked\u001b[49m\u001b[38;5;241;43m=\u001b[39;49m\u001b[43mchunked\u001b[49m\u001b[43m,\u001b[49m\n\u001b[0;32m    723\u001b[0m \u001b[43m\u001b[49m\u001b[43m)\u001b[49m\n\u001b[0;32m    725\u001b[0m \u001b[38;5;66;03m# If we're going to release the connection in ``finally:``, then\u001b[39;00m\n\u001b[0;32m    726\u001b[0m \u001b[38;5;66;03m# the response doesn't need to know about the connection. Otherwise\u001b[39;00m\n\u001b[0;32m    727\u001b[0m \u001b[38;5;66;03m# it will also try to release it and we'll have a double-release\u001b[39;00m\n\u001b[0;32m    728\u001b[0m \u001b[38;5;66;03m# mess.\u001b[39;00m\n\u001b[0;32m    729\u001b[0m response_conn \u001b[38;5;241m=\u001b[39m conn \u001b[38;5;28;01mif\u001b[39;00m \u001b[38;5;129;01mnot\u001b[39;00m release_conn \u001b[38;5;28;01melse\u001b[39;00m \u001b[38;5;28;01mNone\u001b[39;00m\n",
      "File \u001b[1;32mc:\\Users\\pnhua\\anaconda3\\Lib\\site-packages\\urllib3\\connectionpool.py:416\u001b[0m, in \u001b[0;36mHTTPConnectionPool._make_request\u001b[1;34m(self, conn, method, url, timeout, chunked, **httplib_request_kw)\u001b[0m\n\u001b[0;32m    414\u001b[0m         conn\u001b[38;5;241m.\u001b[39mrequest_chunked(method, url, \u001b[38;5;241m*\u001b[39m\u001b[38;5;241m*\u001b[39mhttplib_request_kw)\n\u001b[0;32m    415\u001b[0m     \u001b[38;5;28;01melse\u001b[39;00m:\n\u001b[1;32m--> 416\u001b[0m         \u001b[43mconn\u001b[49m\u001b[38;5;241;43m.\u001b[39;49m\u001b[43mrequest\u001b[49m\u001b[43m(\u001b[49m\u001b[43mmethod\u001b[49m\u001b[43m,\u001b[49m\u001b[43m \u001b[49m\u001b[43murl\u001b[49m\u001b[43m,\u001b[49m\u001b[43m \u001b[49m\u001b[38;5;241;43m*\u001b[39;49m\u001b[38;5;241;43m*\u001b[39;49m\u001b[43mhttplib_request_kw\u001b[49m\u001b[43m)\u001b[49m\n\u001b[0;32m    418\u001b[0m \u001b[38;5;66;03m# We are swallowing BrokenPipeError (errno.EPIPE) since the server is\u001b[39;00m\n\u001b[0;32m    419\u001b[0m \u001b[38;5;66;03m# legitimately able to close the connection after sending a valid response.\u001b[39;00m\n\u001b[0;32m    420\u001b[0m \u001b[38;5;66;03m# With this behaviour, the received response is still readable.\u001b[39;00m\n\u001b[0;32m    421\u001b[0m \u001b[38;5;28;01mexcept\u001b[39;00m \u001b[38;5;167;01mBrokenPipeError\u001b[39;00m:\n\u001b[0;32m    422\u001b[0m     \u001b[38;5;66;03m# Python 3\u001b[39;00m\n",
      "File \u001b[1;32mc:\\Users\\pnhua\\anaconda3\\Lib\\site-packages\\urllib3\\connection.py:244\u001b[0m, in \u001b[0;36mHTTPConnection.request\u001b[1;34m(self, method, url, body, headers)\u001b[0m\n\u001b[0;32m    242\u001b[0m \u001b[38;5;28;01mif\u001b[39;00m \u001b[38;5;124m\"\u001b[39m\u001b[38;5;124muser-agent\u001b[39m\u001b[38;5;124m\"\u001b[39m \u001b[38;5;129;01mnot\u001b[39;00m \u001b[38;5;129;01min\u001b[39;00m (six\u001b[38;5;241m.\u001b[39mensure_str(k\u001b[38;5;241m.\u001b[39mlower()) \u001b[38;5;28;01mfor\u001b[39;00m k \u001b[38;5;129;01min\u001b[39;00m headers):\n\u001b[0;32m    243\u001b[0m     headers[\u001b[38;5;124m\"\u001b[39m\u001b[38;5;124mUser-Agent\u001b[39m\u001b[38;5;124m\"\u001b[39m] \u001b[38;5;241m=\u001b[39m _get_default_user_agent()\n\u001b[1;32m--> 244\u001b[0m \u001b[38;5;28;43msuper\u001b[39;49m\u001b[43m(\u001b[49m\u001b[43mHTTPConnection\u001b[49m\u001b[43m,\u001b[49m\u001b[43m \u001b[49m\u001b[38;5;28;43mself\u001b[39;49m\u001b[43m)\u001b[49m\u001b[38;5;241;43m.\u001b[39;49m\u001b[43mrequest\u001b[49m\u001b[43m(\u001b[49m\u001b[43mmethod\u001b[49m\u001b[43m,\u001b[49m\u001b[43m \u001b[49m\u001b[43murl\u001b[49m\u001b[43m,\u001b[49m\u001b[43m \u001b[49m\u001b[43mbody\u001b[49m\u001b[38;5;241;43m=\u001b[39;49m\u001b[43mbody\u001b[49m\u001b[43m,\u001b[49m\u001b[43m \u001b[49m\u001b[43mheaders\u001b[49m\u001b[38;5;241;43m=\u001b[39;49m\u001b[43mheaders\u001b[49m\u001b[43m)\u001b[49m\n",
      "File \u001b[1;32mc:\\Users\\pnhua\\anaconda3\\Lib\\http\\client.py:1286\u001b[0m, in \u001b[0;36mHTTPConnection.request\u001b[1;34m(self, method, url, body, headers, encode_chunked)\u001b[0m\n\u001b[0;32m   1283\u001b[0m \u001b[38;5;28;01mdef\u001b[39;00m \u001b[38;5;21mrequest\u001b[39m(\u001b[38;5;28mself\u001b[39m, method, url, body\u001b[38;5;241m=\u001b[39m\u001b[38;5;28;01mNone\u001b[39;00m, headers\u001b[38;5;241m=\u001b[39m{}, \u001b[38;5;241m*\u001b[39m,\n\u001b[0;32m   1284\u001b[0m             encode_chunked\u001b[38;5;241m=\u001b[39m\u001b[38;5;28;01mFalse\u001b[39;00m):\n\u001b[0;32m   1285\u001b[0m \u001b[38;5;250m    \u001b[39m\u001b[38;5;124;03m\"\"\"Send a complete request to the server.\"\"\"\u001b[39;00m\n\u001b[1;32m-> 1286\u001b[0m     \u001b[38;5;28;43mself\u001b[39;49m\u001b[38;5;241;43m.\u001b[39;49m\u001b[43m_send_request\u001b[49m\u001b[43m(\u001b[49m\u001b[43mmethod\u001b[49m\u001b[43m,\u001b[49m\u001b[43m \u001b[49m\u001b[43murl\u001b[49m\u001b[43m,\u001b[49m\u001b[43m \u001b[49m\u001b[43mbody\u001b[49m\u001b[43m,\u001b[49m\u001b[43m \u001b[49m\u001b[43mheaders\u001b[49m\u001b[43m,\u001b[49m\u001b[43m \u001b[49m\u001b[43mencode_chunked\u001b[49m\u001b[43m)\u001b[49m\n",
      "File \u001b[1;32mc:\\Users\\pnhua\\anaconda3\\Lib\\http\\client.py:1332\u001b[0m, in \u001b[0;36mHTTPConnection._send_request\u001b[1;34m(self, method, url, body, headers, encode_chunked)\u001b[0m\n\u001b[0;32m   1328\u001b[0m \u001b[38;5;28;01mif\u001b[39;00m \u001b[38;5;28misinstance\u001b[39m(body, \u001b[38;5;28mstr\u001b[39m):\n\u001b[0;32m   1329\u001b[0m     \u001b[38;5;66;03m# RFC 2616 Section 3.7.1 says that text default has a\u001b[39;00m\n\u001b[0;32m   1330\u001b[0m     \u001b[38;5;66;03m# default charset of iso-8859-1.\u001b[39;00m\n\u001b[0;32m   1331\u001b[0m     body \u001b[38;5;241m=\u001b[39m _encode(body, \u001b[38;5;124m'\u001b[39m\u001b[38;5;124mbody\u001b[39m\u001b[38;5;124m'\u001b[39m)\n\u001b[1;32m-> 1332\u001b[0m \u001b[38;5;28;43mself\u001b[39;49m\u001b[38;5;241;43m.\u001b[39;49m\u001b[43mendheaders\u001b[49m\u001b[43m(\u001b[49m\u001b[43mbody\u001b[49m\u001b[43m,\u001b[49m\u001b[43m \u001b[49m\u001b[43mencode_chunked\u001b[49m\u001b[38;5;241;43m=\u001b[39;49m\u001b[43mencode_chunked\u001b[49m\u001b[43m)\u001b[49m\n",
      "File \u001b[1;32mc:\\Users\\pnhua\\anaconda3\\Lib\\http\\client.py:1281\u001b[0m, in \u001b[0;36mHTTPConnection.endheaders\u001b[1;34m(self, message_body, encode_chunked)\u001b[0m\n\u001b[0;32m   1279\u001b[0m \u001b[38;5;28;01melse\u001b[39;00m:\n\u001b[0;32m   1280\u001b[0m     \u001b[38;5;28;01mraise\u001b[39;00m CannotSendHeader()\n\u001b[1;32m-> 1281\u001b[0m \u001b[38;5;28;43mself\u001b[39;49m\u001b[38;5;241;43m.\u001b[39;49m\u001b[43m_send_output\u001b[49m\u001b[43m(\u001b[49m\u001b[43mmessage_body\u001b[49m\u001b[43m,\u001b[49m\u001b[43m \u001b[49m\u001b[43mencode_chunked\u001b[49m\u001b[38;5;241;43m=\u001b[39;49m\u001b[43mencode_chunked\u001b[49m\u001b[43m)\u001b[49m\n",
      "File \u001b[1;32mc:\\Users\\pnhua\\anaconda3\\Lib\\http\\client.py:1041\u001b[0m, in \u001b[0;36mHTTPConnection._send_output\u001b[1;34m(self, message_body, encode_chunked)\u001b[0m\n\u001b[0;32m   1039\u001b[0m msg \u001b[38;5;241m=\u001b[39m \u001b[38;5;124mb\u001b[39m\u001b[38;5;124m\"\u001b[39m\u001b[38;5;130;01m\\r\u001b[39;00m\u001b[38;5;130;01m\\n\u001b[39;00m\u001b[38;5;124m\"\u001b[39m\u001b[38;5;241m.\u001b[39mjoin(\u001b[38;5;28mself\u001b[39m\u001b[38;5;241m.\u001b[39m_buffer)\n\u001b[0;32m   1040\u001b[0m \u001b[38;5;28;01mdel\u001b[39;00m \u001b[38;5;28mself\u001b[39m\u001b[38;5;241m.\u001b[39m_buffer[:]\n\u001b[1;32m-> 1041\u001b[0m \u001b[38;5;28;43mself\u001b[39;49m\u001b[38;5;241;43m.\u001b[39;49m\u001b[43msend\u001b[49m\u001b[43m(\u001b[49m\u001b[43mmsg\u001b[49m\u001b[43m)\u001b[49m\n\u001b[0;32m   1043\u001b[0m \u001b[38;5;28;01mif\u001b[39;00m message_body \u001b[38;5;129;01mis\u001b[39;00m \u001b[38;5;129;01mnot\u001b[39;00m \u001b[38;5;28;01mNone\u001b[39;00m:\n\u001b[0;32m   1044\u001b[0m \n\u001b[0;32m   1045\u001b[0m     \u001b[38;5;66;03m# create a consistent interface to message_body\u001b[39;00m\n\u001b[0;32m   1046\u001b[0m     \u001b[38;5;28;01mif\u001b[39;00m \u001b[38;5;28mhasattr\u001b[39m(message_body, \u001b[38;5;124m'\u001b[39m\u001b[38;5;124mread\u001b[39m\u001b[38;5;124m'\u001b[39m):\n\u001b[0;32m   1047\u001b[0m         \u001b[38;5;66;03m# Let file-like take precedence over byte-like.  This\u001b[39;00m\n\u001b[0;32m   1048\u001b[0m         \u001b[38;5;66;03m# is needed to allow the current position of mmap'ed\u001b[39;00m\n\u001b[0;32m   1049\u001b[0m         \u001b[38;5;66;03m# files to be taken into account.\u001b[39;00m\n",
      "File \u001b[1;32mc:\\Users\\pnhua\\anaconda3\\Lib\\http\\client.py:979\u001b[0m, in \u001b[0;36mHTTPConnection.send\u001b[1;34m(self, data)\u001b[0m\n\u001b[0;32m    977\u001b[0m \u001b[38;5;28;01mif\u001b[39;00m \u001b[38;5;28mself\u001b[39m\u001b[38;5;241m.\u001b[39msock \u001b[38;5;129;01mis\u001b[39;00m \u001b[38;5;28;01mNone\u001b[39;00m:\n\u001b[0;32m    978\u001b[0m     \u001b[38;5;28;01mif\u001b[39;00m \u001b[38;5;28mself\u001b[39m\u001b[38;5;241m.\u001b[39mauto_open:\n\u001b[1;32m--> 979\u001b[0m         \u001b[38;5;28;43mself\u001b[39;49m\u001b[38;5;241;43m.\u001b[39;49m\u001b[43mconnect\u001b[49m\u001b[43m(\u001b[49m\u001b[43m)\u001b[49m\n\u001b[0;32m    980\u001b[0m     \u001b[38;5;28;01melse\u001b[39;00m:\n\u001b[0;32m    981\u001b[0m         \u001b[38;5;28;01mraise\u001b[39;00m NotConnected()\n",
      "File \u001b[1;32mc:\\Users\\pnhua\\anaconda3\\Lib\\site-packages\\urllib3\\connection.py:205\u001b[0m, in \u001b[0;36mHTTPConnection.connect\u001b[1;34m(self)\u001b[0m\n\u001b[0;32m    204\u001b[0m \u001b[38;5;28;01mdef\u001b[39;00m \u001b[38;5;21mconnect\u001b[39m(\u001b[38;5;28mself\u001b[39m):\n\u001b[1;32m--> 205\u001b[0m     conn \u001b[38;5;241m=\u001b[39m \u001b[38;5;28;43mself\u001b[39;49m\u001b[38;5;241;43m.\u001b[39;49m\u001b[43m_new_conn\u001b[49m\u001b[43m(\u001b[49m\u001b[43m)\u001b[49m\n\u001b[0;32m    206\u001b[0m     \u001b[38;5;28mself\u001b[39m\u001b[38;5;241m.\u001b[39m_prepare_conn(conn)\n",
      "File \u001b[1;32mc:\\Users\\pnhua\\anaconda3\\Lib\\site-packages\\urllib3\\connection.py:174\u001b[0m, in \u001b[0;36mHTTPConnection._new_conn\u001b[1;34m(self)\u001b[0m\n\u001b[0;32m    171\u001b[0m     extra_kw[\u001b[38;5;124m\"\u001b[39m\u001b[38;5;124msocket_options\u001b[39m\u001b[38;5;124m\"\u001b[39m] \u001b[38;5;241m=\u001b[39m \u001b[38;5;28mself\u001b[39m\u001b[38;5;241m.\u001b[39msocket_options\n\u001b[0;32m    173\u001b[0m \u001b[38;5;28;01mtry\u001b[39;00m:\n\u001b[1;32m--> 174\u001b[0m     conn \u001b[38;5;241m=\u001b[39m \u001b[43mconnection\u001b[49m\u001b[38;5;241;43m.\u001b[39;49m\u001b[43mcreate_connection\u001b[49m\u001b[43m(\u001b[49m\n\u001b[0;32m    175\u001b[0m \u001b[43m        \u001b[49m\u001b[43m(\u001b[49m\u001b[38;5;28;43mself\u001b[39;49m\u001b[38;5;241;43m.\u001b[39;49m\u001b[43m_dns_host\u001b[49m\u001b[43m,\u001b[49m\u001b[43m \u001b[49m\u001b[38;5;28;43mself\u001b[39;49m\u001b[38;5;241;43m.\u001b[39;49m\u001b[43mport\u001b[49m\u001b[43m)\u001b[49m\u001b[43m,\u001b[49m\u001b[43m \u001b[49m\u001b[38;5;28;43mself\u001b[39;49m\u001b[38;5;241;43m.\u001b[39;49m\u001b[43mtimeout\u001b[49m\u001b[43m,\u001b[49m\u001b[43m \u001b[49m\u001b[38;5;241;43m*\u001b[39;49m\u001b[38;5;241;43m*\u001b[39;49m\u001b[43mextra_kw\u001b[49m\n\u001b[0;32m    176\u001b[0m \u001b[43m    \u001b[49m\u001b[43m)\u001b[49m\n\u001b[0;32m    178\u001b[0m \u001b[38;5;28;01mexcept\u001b[39;00m SocketTimeout:\n\u001b[0;32m    179\u001b[0m     \u001b[38;5;28;01mraise\u001b[39;00m ConnectTimeoutError(\n\u001b[0;32m    180\u001b[0m         \u001b[38;5;28mself\u001b[39m,\n\u001b[0;32m    181\u001b[0m         \u001b[38;5;124m\"\u001b[39m\u001b[38;5;124mConnection to \u001b[39m\u001b[38;5;132;01m%s\u001b[39;00m\u001b[38;5;124m timed out. (connect timeout=\u001b[39m\u001b[38;5;132;01m%s\u001b[39;00m\u001b[38;5;124m)\u001b[39m\u001b[38;5;124m\"\u001b[39m\n\u001b[0;32m    182\u001b[0m         \u001b[38;5;241m%\u001b[39m (\u001b[38;5;28mself\u001b[39m\u001b[38;5;241m.\u001b[39mhost, \u001b[38;5;28mself\u001b[39m\u001b[38;5;241m.\u001b[39mtimeout),\n\u001b[0;32m    183\u001b[0m     )\n",
      "File \u001b[1;32mc:\\Users\\pnhua\\anaconda3\\Lib\\site-packages\\urllib3\\util\\connection.py:91\u001b[0m, in \u001b[0;36mcreate_connection\u001b[1;34m(address, timeout, source_address, socket_options)\u001b[0m\n\u001b[0;32m     89\u001b[0m         err \u001b[38;5;241m=\u001b[39m e\n\u001b[0;32m     90\u001b[0m         \u001b[38;5;28;01mif\u001b[39;00m sock \u001b[38;5;129;01mis\u001b[39;00m \u001b[38;5;129;01mnot\u001b[39;00m \u001b[38;5;28;01mNone\u001b[39;00m:\n\u001b[1;32m---> 91\u001b[0m             \u001b[43msock\u001b[49m\u001b[38;5;241;43m.\u001b[39;49m\u001b[43mclose\u001b[49m\u001b[43m(\u001b[49m\u001b[43m)\u001b[49m\n\u001b[0;32m     92\u001b[0m             sock \u001b[38;5;241m=\u001b[39m \u001b[38;5;28;01mNone\u001b[39;00m\n\u001b[0;32m     94\u001b[0m \u001b[38;5;28;01mif\u001b[39;00m err \u001b[38;5;129;01mis\u001b[39;00m \u001b[38;5;129;01mnot\u001b[39;00m \u001b[38;5;28;01mNone\u001b[39;00m:\n",
      "File \u001b[1;32mc:\\Users\\pnhua\\anaconda3\\Lib\\socket.py:499\u001b[0m, in \u001b[0;36msocket.close\u001b[1;34m(self)\u001b[0m\n\u001b[0;32m    495\u001b[0m \u001b[38;5;28;01mdef\u001b[39;00m \u001b[38;5;21m_real_close\u001b[39m(\u001b[38;5;28mself\u001b[39m, _ss\u001b[38;5;241m=\u001b[39m_socket\u001b[38;5;241m.\u001b[39msocket):\n\u001b[0;32m    496\u001b[0m     \u001b[38;5;66;03m# This function should not reference any globals. See issue #808164.\u001b[39;00m\n\u001b[0;32m    497\u001b[0m     _ss\u001b[38;5;241m.\u001b[39mclose(\u001b[38;5;28mself\u001b[39m)\n\u001b[1;32m--> 499\u001b[0m \u001b[38;5;28;01mdef\u001b[39;00m \u001b[38;5;21mclose\u001b[39m(\u001b[38;5;28mself\u001b[39m):\n\u001b[0;32m    500\u001b[0m     \u001b[38;5;66;03m# This function should not reference any globals. See issue #808164.\u001b[39;00m\n\u001b[0;32m    501\u001b[0m     \u001b[38;5;28mself\u001b[39m\u001b[38;5;241m.\u001b[39m_closed \u001b[38;5;241m=\u001b[39m \u001b[38;5;28;01mTrue\u001b[39;00m\n\u001b[0;32m    502\u001b[0m     \u001b[38;5;28;01mif\u001b[39;00m \u001b[38;5;28mself\u001b[39m\u001b[38;5;241m.\u001b[39m_io_refs \u001b[38;5;241m<\u001b[39m\u001b[38;5;241m=\u001b[39m \u001b[38;5;241m0\u001b[39m:\n",
      "\u001b[1;31mKeyboardInterrupt\u001b[0m: "
     ]
    }
   ],
   "source": [
    "# Initialize H2O\n",
    "h2o.init()\n",
    "\n",
    "# Convert your data to H2OFrame\n",
    "X_train_h2o = h2o.H2OFrame(X_train)\n",
    "y_train_h2o = h2o.H2OFrame(y_train)\n",
    "X_val_h2o = h2o.H2OFrame(X_val)\n",
    "y_val_h2o = h2o.H2OFrame(y_val)\n",
    "\n",
    "# Combine the features and target for training\n",
    "train_data = X_train_h2o.cbind(y_train_h2o)\n",
    "train_data.set_names(list(X_train.columns) + ['DiagL90DPeriod'])\n",
    "\n",
    "# Combine the features and target for validation\n",
    "val_data = X_val_h2o.cbind(y_val_h2o)\n",
    "val_data.set_names(list(X_val.columns) + ['DiagL90DPeriod'])\n",
    "\n",
    "# Identify predictors and response\n",
    "x = train_data.columns[:-1]\n",
    "y = 'DiagL90DPeriod'\n",
    "\n",
    "# Run AutoML\n",
    "aml = H2OAutoML(max_models=5, seed=42)\n",
    "aml.train(x=x, y=y, training_frame=train_data)\n",
    "\n",
    "# View the AutoML leaderboard\n",
    "lb = aml.leaderboard\n",
    "print(lb)\n",
    "\n",
    "# Get the best model\n",
    "best_model = aml.leader\n",
    "\n",
    "# Evaluate the best model on the validation set\n",
    "val_predictions = best_model.predict(val_data)\n",
    "mse_score = best_model.model_performance(val_data).mse()\n",
    "print(f'Mean Squared Error (MSE) on validation set: {mse_score}')\n",
    "\n",
    "# Optionally, you can also use AUC-ROC for classification problems\n",
    "# For regression, you may want to consider other metrics like R2, RMSE, etc.\n"
   ]
  },
  {
   "cell_type": "markdown",
   "metadata": {},
   "source": [
    "## PyCaret"
   ]
  },
  {
   "cell_type": "code",
   "execution_count": 3,
   "metadata": {},
   "outputs": [],
   "source": [
    "import pyforest\n",
    "import pycaret\n",
    "pycaret.__version__\n",
    "from pycaret.classification import ClassificationExperiment\n",
    "from pycaret.regression import RegressionExperiment"
   ]
  },
  {
   "cell_type": "code",
   "execution_count": 4,
   "metadata": {},
   "outputs": [],
   "source": [
    "train2 = pd.read_csv('training.csv')\n",
    "#train2['patient_zip3'] = train2['patient_zip3'].astype(str).str.zfill(5)\n",
    "# Remove the rows with more than 5 NA values\n",
    "train2 = train2.dropna(thresh=74)\n",
    "\n",
    "# Columns to drop\n",
    "# Columns to drop\n",
    "columns_to_drop = ['metastatic_first_novel_treatment', 'metastatic_first_novel_treatment_type', 'bmi', 'patient_id', 'breast_cancer_diagnosis_desc',\n",
    "                   'age_median','age_under_10',\t'age_10_to_19',\t'age_20s',\t'age_30s',\t'age_40s',\t'age_50s',\t'age_60s',\t'age_70s'\t,'age_over_80'\t,'male','female',\n",
    "                   #'Division', 'patient_zip3','patient_state', 'Region'#, 'metastatic_cancer_diagnosis_code'\n",
    "                   ]\n",
    "train2 = train2.drop(columns_to_drop, axis=1)\n",
    "\n",
    "# Define features and target variable\n",
    "X = deepcopy(train2)\n",
    "# make y a dataframe\n",
    "#y = deepcopy(pd.DataFrame(train['DiagPeriodL90D']))\n",
    "\n",
    "# Apply transformer\n",
    "def process_features2(df):\n",
    "    categorical_columns = df.select_dtypes(include='object').columns\n",
    "\n",
    "    pipeline_cat = Pipeline(\n",
    "        steps=[('encoder', OneHotEncoder(handle_unknown='ignore'))]\n",
    "    )\n",
    "\n",
    "    preprocessor = ColumnTransformer(\n",
    "        transformers=[\n",
    "            (\"cat\", pipeline_cat, categorical_columns)\n",
    "        ]\n",
    "    )\n",
    "\n",
    "    return preprocessor\n",
    "preprocessor_train2 = process_features2(X)"
   ]
  },
  {
   "cell_type": "code",
   "execution_count": 7,
   "metadata": {},
   "outputs": [
    {
     "data": {
      "text/html": [
       "<div>\n",
       "<style scoped>\n",
       "    .dataframe tbody tr th:only-of-type {\n",
       "        vertical-align: middle;\n",
       "    }\n",
       "\n",
       "    .dataframe tbody tr th {\n",
       "        vertical-align: top;\n",
       "    }\n",
       "\n",
       "    .dataframe thead th {\n",
       "        text-align: right;\n",
       "    }\n",
       "</style>\n",
       "<table border=\"1\" class=\"dataframe\">\n",
       "  <thead>\n",
       "    <tr style=\"text-align: right;\">\n",
       "      <th></th>\n",
       "      <th>0</th>\n",
       "    </tr>\n",
       "  </thead>\n",
       "  <tbody>\n",
       "    <tr>\n",
       "      <th>0</th>\n",
       "      <td>(0, 5)\\t1.0\\n  (0, 7)\\t1.0\\n  (0, 14)\\t1.0\\n...</td>\n",
       "    </tr>\n",
       "    <tr>\n",
       "      <th>1</th>\n",
       "      <td>(0, 4)\\t1.0\\n  (0, 6)\\t1.0\\n  (0, 14)\\t1.0\\n...</td>\n",
       "    </tr>\n",
       "    <tr>\n",
       "      <th>2</th>\n",
       "      <td>(0, 4)\\t1.0\\n  (0, 6)\\t1.0\\n  (0, 53)\\t1.0\\n...</td>\n",
       "    </tr>\n",
       "    <tr>\n",
       "      <th>3</th>\n",
       "      <td>(0, 4)\\t1.0\\n  (0, 6)\\t1.0\\n  (0, 14)\\t1.0\\n...</td>\n",
       "    </tr>\n",
       "    <tr>\n",
       "      <th>4</th>\n",
       "      <td>(0, 5)\\t1.0\\n  (0, 6)\\t1.0\\n  (0, 23)\\t1.0\\n...</td>\n",
       "    </tr>\n",
       "    <tr>\n",
       "      <th>...</th>\n",
       "      <td>...</td>\n",
       "    </tr>\n",
       "    <tr>\n",
       "      <th>12896</th>\n",
       "      <td>(0, 4)\\t1.0\\n  (0, 9)\\t1.0\\n  (0, 44)\\t1.0\\n...</td>\n",
       "    </tr>\n",
       "    <tr>\n",
       "      <th>12897</th>\n",
       "      <td>(0, 5)\\t1.0\\n  (0, 6)\\t1.0\\n  (0, 14)\\t1.0\\n...</td>\n",
       "    </tr>\n",
       "    <tr>\n",
       "      <th>12898</th>\n",
       "      <td>(0, 5)\\t1.0\\n  (0, 6)\\t1.0\\n  (0, 14)\\t1.0\\n...</td>\n",
       "    </tr>\n",
       "    <tr>\n",
       "      <th>12899</th>\n",
       "      <td>(0, 5)\\t1.0\\n  (0, 9)\\t1.0\\n  (0, 43)\\t1.0\\n...</td>\n",
       "    </tr>\n",
       "    <tr>\n",
       "      <th>12900</th>\n",
       "      <td>(0, 2)\\t1.0\\n  (0, 7)\\t1.0\\n  (0, 19)\\t1.0\\n...</td>\n",
       "    </tr>\n",
       "  </tbody>\n",
       "</table>\n",
       "<p>12901 rows × 1 columns</p>\n",
       "</div>"
      ],
      "text/plain": [
       "                                                       0\n",
       "0        (0, 5)\\t1.0\\n  (0, 7)\\t1.0\\n  (0, 14)\\t1.0\\n...\n",
       "1        (0, 4)\\t1.0\\n  (0, 6)\\t1.0\\n  (0, 14)\\t1.0\\n...\n",
       "2        (0, 4)\\t1.0\\n  (0, 6)\\t1.0\\n  (0, 53)\\t1.0\\n...\n",
       "3        (0, 4)\\t1.0\\n  (0, 6)\\t1.0\\n  (0, 14)\\t1.0\\n...\n",
       "4        (0, 5)\\t1.0\\n  (0, 6)\\t1.0\\n  (0, 23)\\t1.0\\n...\n",
       "...                                                  ...\n",
       "12896    (0, 4)\\t1.0\\n  (0, 9)\\t1.0\\n  (0, 44)\\t1.0\\n...\n",
       "12897    (0, 5)\\t1.0\\n  (0, 6)\\t1.0\\n  (0, 14)\\t1.0\\n...\n",
       "12898    (0, 5)\\t1.0\\n  (0, 6)\\t1.0\\n  (0, 14)\\t1.0\\n...\n",
       "12899    (0, 5)\\t1.0\\n  (0, 9)\\t1.0\\n  (0, 43)\\t1.0\\n...\n",
       "12900    (0, 2)\\t1.0\\n  (0, 7)\\t1.0\\n  (0, 19)\\t1.0\\n...\n",
       "\n",
       "[12901 rows x 1 columns]"
      ]
     },
     "execution_count": 7,
     "metadata": {},
     "output_type": "execute_result"
    }
   ],
   "source": [
    "pd.DataFrame(X)"
   ]
  },
  {
   "cell_type": "code",
   "execution_count": 5,
   "metadata": {},
   "outputs": [
    {
     "ename": "ValueError",
     "evalue": "Shape of passed values is (12901, 1), indices imply (12901, 170)",
     "output_type": "error",
     "traceback": [
      "\u001b[1;31m---------------------------------------------------------------------------\u001b[0m",
      "\u001b[1;31mValueError\u001b[0m                                Traceback (most recent call last)",
      "Cell \u001b[1;32mIn[5], line 2\u001b[0m\n\u001b[0;32m      1\u001b[0m X \u001b[38;5;241m=\u001b[39m preprocessor_train2\u001b[38;5;241m.\u001b[39mfit_transform(X)\n\u001b[1;32m----> 2\u001b[0m X \u001b[38;5;241m=\u001b[39m \u001b[43mpd\u001b[49m\u001b[38;5;241;43m.\u001b[39;49m\u001b[43mDataFrame\u001b[49m\u001b[43m(\u001b[49m\u001b[43mX\u001b[49m\u001b[43m,\u001b[49m\u001b[43m \u001b[49m\u001b[43mcolumns\u001b[49m\u001b[38;5;241;43m=\u001b[39;49m\u001b[43mpreprocessor_train2\u001b[49m\u001b[38;5;241;43m.\u001b[39;49m\u001b[43mget_feature_names_out\u001b[49m\u001b[43m(\u001b[49m\u001b[43m)\u001b[49m\u001b[43m)\u001b[49m\n",
      "File \u001b[1;32mc:\\Users\\pnhua\\anaconda3\\Lib\\site-packages\\pandas\\core\\frame.py:762\u001b[0m, in \u001b[0;36mDataFrame.__init__\u001b[1;34m(self, data, index, columns, dtype, copy)\u001b[0m\n\u001b[0;32m    754\u001b[0m         mgr \u001b[38;5;241m=\u001b[39m arrays_to_mgr(\n\u001b[0;32m    755\u001b[0m             arrays,\n\u001b[0;32m    756\u001b[0m             columns,\n\u001b[1;32m   (...)\u001b[0m\n\u001b[0;32m    759\u001b[0m             typ\u001b[38;5;241m=\u001b[39mmanager,\n\u001b[0;32m    760\u001b[0m         )\n\u001b[0;32m    761\u001b[0m     \u001b[38;5;28;01melse\u001b[39;00m:\n\u001b[1;32m--> 762\u001b[0m         mgr \u001b[38;5;241m=\u001b[39m \u001b[43mndarray_to_mgr\u001b[49m\u001b[43m(\u001b[49m\n\u001b[0;32m    763\u001b[0m \u001b[43m            \u001b[49m\u001b[43mdata\u001b[49m\u001b[43m,\u001b[49m\n\u001b[0;32m    764\u001b[0m \u001b[43m            \u001b[49m\u001b[43mindex\u001b[49m\u001b[43m,\u001b[49m\n\u001b[0;32m    765\u001b[0m \u001b[43m            \u001b[49m\u001b[43mcolumns\u001b[49m\u001b[43m,\u001b[49m\n\u001b[0;32m    766\u001b[0m \u001b[43m            \u001b[49m\u001b[43mdtype\u001b[49m\u001b[38;5;241;43m=\u001b[39;49m\u001b[43mdtype\u001b[49m\u001b[43m,\u001b[49m\n\u001b[0;32m    767\u001b[0m \u001b[43m            \u001b[49m\u001b[43mcopy\u001b[49m\u001b[38;5;241;43m=\u001b[39;49m\u001b[43mcopy\u001b[49m\u001b[43m,\u001b[49m\n\u001b[0;32m    768\u001b[0m \u001b[43m            \u001b[49m\u001b[43mtyp\u001b[49m\u001b[38;5;241;43m=\u001b[39;49m\u001b[43mmanager\u001b[49m\u001b[43m,\u001b[49m\n\u001b[0;32m    769\u001b[0m \u001b[43m        \u001b[49m\u001b[43m)\u001b[49m\n\u001b[0;32m    770\u001b[0m \u001b[38;5;28;01melse\u001b[39;00m:\n\u001b[0;32m    771\u001b[0m     mgr \u001b[38;5;241m=\u001b[39m dict_to_mgr(\n\u001b[0;32m    772\u001b[0m         {},\n\u001b[0;32m    773\u001b[0m         index,\n\u001b[1;32m   (...)\u001b[0m\n\u001b[0;32m    776\u001b[0m         typ\u001b[38;5;241m=\u001b[39mmanager,\n\u001b[0;32m    777\u001b[0m     )\n",
      "File \u001b[1;32mc:\\Users\\pnhua\\anaconda3\\Lib\\site-packages\\pandas\\core\\internals\\construction.py:349\u001b[0m, in \u001b[0;36mndarray_to_mgr\u001b[1;34m(values, index, columns, dtype, copy, typ)\u001b[0m\n\u001b[0;32m    344\u001b[0m \u001b[38;5;66;03m# _prep_ndarraylike ensures that values.ndim == 2 at this point\u001b[39;00m\n\u001b[0;32m    345\u001b[0m index, columns \u001b[38;5;241m=\u001b[39m _get_axes(\n\u001b[0;32m    346\u001b[0m     values\u001b[38;5;241m.\u001b[39mshape[\u001b[38;5;241m0\u001b[39m], values\u001b[38;5;241m.\u001b[39mshape[\u001b[38;5;241m1\u001b[39m], index\u001b[38;5;241m=\u001b[39mindex, columns\u001b[38;5;241m=\u001b[39mcolumns\n\u001b[0;32m    347\u001b[0m )\n\u001b[1;32m--> 349\u001b[0m \u001b[43m_check_values_indices_shape_match\u001b[49m\u001b[43m(\u001b[49m\u001b[43mvalues\u001b[49m\u001b[43m,\u001b[49m\u001b[43m \u001b[49m\u001b[43mindex\u001b[49m\u001b[43m,\u001b[49m\u001b[43m \u001b[49m\u001b[43mcolumns\u001b[49m\u001b[43m)\u001b[49m\n\u001b[0;32m    351\u001b[0m \u001b[38;5;28;01mif\u001b[39;00m typ \u001b[38;5;241m==\u001b[39m \u001b[38;5;124m\"\u001b[39m\u001b[38;5;124marray\u001b[39m\u001b[38;5;124m\"\u001b[39m:\n\u001b[0;32m    353\u001b[0m     \u001b[38;5;28;01mif\u001b[39;00m \u001b[38;5;28missubclass\u001b[39m(values\u001b[38;5;241m.\u001b[39mdtype\u001b[38;5;241m.\u001b[39mtype, \u001b[38;5;28mstr\u001b[39m):\n",
      "File \u001b[1;32mc:\\Users\\pnhua\\anaconda3\\Lib\\site-packages\\pandas\\core\\internals\\construction.py:420\u001b[0m, in \u001b[0;36m_check_values_indices_shape_match\u001b[1;34m(values, index, columns)\u001b[0m\n\u001b[0;32m    418\u001b[0m passed \u001b[38;5;241m=\u001b[39m values\u001b[38;5;241m.\u001b[39mshape\n\u001b[0;32m    419\u001b[0m implied \u001b[38;5;241m=\u001b[39m (\u001b[38;5;28mlen\u001b[39m(index), \u001b[38;5;28mlen\u001b[39m(columns))\n\u001b[1;32m--> 420\u001b[0m \u001b[38;5;28;01mraise\u001b[39;00m \u001b[38;5;167;01mValueError\u001b[39;00m(\u001b[38;5;124mf\u001b[39m\u001b[38;5;124m\"\u001b[39m\u001b[38;5;124mShape of passed values is \u001b[39m\u001b[38;5;132;01m{\u001b[39;00mpassed\u001b[38;5;132;01m}\u001b[39;00m\u001b[38;5;124m, indices imply \u001b[39m\u001b[38;5;132;01m{\u001b[39;00mimplied\u001b[38;5;132;01m}\u001b[39;00m\u001b[38;5;124m\"\u001b[39m)\n",
      "\u001b[1;31mValueError\u001b[0m: Shape of passed values is (12901, 1), indices imply (12901, 170)"
     ]
    }
   ],
   "source": [
    "X = preprocessor_train2.fit_transform(X)\n",
    "X = pd.DataFrame(X, columns=preprocessor_train2.get_feature_names_out())"
   ]
  },
  {
   "cell_type": "code",
   "execution_count": 250,
   "metadata": {},
   "outputs": [
    {
     "name": "stdout",
     "output_type": "stream",
     "text": [
      "(12901, 66)\n",
      "(12901, 227)\n"
     ]
    }
   ],
   "source": [
    "print(train2.shape)\n",
    "print(X.shape)"
   ]
  },
  {
   "cell_type": "code",
   "execution_count": 191,
   "metadata": {},
   "outputs": [
    {
     "name": "stdout",
     "output_type": "stream",
     "text": [
      "(12906, 83)\n",
      "(12901, 62)\n"
     ]
    }
   ],
   "source": [
    "train2 = pd.read_csv('training.csv')\n",
    "print(train2.shape)\n",
    "# Find any missing values in column DiagPeriodL90D\n",
    "train2['DiagPeriodL90D'].isna().sum()\n",
    "# Remove the rows with more than 5 NA values\n",
    "train2 = train2.dropna(thresh=74)\n",
    "\n",
    "# Columns to drop\n",
    "train2 = train2.drop(columns_to_drop, axis=1)\n",
    "\n",
    "print(train2.shape)"
   ]
  },
  {
   "cell_type": "code",
   "execution_count": null,
   "metadata": {},
   "outputs": [],
   "source": [
    "X['DiagPeriodL90D'] = train2['DiagPeriodL90D']"
   ]
  },
  {
   "cell_type": "code",
   "execution_count": 10,
   "metadata": {},
   "outputs": [
    {
     "data": {
      "text/html": [
       "<style type=\"text/css\">\n",
       "#T_c374a_row10_col1 {\n",
       "  background-color: lightgreen;\n",
       "}\n",
       "</style>\n",
       "<table id=\"T_c374a\">\n",
       "  <thead>\n",
       "    <tr>\n",
       "      <th class=\"blank level0\" >&nbsp;</th>\n",
       "      <th id=\"T_c374a_level0_col0\" class=\"col_heading level0 col0\" >Description</th>\n",
       "      <th id=\"T_c374a_level0_col1\" class=\"col_heading level0 col1\" >Value</th>\n",
       "    </tr>\n",
       "  </thead>\n",
       "  <tbody>\n",
       "    <tr>\n",
       "      <th id=\"T_c374a_level0_row0\" class=\"row_heading level0 row0\" >0</th>\n",
       "      <td id=\"T_c374a_row0_col0\" class=\"data row0 col0\" >Session id</td>\n",
       "      <td id=\"T_c374a_row0_col1\" class=\"data row0 col1\" >123</td>\n",
       "    </tr>\n",
       "    <tr>\n",
       "      <th id=\"T_c374a_level0_row1\" class=\"row_heading level0 row1\" >1</th>\n",
       "      <td id=\"T_c374a_row1_col0\" class=\"data row1 col0\" >Target</td>\n",
       "      <td id=\"T_c374a_row1_col1\" class=\"data row1 col1\" >DiagPeriodL90D</td>\n",
       "    </tr>\n",
       "    <tr>\n",
       "      <th id=\"T_c374a_level0_row2\" class=\"row_heading level0 row2\" >2</th>\n",
       "      <td id=\"T_c374a_row2_col0\" class=\"data row2 col0\" >Target type</td>\n",
       "      <td id=\"T_c374a_row2_col1\" class=\"data row2 col1\" >Regression</td>\n",
       "    </tr>\n",
       "    <tr>\n",
       "      <th id=\"T_c374a_level0_row3\" class=\"row_heading level0 row3\" >3</th>\n",
       "      <td id=\"T_c374a_row3_col0\" class=\"data row3 col0\" >Original data shape</td>\n",
       "      <td id=\"T_c374a_row3_col1\" class=\"data row3 col1\" >(12901, 66)</td>\n",
       "    </tr>\n",
       "    <tr>\n",
       "      <th id=\"T_c374a_level0_row4\" class=\"row_heading level0 row4\" >4</th>\n",
       "      <td id=\"T_c374a_row4_col0\" class=\"data row4 col0\" >Transformed data shape</td>\n",
       "      <td id=\"T_c374a_row4_col1\" class=\"data row4 col1\" >(12901, 83)</td>\n",
       "    </tr>\n",
       "    <tr>\n",
       "      <th id=\"T_c374a_level0_row5\" class=\"row_heading level0 row5\" >5</th>\n",
       "      <td id=\"T_c374a_row5_col0\" class=\"data row5 col0\" >Transformed train set shape</td>\n",
       "      <td id=\"T_c374a_row5_col1\" class=\"data row5 col1\" >(9030, 83)</td>\n",
       "    </tr>\n",
       "    <tr>\n",
       "      <th id=\"T_c374a_level0_row6\" class=\"row_heading level0 row6\" >6</th>\n",
       "      <td id=\"T_c374a_row6_col0\" class=\"data row6 col0\" >Transformed test set shape</td>\n",
       "      <td id=\"T_c374a_row6_col1\" class=\"data row6 col1\" >(3871, 83)</td>\n",
       "    </tr>\n",
       "    <tr>\n",
       "      <th id=\"T_c374a_level0_row7\" class=\"row_heading level0 row7\" >7</th>\n",
       "      <td id=\"T_c374a_row7_col0\" class=\"data row7 col0\" >Numeric features</td>\n",
       "      <td id=\"T_c374a_row7_col1\" class=\"data row7 col1\" >57</td>\n",
       "    </tr>\n",
       "    <tr>\n",
       "      <th id=\"T_c374a_level0_row8\" class=\"row_heading level0 row8\" >8</th>\n",
       "      <td id=\"T_c374a_row8_col0\" class=\"data row8 col0\" >Categorical features</td>\n",
       "      <td id=\"T_c374a_row8_col1\" class=\"data row8 col1\" >8</td>\n",
       "    </tr>\n",
       "    <tr>\n",
       "      <th id=\"T_c374a_level0_row9\" class=\"row_heading level0 row9\" >9</th>\n",
       "      <td id=\"T_c374a_row9_col0\" class=\"data row9 col0\" >Rows with missing values</td>\n",
       "      <td id=\"T_c374a_row9_col1\" class=\"data row9 col1\" >58.5%</td>\n",
       "    </tr>\n",
       "    <tr>\n",
       "      <th id=\"T_c374a_level0_row10\" class=\"row_heading level0 row10\" >10</th>\n",
       "      <td id=\"T_c374a_row10_col0\" class=\"data row10 col0\" >Preprocess</td>\n",
       "      <td id=\"T_c374a_row10_col1\" class=\"data row10 col1\" >True</td>\n",
       "    </tr>\n",
       "    <tr>\n",
       "      <th id=\"T_c374a_level0_row11\" class=\"row_heading level0 row11\" >11</th>\n",
       "      <td id=\"T_c374a_row11_col0\" class=\"data row11 col0\" >Imputation type</td>\n",
       "      <td id=\"T_c374a_row11_col1\" class=\"data row11 col1\" >simple</td>\n",
       "    </tr>\n",
       "    <tr>\n",
       "      <th id=\"T_c374a_level0_row12\" class=\"row_heading level0 row12\" >12</th>\n",
       "      <td id=\"T_c374a_row12_col0\" class=\"data row12 col0\" >Numeric imputation</td>\n",
       "      <td id=\"T_c374a_row12_col1\" class=\"data row12 col1\" >mean</td>\n",
       "    </tr>\n",
       "    <tr>\n",
       "      <th id=\"T_c374a_level0_row13\" class=\"row_heading level0 row13\" >13</th>\n",
       "      <td id=\"T_c374a_row13_col0\" class=\"data row13 col0\" >Categorical imputation</td>\n",
       "      <td id=\"T_c374a_row13_col1\" class=\"data row13 col1\" >mode</td>\n",
       "    </tr>\n",
       "    <tr>\n",
       "      <th id=\"T_c374a_level0_row14\" class=\"row_heading level0 row14\" >14</th>\n",
       "      <td id=\"T_c374a_row14_col0\" class=\"data row14 col0\" >Maximum one-hot encoding</td>\n",
       "      <td id=\"T_c374a_row14_col1\" class=\"data row14 col1\" >25</td>\n",
       "    </tr>\n",
       "    <tr>\n",
       "      <th id=\"T_c374a_level0_row15\" class=\"row_heading level0 row15\" >15</th>\n",
       "      <td id=\"T_c374a_row15_col0\" class=\"data row15 col0\" >Encoding method</td>\n",
       "      <td id=\"T_c374a_row15_col1\" class=\"data row15 col1\" >None</td>\n",
       "    </tr>\n",
       "    <tr>\n",
       "      <th id=\"T_c374a_level0_row16\" class=\"row_heading level0 row16\" >16</th>\n",
       "      <td id=\"T_c374a_row16_col0\" class=\"data row16 col0\" >Fold Generator</td>\n",
       "      <td id=\"T_c374a_row16_col1\" class=\"data row16 col1\" >KFold</td>\n",
       "    </tr>\n",
       "    <tr>\n",
       "      <th id=\"T_c374a_level0_row17\" class=\"row_heading level0 row17\" >17</th>\n",
       "      <td id=\"T_c374a_row17_col0\" class=\"data row17 col0\" >Fold Number</td>\n",
       "      <td id=\"T_c374a_row17_col1\" class=\"data row17 col1\" >10</td>\n",
       "    </tr>\n",
       "    <tr>\n",
       "      <th id=\"T_c374a_level0_row18\" class=\"row_heading level0 row18\" >18</th>\n",
       "      <td id=\"T_c374a_row18_col0\" class=\"data row18 col0\" >CPU Jobs</td>\n",
       "      <td id=\"T_c374a_row18_col1\" class=\"data row18 col1\" >-1</td>\n",
       "    </tr>\n",
       "    <tr>\n",
       "      <th id=\"T_c374a_level0_row19\" class=\"row_heading level0 row19\" >19</th>\n",
       "      <td id=\"T_c374a_row19_col0\" class=\"data row19 col0\" >Use GPU</td>\n",
       "      <td id=\"T_c374a_row19_col1\" class=\"data row19 col1\" >False</td>\n",
       "    </tr>\n",
       "    <tr>\n",
       "      <th id=\"T_c374a_level0_row20\" class=\"row_heading level0 row20\" >20</th>\n",
       "      <td id=\"T_c374a_row20_col0\" class=\"data row20 col0\" >Log Experiment</td>\n",
       "      <td id=\"T_c374a_row20_col1\" class=\"data row20 col1\" >False</td>\n",
       "    </tr>\n",
       "    <tr>\n",
       "      <th id=\"T_c374a_level0_row21\" class=\"row_heading level0 row21\" >21</th>\n",
       "      <td id=\"T_c374a_row21_col0\" class=\"data row21 col0\" >Experiment Name</td>\n",
       "      <td id=\"T_c374a_row21_col1\" class=\"data row21 col1\" >breast_cancer</td>\n",
       "    </tr>\n",
       "    <tr>\n",
       "      <th id=\"T_c374a_level0_row22\" class=\"row_heading level0 row22\" >22</th>\n",
       "      <td id=\"T_c374a_row22_col0\" class=\"data row22 col0\" >USI</td>\n",
       "      <td id=\"T_c374a_row22_col1\" class=\"data row22 col1\" >ae8c</td>\n",
       "    </tr>\n",
       "  </tbody>\n",
       "</table>\n"
      ],
      "text/plain": [
       "<pandas.io.formats.style.Styler at 0x1d2824a1a10>"
      ]
     },
     "metadata": {},
     "output_type": "display_data"
    },
    {
     "data": {
      "text/plain": [
       "<pycaret.regression.oop.RegressionExperiment at 0x1d282a11990>"
      ]
     },
     "execution_count": 10,
     "metadata": {},
     "output_type": "execute_result"
    }
   ],
   "source": [
    "# Set up pycaret environment\n",
    "regression_exp = RegressionExperiment()\n",
    "regression_exp.setup(data = train2, target = 'DiagPeriodL90D', session_id=123, experiment_name='breast_cancer', preprocess=True)"
   ]
  },
  {
   "cell_type": "code",
   "execution_count": 11,
   "metadata": {},
   "outputs": [
    {
     "data": {
      "text/html": [],
      "text/plain": [
       "<IPython.core.display.HTML object>"
      ]
     },
     "metadata": {},
     "output_type": "display_data"
    },
    {
     "data": {
      "text/html": [
       "<style type=\"text/css\">\n",
       "#T_27f19 th {\n",
       "  text-align: left;\n",
       "}\n",
       "#T_27f19_row0_col0, #T_27f19_row0_col1, #T_27f19_row0_col6, #T_27f19_row1_col0, #T_27f19_row1_col1, #T_27f19_row1_col2, #T_27f19_row1_col3, #T_27f19_row1_col4, #T_27f19_row1_col5, #T_27f19_row1_col6, #T_27f19_row2_col0, #T_27f19_row2_col1, #T_27f19_row2_col2, #T_27f19_row2_col3, #T_27f19_row2_col4, #T_27f19_row2_col5, #T_27f19_row2_col6, #T_27f19_row3_col0, #T_27f19_row3_col1, #T_27f19_row3_col2, #T_27f19_row3_col3, #T_27f19_row3_col4, #T_27f19_row3_col5, #T_27f19_row3_col6, #T_27f19_row4_col0, #T_27f19_row4_col1, #T_27f19_row4_col2, #T_27f19_row4_col3, #T_27f19_row4_col4, #T_27f19_row4_col5, #T_27f19_row4_col6, #T_27f19_row5_col0, #T_27f19_row5_col2, #T_27f19_row5_col3, #T_27f19_row5_col4, #T_27f19_row5_col5, #T_27f19_row6_col0, #T_27f19_row6_col1, #T_27f19_row6_col2, #T_27f19_row6_col3, #T_27f19_row6_col4, #T_27f19_row6_col5, #T_27f19_row6_col6, #T_27f19_row7_col0, #T_27f19_row7_col1, #T_27f19_row7_col2, #T_27f19_row7_col3, #T_27f19_row7_col4, #T_27f19_row7_col5, #T_27f19_row7_col6, #T_27f19_row8_col0, #T_27f19_row8_col1, #T_27f19_row8_col2, #T_27f19_row8_col3, #T_27f19_row8_col4, #T_27f19_row8_col5, #T_27f19_row8_col6, #T_27f19_row9_col0, #T_27f19_row9_col1, #T_27f19_row9_col2, #T_27f19_row9_col3, #T_27f19_row9_col4, #T_27f19_row9_col5, #T_27f19_row9_col6, #T_27f19_row10_col0, #T_27f19_row10_col1, #T_27f19_row10_col2, #T_27f19_row10_col3, #T_27f19_row10_col4, #T_27f19_row10_col5, #T_27f19_row10_col6, #T_27f19_row11_col0, #T_27f19_row11_col1, #T_27f19_row11_col2, #T_27f19_row11_col3, #T_27f19_row11_col4, #T_27f19_row11_col5, #T_27f19_row11_col6, #T_27f19_row12_col0, #T_27f19_row12_col1, #T_27f19_row12_col2, #T_27f19_row12_col3, #T_27f19_row12_col4, #T_27f19_row12_col5, #T_27f19_row12_col6, #T_27f19_row13_col0, #T_27f19_row13_col1, #T_27f19_row13_col2, #T_27f19_row13_col3, #T_27f19_row13_col4, #T_27f19_row13_col5, #T_27f19_row13_col6, #T_27f19_row14_col0, #T_27f19_row14_col1, #T_27f19_row14_col2, #T_27f19_row14_col3, #T_27f19_row14_col4, #T_27f19_row14_col5, #T_27f19_row14_col6, #T_27f19_row15_col0, #T_27f19_row15_col1, #T_27f19_row15_col2, #T_27f19_row15_col3, #T_27f19_row15_col4, #T_27f19_row15_col5, #T_27f19_row15_col6, #T_27f19_row16_col0, #T_27f19_row16_col1, #T_27f19_row16_col2, #T_27f19_row16_col3, #T_27f19_row16_col4, #T_27f19_row16_col5, #T_27f19_row16_col6, #T_27f19_row17_col0, #T_27f19_row17_col1, #T_27f19_row17_col2, #T_27f19_row17_col3, #T_27f19_row17_col4, #T_27f19_row17_col5, #T_27f19_row17_col6 {\n",
       "  text-align: left;\n",
       "}\n",
       "#T_27f19_row0_col2, #T_27f19_row0_col3, #T_27f19_row0_col4, #T_27f19_row0_col5, #T_27f19_row5_col1, #T_27f19_row5_col6 {\n",
       "  text-align: left;\n",
       "  background-color: yellow;\n",
       "}\n",
       "#T_27f19_row0_col7, #T_27f19_row1_col7, #T_27f19_row2_col7, #T_27f19_row3_col7, #T_27f19_row4_col7, #T_27f19_row5_col7, #T_27f19_row6_col7, #T_27f19_row7_col7, #T_27f19_row8_col7, #T_27f19_row9_col7, #T_27f19_row10_col7, #T_27f19_row11_col7, #T_27f19_row12_col7, #T_27f19_row13_col7, #T_27f19_row14_col7, #T_27f19_row15_col7, #T_27f19_row17_col7 {\n",
       "  text-align: left;\n",
       "  background-color: lightgrey;\n",
       "}\n",
       "#T_27f19_row16_col7 {\n",
       "  text-align: left;\n",
       "  background-color: yellow;\n",
       "  background-color: lightgrey;\n",
       "}\n",
       "</style>\n",
       "<table id=\"T_27f19\">\n",
       "  <thead>\n",
       "    <tr>\n",
       "      <th class=\"blank level0\" >&nbsp;</th>\n",
       "      <th id=\"T_27f19_level0_col0\" class=\"col_heading level0 col0\" >Model</th>\n",
       "      <th id=\"T_27f19_level0_col1\" class=\"col_heading level0 col1\" >MAE</th>\n",
       "      <th id=\"T_27f19_level0_col2\" class=\"col_heading level0 col2\" >MSE</th>\n",
       "      <th id=\"T_27f19_level0_col3\" class=\"col_heading level0 col3\" >RMSE</th>\n",
       "      <th id=\"T_27f19_level0_col4\" class=\"col_heading level0 col4\" >R2</th>\n",
       "      <th id=\"T_27f19_level0_col5\" class=\"col_heading level0 col5\" >RMSLE</th>\n",
       "      <th id=\"T_27f19_level0_col6\" class=\"col_heading level0 col6\" >MAPE</th>\n",
       "      <th id=\"T_27f19_level0_col7\" class=\"col_heading level0 col7\" >TT (Sec)</th>\n",
       "    </tr>\n",
       "  </thead>\n",
       "  <tbody>\n",
       "    <tr>\n",
       "      <th id=\"T_27f19_level0_row0\" class=\"row_heading level0 row0\" >gbr</th>\n",
       "      <td id=\"T_27f19_row0_col0\" class=\"data row0 col0\" >Gradient Boosting Regressor</td>\n",
       "      <td id=\"T_27f19_row0_col1\" class=\"data row0 col1\" >0.2995</td>\n",
       "      <td id=\"T_27f19_row0_col2\" class=\"data row0 col2\" >0.1505</td>\n",
       "      <td id=\"T_27f19_row0_col3\" class=\"data row0 col3\" >0.3878</td>\n",
       "      <td id=\"T_27f19_row0_col4\" class=\"data row0 col4\" >0.3556</td>\n",
       "      <td id=\"T_27f19_row0_col5\" class=\"data row0 col5\" >0.2708</td>\n",
       "      <td id=\"T_27f19_row0_col6\" class=\"data row0 col6\" >0.2385</td>\n",
       "      <td id=\"T_27f19_row0_col7\" class=\"data row0 col7\" >1.5550</td>\n",
       "    </tr>\n",
       "    <tr>\n",
       "      <th id=\"T_27f19_level0_row1\" class=\"row_heading level0 row1\" >br</th>\n",
       "      <td id=\"T_27f19_row1_col0\" class=\"data row1 col0\" >Bayesian Ridge</td>\n",
       "      <td id=\"T_27f19_row1_col1\" class=\"data row1 col1\" >0.3019</td>\n",
       "      <td id=\"T_27f19_row1_col2\" class=\"data row1 col2\" >0.1514</td>\n",
       "      <td id=\"T_27f19_row1_col3\" class=\"data row1 col3\" >0.3890</td>\n",
       "      <td id=\"T_27f19_row1_col4\" class=\"data row1 col4\" >0.3518</td>\n",
       "      <td id=\"T_27f19_row1_col5\" class=\"data row1 col5\" >0.2717</td>\n",
       "      <td id=\"T_27f19_row1_col6\" class=\"data row1 col6\" >0.2403</td>\n",
       "      <td id=\"T_27f19_row1_col7\" class=\"data row1 col7\" >0.1130</td>\n",
       "    </tr>\n",
       "    <tr>\n",
       "      <th id=\"T_27f19_level0_row2\" class=\"row_heading level0 row2\" >ridge</th>\n",
       "      <td id=\"T_27f19_row2_col0\" class=\"data row2 col0\" >Ridge Regression</td>\n",
       "      <td id=\"T_27f19_row2_col1\" class=\"data row2 col1\" >0.3000</td>\n",
       "      <td id=\"T_27f19_row2_col2\" class=\"data row2 col2\" >0.1515</td>\n",
       "      <td id=\"T_27f19_row2_col3\" class=\"data row2 col3\" >0.3892</td>\n",
       "      <td id=\"T_27f19_row2_col4\" class=\"data row2 col4\" >0.3513</td>\n",
       "      <td id=\"T_27f19_row2_col5\" class=\"data row2 col5\" >0.2717</td>\n",
       "      <td id=\"T_27f19_row2_col6\" class=\"data row2 col6\" >0.2387</td>\n",
       "      <td id=\"T_27f19_row2_col7\" class=\"data row2 col7\" >0.1010</td>\n",
       "    </tr>\n",
       "    <tr>\n",
       "      <th id=\"T_27f19_level0_row3\" class=\"row_heading level0 row3\" >lr</th>\n",
       "      <td id=\"T_27f19_row3_col0\" class=\"data row3 col0\" >Linear Regression</td>\n",
       "      <td id=\"T_27f19_row3_col1\" class=\"data row3 col1\" >0.2999</td>\n",
       "      <td id=\"T_27f19_row3_col2\" class=\"data row3 col2\" >0.1517</td>\n",
       "      <td id=\"T_27f19_row3_col3\" class=\"data row3 col3\" >0.3894</td>\n",
       "      <td id=\"T_27f19_row3_col4\" class=\"data row3 col4\" >0.3506</td>\n",
       "      <td id=\"T_27f19_row3_col5\" class=\"data row3 col5\" >0.2718</td>\n",
       "      <td id=\"T_27f19_row3_col6\" class=\"data row3 col6\" >0.2385</td>\n",
       "      <td id=\"T_27f19_row3_col7\" class=\"data row3 col7\" >0.9900</td>\n",
       "    </tr>\n",
       "    <tr>\n",
       "      <th id=\"T_27f19_level0_row4\" class=\"row_heading level0 row4\" >ada</th>\n",
       "      <td id=\"T_27f19_row4_col0\" class=\"data row4 col0\" >AdaBoost Regressor</td>\n",
       "      <td id=\"T_27f19_row4_col1\" class=\"data row4 col1\" >0.3054</td>\n",
       "      <td id=\"T_27f19_row4_col2\" class=\"data row4 col2\" >0.1529</td>\n",
       "      <td id=\"T_27f19_row4_col3\" class=\"data row4 col3\" >0.3909</td>\n",
       "      <td id=\"T_27f19_row4_col4\" class=\"data row4 col4\" >0.3455</td>\n",
       "      <td id=\"T_27f19_row4_col5\" class=\"data row4 col5\" >0.2722</td>\n",
       "      <td id=\"T_27f19_row4_col6\" class=\"data row4 col6\" >0.2472</td>\n",
       "      <td id=\"T_27f19_row4_col7\" class=\"data row4 col7\" >0.2250</td>\n",
       "    </tr>\n",
       "    <tr>\n",
       "      <th id=\"T_27f19_level0_row5\" class=\"row_heading level0 row5\" >lightgbm</th>\n",
       "      <td id=\"T_27f19_row5_col0\" class=\"data row5 col0\" >Light Gradient Boosting Machine</td>\n",
       "      <td id=\"T_27f19_row5_col1\" class=\"data row5 col1\" >0.2966</td>\n",
       "      <td id=\"T_27f19_row5_col2\" class=\"data row5 col2\" >0.1565</td>\n",
       "      <td id=\"T_27f19_row5_col3\" class=\"data row5 col3\" >0.3955</td>\n",
       "      <td id=\"T_27f19_row5_col4\" class=\"data row5 col4\" >0.3301</td>\n",
       "      <td id=\"T_27f19_row5_col5\" class=\"data row5 col5\" >0.2744</td>\n",
       "      <td id=\"T_27f19_row5_col6\" class=\"data row5 col6\" >0.2362</td>\n",
       "      <td id=\"T_27f19_row5_col7\" class=\"data row5 col7\" >0.5500</td>\n",
       "    </tr>\n",
       "    <tr>\n",
       "      <th id=\"T_27f19_level0_row6\" class=\"row_heading level0 row6\" >rf</th>\n",
       "      <td id=\"T_27f19_row6_col0\" class=\"data row6 col0\" >Random Forest Regressor</td>\n",
       "      <td id=\"T_27f19_row6_col1\" class=\"data row6 col1\" >0.3065</td>\n",
       "      <td id=\"T_27f19_row6_col2\" class=\"data row6 col2\" >0.1712</td>\n",
       "      <td id=\"T_27f19_row6_col3\" class=\"data row6 col3\" >0.4137</td>\n",
       "      <td id=\"T_27f19_row6_col4\" class=\"data row6 col4\" >0.2670</td>\n",
       "      <td id=\"T_27f19_row6_col5\" class=\"data row6 col5\" >0.2848</td>\n",
       "      <td id=\"T_27f19_row6_col6\" class=\"data row6 col6\" >0.2530</td>\n",
       "      <td id=\"T_27f19_row6_col7\" class=\"data row6 col7\" >6.3800</td>\n",
       "    </tr>\n",
       "    <tr>\n",
       "      <th id=\"T_27f19_level0_row7\" class=\"row_heading level0 row7\" >xgboost</th>\n",
       "      <td id=\"T_27f19_row7_col0\" class=\"data row7 col0\" >Extreme Gradient Boosting</td>\n",
       "      <td id=\"T_27f19_row7_col1\" class=\"data row7 col1\" >0.3128</td>\n",
       "      <td id=\"T_27f19_row7_col2\" class=\"data row7 col2\" >0.1795</td>\n",
       "      <td id=\"T_27f19_row7_col3\" class=\"data row7 col3\" >0.4236</td>\n",
       "      <td id=\"T_27f19_row7_col4\" class=\"data row7 col4\" >0.2315</td>\n",
       "      <td id=\"T_27f19_row7_col5\" class=\"data row7 col5\" >0.2898</td>\n",
       "      <td id=\"T_27f19_row7_col6\" class=\"data row7 col6\" >0.2501</td>\n",
       "      <td id=\"T_27f19_row7_col7\" class=\"data row7 col7\" >0.4830</td>\n",
       "    </tr>\n",
       "    <tr>\n",
       "      <th id=\"T_27f19_level0_row8\" class=\"row_heading level0 row8\" >et</th>\n",
       "      <td id=\"T_27f19_row8_col0\" class=\"data row8 col0\" >Extra Trees Regressor</td>\n",
       "      <td id=\"T_27f19_row8_col1\" class=\"data row8 col1\" >0.3069</td>\n",
       "      <td id=\"T_27f19_row8_col2\" class=\"data row8 col2\" >0.1899</td>\n",
       "      <td id=\"T_27f19_row8_col3\" class=\"data row8 col3\" >0.4356</td>\n",
       "      <td id=\"T_27f19_row8_col4\" class=\"data row8 col4\" >0.1872</td>\n",
       "      <td id=\"T_27f19_row8_col5\" class=\"data row8 col5\" >0.2987</td>\n",
       "      <td id=\"T_27f19_row8_col6\" class=\"data row8 col6\" >0.2536</td>\n",
       "      <td id=\"T_27f19_row8_col7\" class=\"data row8 col7\" >1.9100</td>\n",
       "    </tr>\n",
       "    <tr>\n",
       "      <th id=\"T_27f19_level0_row9\" class=\"row_heading level0 row9\" >omp</th>\n",
       "      <td id=\"T_27f19_row9_col0\" class=\"data row9 col0\" >Orthogonal Matching Pursuit</td>\n",
       "      <td id=\"T_27f19_row9_col1\" class=\"data row9 col1\" >0.4649</td>\n",
       "      <td id=\"T_27f19_row9_col2\" class=\"data row9 col2\" >0.2327</td>\n",
       "      <td id=\"T_27f19_row9_col3\" class=\"data row9 col3\" >0.4824</td>\n",
       "      <td id=\"T_27f19_row9_col4\" class=\"data row9 col4\" >0.0036</td>\n",
       "      <td id=\"T_27f19_row9_col5\" class=\"data row9 col5\" >0.3384</td>\n",
       "      <td id=\"T_27f19_row9_col6\" class=\"data row9 col6\" >0.3705</td>\n",
       "      <td id=\"T_27f19_row9_col7\" class=\"data row9 col7\" >0.0980</td>\n",
       "    </tr>\n",
       "    <tr>\n",
       "      <th id=\"T_27f19_level0_row10\" class=\"row_heading level0 row10\" >lasso</th>\n",
       "      <td id=\"T_27f19_row10_col0\" class=\"data row10 col0\" >Lasso Regression</td>\n",
       "      <td id=\"T_27f19_row10_col1\" class=\"data row10 col1\" >0.4665</td>\n",
       "      <td id=\"T_27f19_row10_col2\" class=\"data row10 col2\" >0.2334</td>\n",
       "      <td id=\"T_27f19_row10_col3\" class=\"data row10 col3\" >0.4831</td>\n",
       "      <td id=\"T_27f19_row10_col4\" class=\"data row10 col4\" >0.0008</td>\n",
       "      <td id=\"T_27f19_row10_col5\" class=\"data row10 col5\" >0.3389</td>\n",
       "      <td id=\"T_27f19_row10_col6\" class=\"data row10 col6\" >0.3717</td>\n",
       "      <td id=\"T_27f19_row10_col7\" class=\"data row10 col7\" >0.5160</td>\n",
       "    </tr>\n",
       "    <tr>\n",
       "      <th id=\"T_27f19_level0_row11\" class=\"row_heading level0 row11\" >llar</th>\n",
       "      <td id=\"T_27f19_row11_col0\" class=\"data row11 col0\" >Lasso Least Angle Regression</td>\n",
       "      <td id=\"T_27f19_row11_col1\" class=\"data row11 col1\" >0.4665</td>\n",
       "      <td id=\"T_27f19_row11_col2\" class=\"data row11 col2\" >0.2334</td>\n",
       "      <td id=\"T_27f19_row11_col3\" class=\"data row11 col3\" >0.4831</td>\n",
       "      <td id=\"T_27f19_row11_col4\" class=\"data row11 col4\" >0.0008</td>\n",
       "      <td id=\"T_27f19_row11_col5\" class=\"data row11 col5\" >0.3389</td>\n",
       "      <td id=\"T_27f19_row11_col6\" class=\"data row11 col6\" >0.3717</td>\n",
       "      <td id=\"T_27f19_row11_col7\" class=\"data row11 col7\" >0.1000</td>\n",
       "    </tr>\n",
       "    <tr>\n",
       "      <th id=\"T_27f19_level0_row12\" class=\"row_heading level0 row12\" >en</th>\n",
       "      <td id=\"T_27f19_row12_col0\" class=\"data row12 col0\" >Elastic Net</td>\n",
       "      <td id=\"T_27f19_row12_col1\" class=\"data row12 col1\" >0.4664</td>\n",
       "      <td id=\"T_27f19_row12_col2\" class=\"data row12 col2\" >0.2334</td>\n",
       "      <td id=\"T_27f19_row12_col3\" class=\"data row12 col3\" >0.4831</td>\n",
       "      <td id=\"T_27f19_row12_col4\" class=\"data row12 col4\" >0.0007</td>\n",
       "      <td id=\"T_27f19_row12_col5\" class=\"data row12 col5\" >0.3389</td>\n",
       "      <td id=\"T_27f19_row12_col6\" class=\"data row12 col6\" >0.3717</td>\n",
       "      <td id=\"T_27f19_row12_col7\" class=\"data row12 col7\" >0.1370</td>\n",
       "    </tr>\n",
       "    <tr>\n",
       "      <th id=\"T_27f19_level0_row13\" class=\"row_heading level0 row13\" >dummy</th>\n",
       "      <td id=\"T_27f19_row13_col0\" class=\"data row13 col0\" >Dummy Regressor</td>\n",
       "      <td id=\"T_27f19_row13_col1\" class=\"data row13 col1\" >0.4676</td>\n",
       "      <td id=\"T_27f19_row13_col2\" class=\"data row13 col2\" >0.2338</td>\n",
       "      <td id=\"T_27f19_row13_col3\" class=\"data row13 col3\" >0.4835</td>\n",
       "      <td id=\"T_27f19_row13_col4\" class=\"data row13 col4\" >-0.0011</td>\n",
       "      <td id=\"T_27f19_row13_col5\" class=\"data row13 col5\" >0.3392</td>\n",
       "      <td id=\"T_27f19_row13_col6\" class=\"data row13 col6\" >0.3725</td>\n",
       "      <td id=\"T_27f19_row13_col7\" class=\"data row13 col7\" >0.1050</td>\n",
       "    </tr>\n",
       "    <tr>\n",
       "      <th id=\"T_27f19_level0_row14\" class=\"row_heading level0 row14\" >huber</th>\n",
       "      <td id=\"T_27f19_row14_col0\" class=\"data row14 col0\" >Huber Regressor</td>\n",
       "      <td id=\"T_27f19_row14_col1\" class=\"data row14 col1\" >0.4679</td>\n",
       "      <td id=\"T_27f19_row14_col2\" class=\"data row14 col2\" >0.2402</td>\n",
       "      <td id=\"T_27f19_row14_col3\" class=\"data row14 col3\" >0.4900</td>\n",
       "      <td id=\"T_27f19_row14_col4\" class=\"data row14 col4\" >-0.0283</td>\n",
       "      <td id=\"T_27f19_row14_col5\" class=\"data row14 col5\" >0.3411</td>\n",
       "      <td id=\"T_27f19_row14_col6\" class=\"data row14 col6\" >0.3832</td>\n",
       "      <td id=\"T_27f19_row14_col7\" class=\"data row14 col7\" >0.2200</td>\n",
       "    </tr>\n",
       "    <tr>\n",
       "      <th id=\"T_27f19_level0_row15\" class=\"row_heading level0 row15\" >dt</th>\n",
       "      <td id=\"T_27f19_row15_col0\" class=\"data row15 col0\" >Decision Tree Regressor</td>\n",
       "      <td id=\"T_27f19_row15_col1\" class=\"data row15 col1\" >0.3011</td>\n",
       "      <td id=\"T_27f19_row15_col2\" class=\"data row15 col2\" >0.3009</td>\n",
       "      <td id=\"T_27f19_row15_col3\" class=\"data row15 col3\" >0.5483</td>\n",
       "      <td id=\"T_27f19_row15_col4\" class=\"data row15 col4\" >-0.2886</td>\n",
       "      <td id=\"T_27f19_row15_col5\" class=\"data row15 col5\" >0.3801</td>\n",
       "      <td id=\"T_27f19_row15_col6\" class=\"data row15 col6\" >0.2498</td>\n",
       "      <td id=\"T_27f19_row15_col7\" class=\"data row15 col7\" >0.1270</td>\n",
       "    </tr>\n",
       "    <tr>\n",
       "      <th id=\"T_27f19_level0_row16\" class=\"row_heading level0 row16\" >par</th>\n",
       "      <td id=\"T_27f19_row16_col0\" class=\"data row16 col0\" >Passive Aggressive Regressor</td>\n",
       "      <td id=\"T_27f19_row16_col1\" class=\"data row16 col1\" >0.5461</td>\n",
       "      <td id=\"T_27f19_row16_col2\" class=\"data row16 col2\" >0.4220</td>\n",
       "      <td id=\"T_27f19_row16_col3\" class=\"data row16 col3\" >0.6279</td>\n",
       "      <td id=\"T_27f19_row16_col4\" class=\"data row16 col4\" >-0.8046</td>\n",
       "      <td id=\"T_27f19_row16_col5\" class=\"data row16 col5\" >0.3877</td>\n",
       "      <td id=\"T_27f19_row16_col6\" class=\"data row16 col6\" >0.5520</td>\n",
       "      <td id=\"T_27f19_row16_col7\" class=\"data row16 col7\" >0.0620</td>\n",
       "    </tr>\n",
       "    <tr>\n",
       "      <th id=\"T_27f19_level0_row17\" class=\"row_heading level0 row17\" >lar</th>\n",
       "      <td id=\"T_27f19_row17_col0\" class=\"data row17 col0\" >Least Angle Regression</td>\n",
       "      <td id=\"T_27f19_row17_col1\" class=\"data row17 col1\" >115817965013882.5938</td>\n",
       "      <td id=\"T_27f19_row17_col2\" class=\"data row17 col2\" >100771632963560718207696240640.0000</td>\n",
       "      <td id=\"T_27f19_row17_col3\" class=\"data row17 col3\" >145067668696000.5938</td>\n",
       "      <td id=\"T_27f19_row17_col4\" class=\"data row17 col4\" >-430658220296673227832765186048.0000</td>\n",
       "      <td id=\"T_27f19_row17_col5\" class=\"data row17 col5\" >25.4594</td>\n",
       "      <td id=\"T_27f19_row17_col6\" class=\"data row17 col6\" >116944227026622.6719</td>\n",
       "      <td id=\"T_27f19_row17_col7\" class=\"data row17 col7\" >0.0830</td>\n",
       "    </tr>\n",
       "  </tbody>\n",
       "</table>\n"
      ],
      "text/plain": [
       "<pandas.io.formats.style.Styler at 0x1d284cd2150>"
      ]
     },
     "metadata": {},
     "output_type": "display_data"
    },
    {
     "data": {
      "application/vnd.jupyter.widget-view+json": {
       "model_id": "98e315e8192d4d2183dcb5784b214888",
       "version_major": 2,
       "version_minor": 0
      },
      "text/plain": [
       "Processing:   0%|          | 0/81 [00:00<?, ?it/s]"
      ]
     },
     "metadata": {},
     "output_type": "display_data"
    }
   ],
   "source": [
    "# compare baseline models\n",
    "best = regression_exp.compare_models()"
   ]
  },
  {
   "cell_type": "code",
   "execution_count": 12,
   "metadata": {},
   "outputs": [
    {
     "data": {
      "text/html": [],
      "text/plain": [
       "<IPython.core.display.HTML object>"
      ]
     },
     "metadata": {},
     "output_type": "display_data"
    },
    {
     "data": {
      "image/png": "[encoded data removed]",
      "text/plain": [
       "<Figure size 800x500 with 1 Axes>"
      ]
     },
     "metadata": {},
     "output_type": "display_data"
    }
   ],
   "source": [
    "# Feature Importance\n",
    "regression_exp.plot_model(best, plot = 'feature')"
   ]
  },
  {
   "cell_type": "code",
   "execution_count": 13,
   "metadata": {},
   "outputs": [
    {
     "data": {
      "text/html": [
       "<style>#sk-container-id-1 {color: black;background-color: white;}#sk-container-id-1 pre{padding: 0;}#sk-container-id-1 div.sk-toggleable {background-color: white;}#sk-container-id-1 label.sk-toggleable__label {cursor: pointer;display: block;width: 100%;margin-bottom: 0;padding: 0.3em;box-sizing: border-box;text-align: center;}#sk-container-id-1 label.sk-toggleable__label-arrow:before {content: \"▸\";float: left;margin-right: 0.25em;color: #696969;}#sk-container-id-1 label.sk-toggleable__label-arrow:hover:before {color: black;}#sk-container-id-1 div.sk-estimator:hover label.sk-toggleable__label-arrow:before {color: black;}#sk-container-id-1 div.sk-toggleable__content {max-height: 0;max-width: 0;overflow: hidden;text-align: left;background-color: #f0f8ff;}#sk-container-id-1 div.sk-toggleable__content pre {margin: 0.2em;color: black;border-radius: 0.25em;background-color: #f0f8ff;}#sk-container-id-1 input.sk-toggleable__control:checked~div.sk-toggleable__content {max-height: 200px;max-width: 100%;overflow: auto;}#sk-container-id-1 input.sk-toggleable__control:checked~label.sk-toggleable__label-arrow:before {content: \"▾\";}#sk-container-id-1 div.sk-estimator input.sk-toggleable__control:checked~label.sk-toggleable__label {background-color: #d4ebff;}#sk-container-id-1 div.sk-label input.sk-toggleable__control:checked~label.sk-toggleable__label {background-color: #d4ebff;}#sk-container-id-1 input.sk-hidden--visually {border: 0;clip: rect(1px 1px 1px 1px);clip: rect(1px, 1px, 1px, 1px);height: 1px;margin: -1px;overflow: hidden;padding: 0;position: absolute;width: 1px;}#sk-container-id-1 div.sk-estimator {font-family: monospace;background-color: #f0f8ff;border: 1px dotted black;border-radius: 0.25em;box-sizing: border-box;margin-bottom: 0.5em;}#sk-container-id-1 div.sk-estimator:hover {background-color: #d4ebff;}#sk-container-id-1 div.sk-parallel-item::after {content: \"\";width: 100%;border-bottom: 1px solid gray;flex-grow: 1;}#sk-container-id-1 div.sk-label:hover label.sk-toggleable__label {background-color: #d4ebff;}#sk-container-id-1 div.sk-serial::before {content: \"\";position: absolute;border-left: 1px solid gray;box-sizing: border-box;top: 0;bottom: 0;left: 50%;z-index: 0;}#sk-container-id-1 div.sk-serial {display: flex;flex-direction: column;align-items: center;background-color: white;padding-right: 0.2em;padding-left: 0.2em;position: relative;}#sk-container-id-1 div.sk-item {position: relative;z-index: 1;}#sk-container-id-1 div.sk-parallel {display: flex;align-items: stretch;justify-content: center;background-color: white;position: relative;}#sk-container-id-1 div.sk-item::before, #sk-container-id-1 div.sk-parallel-item::before {content: \"\";position: absolute;border-left: 1px solid gray;box-sizing: border-box;top: 0;bottom: 0;left: 50%;z-index: -1;}#sk-container-id-1 div.sk-parallel-item {display: flex;flex-direction: column;z-index: 1;position: relative;background-color: white;}#sk-container-id-1 div.sk-parallel-item:first-child::after {align-self: flex-end;width: 50%;}#sk-container-id-1 div.sk-parallel-item:last-child::after {align-self: flex-start;width: 50%;}#sk-container-id-1 div.sk-parallel-item:only-child::after {width: 0;}#sk-container-id-1 div.sk-dashed-wrapped {border: 1px dashed gray;margin: 0 0.4em 0.5em 0.4em;box-sizing: border-box;padding-bottom: 0.4em;background-color: white;}#sk-container-id-1 div.sk-label label {font-family: monospace;font-weight: bold;display: inline-block;line-height: 1.2em;}#sk-container-id-1 div.sk-label-container {text-align: center;}#sk-container-id-1 div.sk-container {/* jupyter's `normalize.less` sets `[hidden] { display: none; }` but bootstrap.min.css set `[hidden] { display: none !important; }` so we also need the `!important` here to be able to override the default hidden behavior on the sphinx rendered scikit-learn.org. See: https://github.com/scikit-learn/scikit-learn/issues/21755 */display: inline-block !important;position: relative;}#sk-container-id-1 div.sk-text-repr-fallback {display: none;}</style><div id=\"sk-container-id-1\" class=\"sk-top-container\"><div class=\"sk-text-repr-fallback\"><pre>GradientBoostingRegressor(random_state=123)</pre><b>In a Jupyter environment, please rerun this cell to show the HTML representation or trust the notebook. <br />On GitHub, the HTML representation is unable to render, please try loading this page with nbviewer.org.</b></div><div class=\"sk-container\" hidden><div class=\"sk-item\"><div class=\"sk-estimator sk-toggleable\"><input class=\"sk-toggleable__control sk-hidden--visually\" id=\"sk-estimator-id-1\" type=\"checkbox\" checked><label for=\"sk-estimator-id-1\" class=\"sk-toggleable__label sk-toggleable__label-arrow\">GradientBoostingRegressor</label><div class=\"sk-toggleable__content\"><pre>GradientBoostingRegressor(random_state=123)</pre></div></div></div></div></div>"
      ],
      "text/plain": [
       "GradientBoostingRegressor(random_state=123)"
      ]
     },
     "execution_count": 13,
     "metadata": {},
     "output_type": "execute_result"
    }
   ],
   "source": [
    "best"
   ]
  },
  {
   "cell_type": "code",
   "execution_count": 14,
   "metadata": {},
   "outputs": [
    {
     "data": {
      "text/html": [],
      "text/plain": [
       "<IPython.core.display.HTML object>"
      ]
     },
     "metadata": {},
     "output_type": "display_data"
    }
   ],
   "source": [
    "# predict model on new_data\n",
    "test = pd.read_csv('test.csv')\n",
    "X_test = test.drop(columns=columns_to_drop)\n",
    "\n",
    "predictions = regression_exp.predict_model(best, data = X_test)\n",
    "predictions.head()\n",
    "\n",
    "submission = pd.DataFrame({'patient_id': test['patient_id'], 'DiagPeriodL90D': predictions['prediction_label']})\n",
    "submission.to_csv('submission.csv', index=False)"
   ]
  }
 ],
 "metadata": {
  "kernelspec": {
   "display_name": "base",
   "language": "python",
   "name": "python3"
  },
  "language_info": {
   "codemirror_mode": {
    "name": "ipython",
    "version": 3
   },
   "file_extension": ".py",
   "mimetype": "text/x-python",
   "name": "python",
   "nbconvert_exporter": "python",
   "pygments_lexer": "ipython3",
   "version": "3.11.5"
  }
 },
 "nbformat": 4,
 "nbformat_minor": 2
}
